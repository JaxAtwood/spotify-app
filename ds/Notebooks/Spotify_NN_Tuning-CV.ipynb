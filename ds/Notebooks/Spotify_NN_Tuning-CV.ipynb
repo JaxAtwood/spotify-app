{
  "nbformat": 4,
  "nbformat_minor": 0,
  "metadata": {
    "colab": {
      "name": "Spotify_NN_TuningCV.ipynb",
      "provenance": [],
      "collapsed_sections": []
    },
    "kernelspec": {
      "name": "python3",
      "display_name": "Python 3"
    },
    "accelerator": "GPU"
  },
  "cells": [
    {
      "cell_type": "markdown",
      "metadata": {
        "id": "PQZK1Q-wHMhr",
        "colab_type": "text"
      },
      "source": [
        "# NeuralNetwork."
      ]
    },
    {
      "cell_type": "code",
      "metadata": {
        "id": "Xd6cgX-TTUV_",
        "colab_type": "code",
        "colab": {}
      },
      "source": [
        "# imports.\n",
        "import pandas as pd\n",
        "from tensorflow.keras.preprocessing import sequence\n",
        "from tensorflow.keras.models import Sequential\n",
        "from tensorflow.keras.layers import Dense, Dropout, LSTM\n",
        "from tensorflow.keras.utils import to_categorical\n",
        "from tensorflow.keras.metrics import top_k_categorical_accuracy\n",
        "from sklearn.preprocessing import StandardScaler\n",
        "from sklearn.model_selection import GridSearchCV\n",
        "from tensorflow.keras.wrappers.scikit_learn import KerasClassifier\n",
        "from tensorflow.keras.optimizers import Adam, SGD\n",
        "import matplotlib.pyplot as plt"
      ],
      "execution_count": 0,
      "outputs": []
    },
    {
      "cell_type": "code",
      "metadata": {
        "id": "QW-fT6lVT9Tc",
        "colab_type": "code",
        "colab": {
          "base_uri": "https://localhost:8080/",
          "height": 341
        },
        "outputId": "e7f9f418-275c-460a-97f7-dc14dbe7650e"
      },
      "source": [
        "# read in the data.\n",
        "df = pd.read_csv('https://raw.githubusercontent.com/spotify-song-suggester-1/spotify-app/master/ds/Data/SpotifyTracks_doubleforloop_genre_year.csv',index_col=[0])\n",
        "# show the data frame shape.\n",
        "print(df.shape)\n",
        "# show the data frame with headers.\n",
        "df.head()"
      ],
      "execution_count": 2,
      "outputs": [
        {
          "output_type": "stream",
          "text": [
            "(164449, 20)\n"
          ],
          "name": "stdout"
        },
        {
          "output_type": "execute_result",
          "data": {
            "text/html": [
              "<div>\n",
              "<style scoped>\n",
              "    .dataframe tbody tr th:only-of-type {\n",
              "        vertical-align: middle;\n",
              "    }\n",
              "\n",
              "    .dataframe tbody tr th {\n",
              "        vertical-align: top;\n",
              "    }\n",
              "\n",
              "    .dataframe thead th {\n",
              "        text-align: right;\n",
              "    }\n",
              "</style>\n",
              "<table border=\"1\" class=\"dataframe\">\n",
              "  <thead>\n",
              "    <tr style=\"text-align: right;\">\n",
              "      <th></th>\n",
              "      <th>artist_name</th>\n",
              "      <th>track_name</th>\n",
              "      <th>track_id</th>\n",
              "      <th>popularity</th>\n",
              "      <th>year</th>\n",
              "      <th>genre</th>\n",
              "      <th>id</th>\n",
              "      <th>acousticness</th>\n",
              "      <th>danceability</th>\n",
              "      <th>duration_ms</th>\n",
              "      <th>energy</th>\n",
              "      <th>instrumentalness</th>\n",
              "      <th>key</th>\n",
              "      <th>liveness</th>\n",
              "      <th>loudness</th>\n",
              "      <th>mode</th>\n",
              "      <th>speechiness</th>\n",
              "      <th>tempo</th>\n",
              "      <th>time_signature</th>\n",
              "      <th>valence</th>\n",
              "    </tr>\n",
              "  </thead>\n",
              "  <tbody>\n",
              "    <tr>\n",
              "      <th>0</th>\n",
              "      <td>Gorillaz</td>\n",
              "      <td>On Melancholy Hill</td>\n",
              "      <td>0q6LuUqGLUiCPP1cbdwFs3</td>\n",
              "      <td>75</td>\n",
              "      <td>2010</td>\n",
              "      <td>alternative</td>\n",
              "      <td>0</td>\n",
              "      <td>0.000015</td>\n",
              "      <td>0.689</td>\n",
              "      <td>233867</td>\n",
              "      <td>0.739</td>\n",
              "      <td>0.509000</td>\n",
              "      <td>2</td>\n",
              "      <td>0.0640</td>\n",
              "      <td>-5.810</td>\n",
              "      <td>1</td>\n",
              "      <td>0.0260</td>\n",
              "      <td>120.423</td>\n",
              "      <td>4</td>\n",
              "      <td>0.578</td>\n",
              "    </tr>\n",
              "    <tr>\n",
              "      <th>1</th>\n",
              "      <td>Avenged Sevenfold</td>\n",
              "      <td>Nightmare</td>\n",
              "      <td>4UEo1b0wWrtHMC8bVqPiH8</td>\n",
              "      <td>70</td>\n",
              "      <td>2010</td>\n",
              "      <td>alternative</td>\n",
              "      <td>1</td>\n",
              "      <td>0.000318</td>\n",
              "      <td>0.554</td>\n",
              "      <td>374453</td>\n",
              "      <td>0.949</td>\n",
              "      <td>0.000100</td>\n",
              "      <td>2</td>\n",
              "      <td>0.2000</td>\n",
              "      <td>-4.928</td>\n",
              "      <td>1</td>\n",
              "      <td>0.0787</td>\n",
              "      <td>129.984</td>\n",
              "      <td>4</td>\n",
              "      <td>0.233</td>\n",
              "    </tr>\n",
              "    <tr>\n",
              "      <th>2</th>\n",
              "      <td>The Black Keys</td>\n",
              "      <td>Howlin' for You</td>\n",
              "      <td>0grFc6klR3hxoHLcgCYsF4</td>\n",
              "      <td>66</td>\n",
              "      <td>2010</td>\n",
              "      <td>alternative</td>\n",
              "      <td>2</td>\n",
              "      <td>0.028000</td>\n",
              "      <td>0.705</td>\n",
              "      <td>191800</td>\n",
              "      <td>0.735</td>\n",
              "      <td>0.078300</td>\n",
              "      <td>11</td>\n",
              "      <td>0.1120</td>\n",
              "      <td>-6.646</td>\n",
              "      <td>1</td>\n",
              "      <td>0.0931</td>\n",
              "      <td>132.627</td>\n",
              "      <td>4</td>\n",
              "      <td>0.448</td>\n",
              "    </tr>\n",
              "    <tr>\n",
              "      <th>3</th>\n",
              "      <td>My Darkest Days</td>\n",
              "      <td>Porn Star Dancing</td>\n",
              "      <td>3Q8zopc4ABXhysDb1sgLVW</td>\n",
              "      <td>65</td>\n",
              "      <td>2010</td>\n",
              "      <td>alternative</td>\n",
              "      <td>3</td>\n",
              "      <td>0.013900</td>\n",
              "      <td>0.477</td>\n",
              "      <td>199013</td>\n",
              "      <td>0.917</td>\n",
              "      <td>0.000000</td>\n",
              "      <td>2</td>\n",
              "      <td>0.0756</td>\n",
              "      <td>-3.399</td>\n",
              "      <td>1</td>\n",
              "      <td>0.0837</td>\n",
              "      <td>160.044</td>\n",
              "      <td>4</td>\n",
              "      <td>0.271</td>\n",
              "    </tr>\n",
              "    <tr>\n",
              "      <th>4</th>\n",
              "      <td>Volbeat</td>\n",
              "      <td>A Warrior's Call</td>\n",
              "      <td>0hTiTU0yqthnByyZDD3bcc</td>\n",
              "      <td>62</td>\n",
              "      <td>2010</td>\n",
              "      <td>alternative</td>\n",
              "      <td>4</td>\n",
              "      <td>0.000750</td>\n",
              "      <td>0.374</td>\n",
              "      <td>263080</td>\n",
              "      <td>0.903</td>\n",
              "      <td>0.000006</td>\n",
              "      <td>10</td>\n",
              "      <td>0.2440</td>\n",
              "      <td>-4.490</td>\n",
              "      <td>1</td>\n",
              "      <td>0.0825</td>\n",
              "      <td>109.118</td>\n",
              "      <td>3</td>\n",
              "      <td>0.429</td>\n",
              "    </tr>\n",
              "  </tbody>\n",
              "</table>\n",
              "</div>"
            ],
            "text/plain": [
              "         artist_name          track_name  ... time_signature  valence\n",
              "0           Gorillaz  On Melancholy Hill  ...              4    0.578\n",
              "1  Avenged Sevenfold           Nightmare  ...              4    0.233\n",
              "2     The Black Keys     Howlin' for You  ...              4    0.448\n",
              "3    My Darkest Days   Porn Star Dancing  ...              4    0.271\n",
              "4            Volbeat    A Warrior's Call  ...              3    0.429\n",
              "\n",
              "[5 rows x 20 columns]"
            ]
          },
          "metadata": {
            "tags": []
          },
          "execution_count": 2
        }
      ]
    },
    {
      "cell_type": "code",
      "metadata": {
        "id": "p7cYOHfLykeM",
        "colab_type": "code",
        "outputId": "5bb07f97-f382-4609-f9f1-bccc4e37b52c",
        "colab": {
          "base_uri": "https://localhost:8080/",
          "height": 341
        }
      },
      "source": [
        "# new data frame with encoded genre column.\n",
        "genreframe = pd.concat([df,pd.get_dummies(df['genre'], prefix='genre')],axis=1)\n",
        "# show the data frame with headers.\n",
        "print(genreframe.shape)\n",
        "genreframe.head()"
      ],
      "execution_count": 3,
      "outputs": [
        {
          "output_type": "stream",
          "text": [
            "(164449, 32)\n"
          ],
          "name": "stdout"
        },
        {
          "output_type": "execute_result",
          "data": {
            "text/html": [
              "<div>\n",
              "<style scoped>\n",
              "    .dataframe tbody tr th:only-of-type {\n",
              "        vertical-align: middle;\n",
              "    }\n",
              "\n",
              "    .dataframe tbody tr th {\n",
              "        vertical-align: top;\n",
              "    }\n",
              "\n",
              "    .dataframe thead th {\n",
              "        text-align: right;\n",
              "    }\n",
              "</style>\n",
              "<table border=\"1\" class=\"dataframe\">\n",
              "  <thead>\n",
              "    <tr style=\"text-align: right;\">\n",
              "      <th></th>\n",
              "      <th>artist_name</th>\n",
              "      <th>track_name</th>\n",
              "      <th>track_id</th>\n",
              "      <th>popularity</th>\n",
              "      <th>year</th>\n",
              "      <th>genre</th>\n",
              "      <th>id</th>\n",
              "      <th>acousticness</th>\n",
              "      <th>danceability</th>\n",
              "      <th>duration_ms</th>\n",
              "      <th>energy</th>\n",
              "      <th>instrumentalness</th>\n",
              "      <th>key</th>\n",
              "      <th>liveness</th>\n",
              "      <th>loudness</th>\n",
              "      <th>mode</th>\n",
              "      <th>speechiness</th>\n",
              "      <th>tempo</th>\n",
              "      <th>time_signature</th>\n",
              "      <th>valence</th>\n",
              "      <th>genre_alternative</th>\n",
              "      <th>genre_country</th>\n",
              "      <th>genre_dance</th>\n",
              "      <th>genre_folk</th>\n",
              "      <th>genre_grunge</th>\n",
              "      <th>genre_indie</th>\n",
              "      <th>genre_jazz</th>\n",
              "      <th>genre_metal</th>\n",
              "      <th>genre_pop</th>\n",
              "      <th>genre_punk</th>\n",
              "      <th>genre_rap</th>\n",
              "      <th>genre_rock</th>\n",
              "    </tr>\n",
              "  </thead>\n",
              "  <tbody>\n",
              "    <tr>\n",
              "      <th>0</th>\n",
              "      <td>Gorillaz</td>\n",
              "      <td>On Melancholy Hill</td>\n",
              "      <td>0q6LuUqGLUiCPP1cbdwFs3</td>\n",
              "      <td>75</td>\n",
              "      <td>2010</td>\n",
              "      <td>alternative</td>\n",
              "      <td>0</td>\n",
              "      <td>0.000015</td>\n",
              "      <td>0.689</td>\n",
              "      <td>233867</td>\n",
              "      <td>0.739</td>\n",
              "      <td>0.509000</td>\n",
              "      <td>2</td>\n",
              "      <td>0.0640</td>\n",
              "      <td>-5.810</td>\n",
              "      <td>1</td>\n",
              "      <td>0.0260</td>\n",
              "      <td>120.423</td>\n",
              "      <td>4</td>\n",
              "      <td>0.578</td>\n",
              "      <td>1</td>\n",
              "      <td>0</td>\n",
              "      <td>0</td>\n",
              "      <td>0</td>\n",
              "      <td>0</td>\n",
              "      <td>0</td>\n",
              "      <td>0</td>\n",
              "      <td>0</td>\n",
              "      <td>0</td>\n",
              "      <td>0</td>\n",
              "      <td>0</td>\n",
              "      <td>0</td>\n",
              "    </tr>\n",
              "    <tr>\n",
              "      <th>1</th>\n",
              "      <td>Avenged Sevenfold</td>\n",
              "      <td>Nightmare</td>\n",
              "      <td>4UEo1b0wWrtHMC8bVqPiH8</td>\n",
              "      <td>70</td>\n",
              "      <td>2010</td>\n",
              "      <td>alternative</td>\n",
              "      <td>1</td>\n",
              "      <td>0.000318</td>\n",
              "      <td>0.554</td>\n",
              "      <td>374453</td>\n",
              "      <td>0.949</td>\n",
              "      <td>0.000100</td>\n",
              "      <td>2</td>\n",
              "      <td>0.2000</td>\n",
              "      <td>-4.928</td>\n",
              "      <td>1</td>\n",
              "      <td>0.0787</td>\n",
              "      <td>129.984</td>\n",
              "      <td>4</td>\n",
              "      <td>0.233</td>\n",
              "      <td>1</td>\n",
              "      <td>0</td>\n",
              "      <td>0</td>\n",
              "      <td>0</td>\n",
              "      <td>0</td>\n",
              "      <td>0</td>\n",
              "      <td>0</td>\n",
              "      <td>0</td>\n",
              "      <td>0</td>\n",
              "      <td>0</td>\n",
              "      <td>0</td>\n",
              "      <td>0</td>\n",
              "    </tr>\n",
              "    <tr>\n",
              "      <th>2</th>\n",
              "      <td>The Black Keys</td>\n",
              "      <td>Howlin' for You</td>\n",
              "      <td>0grFc6klR3hxoHLcgCYsF4</td>\n",
              "      <td>66</td>\n",
              "      <td>2010</td>\n",
              "      <td>alternative</td>\n",
              "      <td>2</td>\n",
              "      <td>0.028000</td>\n",
              "      <td>0.705</td>\n",
              "      <td>191800</td>\n",
              "      <td>0.735</td>\n",
              "      <td>0.078300</td>\n",
              "      <td>11</td>\n",
              "      <td>0.1120</td>\n",
              "      <td>-6.646</td>\n",
              "      <td>1</td>\n",
              "      <td>0.0931</td>\n",
              "      <td>132.627</td>\n",
              "      <td>4</td>\n",
              "      <td>0.448</td>\n",
              "      <td>1</td>\n",
              "      <td>0</td>\n",
              "      <td>0</td>\n",
              "      <td>0</td>\n",
              "      <td>0</td>\n",
              "      <td>0</td>\n",
              "      <td>0</td>\n",
              "      <td>0</td>\n",
              "      <td>0</td>\n",
              "      <td>0</td>\n",
              "      <td>0</td>\n",
              "      <td>0</td>\n",
              "    </tr>\n",
              "    <tr>\n",
              "      <th>3</th>\n",
              "      <td>My Darkest Days</td>\n",
              "      <td>Porn Star Dancing</td>\n",
              "      <td>3Q8zopc4ABXhysDb1sgLVW</td>\n",
              "      <td>65</td>\n",
              "      <td>2010</td>\n",
              "      <td>alternative</td>\n",
              "      <td>3</td>\n",
              "      <td>0.013900</td>\n",
              "      <td>0.477</td>\n",
              "      <td>199013</td>\n",
              "      <td>0.917</td>\n",
              "      <td>0.000000</td>\n",
              "      <td>2</td>\n",
              "      <td>0.0756</td>\n",
              "      <td>-3.399</td>\n",
              "      <td>1</td>\n",
              "      <td>0.0837</td>\n",
              "      <td>160.044</td>\n",
              "      <td>4</td>\n",
              "      <td>0.271</td>\n",
              "      <td>1</td>\n",
              "      <td>0</td>\n",
              "      <td>0</td>\n",
              "      <td>0</td>\n",
              "      <td>0</td>\n",
              "      <td>0</td>\n",
              "      <td>0</td>\n",
              "      <td>0</td>\n",
              "      <td>0</td>\n",
              "      <td>0</td>\n",
              "      <td>0</td>\n",
              "      <td>0</td>\n",
              "    </tr>\n",
              "    <tr>\n",
              "      <th>4</th>\n",
              "      <td>Volbeat</td>\n",
              "      <td>A Warrior's Call</td>\n",
              "      <td>0hTiTU0yqthnByyZDD3bcc</td>\n",
              "      <td>62</td>\n",
              "      <td>2010</td>\n",
              "      <td>alternative</td>\n",
              "      <td>4</td>\n",
              "      <td>0.000750</td>\n",
              "      <td>0.374</td>\n",
              "      <td>263080</td>\n",
              "      <td>0.903</td>\n",
              "      <td>0.000006</td>\n",
              "      <td>10</td>\n",
              "      <td>0.2440</td>\n",
              "      <td>-4.490</td>\n",
              "      <td>1</td>\n",
              "      <td>0.0825</td>\n",
              "      <td>109.118</td>\n",
              "      <td>3</td>\n",
              "      <td>0.429</td>\n",
              "      <td>1</td>\n",
              "      <td>0</td>\n",
              "      <td>0</td>\n",
              "      <td>0</td>\n",
              "      <td>0</td>\n",
              "      <td>0</td>\n",
              "      <td>0</td>\n",
              "      <td>0</td>\n",
              "      <td>0</td>\n",
              "      <td>0</td>\n",
              "      <td>0</td>\n",
              "      <td>0</td>\n",
              "    </tr>\n",
              "  </tbody>\n",
              "</table>\n",
              "</div>"
            ],
            "text/plain": [
              "         artist_name          track_name  ... genre_rap  genre_rock\n",
              "0           Gorillaz  On Melancholy Hill  ...         0           0\n",
              "1  Avenged Sevenfold           Nightmare  ...         0           0\n",
              "2     The Black Keys     Howlin' for You  ...         0           0\n",
              "3    My Darkest Days   Porn Star Dancing  ...         0           0\n",
              "4            Volbeat    A Warrior's Call  ...         0           0\n",
              "\n",
              "[5 rows x 32 columns]"
            ]
          },
          "metadata": {
            "tags": []
          },
          "execution_count": 3
        }
      ]
    },
    {
      "cell_type": "code",
      "metadata": {
        "id": "OLXpKFMn21FC",
        "colab_type": "code",
        "outputId": "d76f720f-336f-407e-df13-e4b8ce6b3c37",
        "colab": {
          "base_uri": "https://localhost:8080/",
          "height": 247
        }
      },
      "source": [
        "# show only the audio features.\n",
        "genreframe.iloc[0,7:20]"
      ],
      "execution_count": 4,
      "outputs": [
        {
          "output_type": "execute_result",
          "data": {
            "text/plain": [
              "acousticness        1.51e-05\n",
              "danceability           0.689\n",
              "duration_ms           233867\n",
              "energy                 0.739\n",
              "instrumentalness       0.509\n",
              "key                        2\n",
              "liveness               0.064\n",
              "loudness               -5.81\n",
              "mode                       1\n",
              "speechiness            0.026\n",
              "tempo                120.423\n",
              "time_signature             4\n",
              "valence                0.578\n",
              "Name: 0, dtype: object"
            ]
          },
          "metadata": {
            "tags": []
          },
          "execution_count": 4
        }
      ]
    },
    {
      "cell_type": "code",
      "metadata": {
        "id": "7XxUNwzqq2sk",
        "colab_type": "code",
        "outputId": "55b84493-6d9d-4322-9380-26fe4f9f3e35",
        "colab": {
          "base_uri": "https://localhost:8080/",
          "height": 231
        }
      },
      "source": [
        "# set the X_train data on the audio features.\n",
        "X_train = genreframe.iloc[:,7:20].to_numpy()\n",
        "# set the standard scalar \n",
        "scaler = StandardScaler()\n",
        "# fit the scalar on the X_train data.\n",
        "X_scaled = scaler.fit_transform(X_train)\n",
        "# show the X_scaled array.\n",
        "X_scaled"
      ],
      "execution_count": 5,
      "outputs": [
        {
          "output_type": "execute_result",
          "data": {
            "text/plain": [
              "array([[-0.81353437,  0.86273319,  0.01422737, ..., -0.07457545,\n",
              "         0.21919423,  0.52020022],\n",
              "       [-0.81253793,  0.02764277,  1.61395879, ...,  0.24680209,\n",
              "         0.21919423, -0.95936143],\n",
              "       [-0.72147348,  0.96170687, -0.46445403, ...,  0.33564226,\n",
              "         0.21919423, -0.03731576],\n",
              "       ...,\n",
              "       [ 0.35424623,  1.02975127,  0.17080273, ..., -0.0196848 ,\n",
              "         0.21919423,  1.42080297],\n",
              "       [-0.80624809, -0.62187201, -1.57989421, ..., -1.07440547,\n",
              "         0.21919423,  1.22781667],\n",
              "       [-0.42211418,  1.23388449, -0.24267685, ..., -0.99696024,\n",
              "         0.21919423, -0.50048289]])"
            ]
          },
          "metadata": {
            "tags": []
          },
          "execution_count": 5
        }
      ]
    },
    {
      "cell_type": "code",
      "metadata": {
        "id": "iRCoXukYv3bI",
        "colab_type": "code",
        "outputId": "767309a6-2f61-4d65-abc8-4d16c1c079b4",
        "colab": {
          "base_uri": "https://localhost:8080/",
          "height": 214
        }
      },
      "source": [
        "# create a list of the genres.\n",
        "genres = genreframe.genre.unique().tolist()\n",
        "genres"
      ],
      "execution_count": 6,
      "outputs": [
        {
          "output_type": "execute_result",
          "data": {
            "text/plain": [
              "['alternative',\n",
              " 'country',\n",
              " 'dance',\n",
              " 'folk',\n",
              " 'grunge',\n",
              " 'indie',\n",
              " 'jazz',\n",
              " 'metal',\n",
              " 'pop',\n",
              " 'punk',\n",
              " 'rap',\n",
              " 'rock']"
            ]
          },
          "metadata": {
            "tags": []
          },
          "execution_count": 6
        }
      ]
    },
    {
      "cell_type": "code",
      "metadata": {
        "id": "fohOUtlQs-0H",
        "colab_type": "code",
        "outputId": "1d96b5e7-bcb0-49c8-ebd9-3839d7beba67",
        "colab": {
          "base_uri": "https://localhost:8080/",
          "height": 148
        }
      },
      "source": [
        "onehots = genreframe.iloc[:,20:]\n",
        "y_train = onehots.to_numpy()\n",
        "print(y_train.shape)\n",
        "y_train"
      ],
      "execution_count": 7,
      "outputs": [
        {
          "output_type": "stream",
          "text": [
            "(164449, 12)\n"
          ],
          "name": "stdout"
        },
        {
          "output_type": "execute_result",
          "data": {
            "text/plain": [
              "array([[1, 0, 0, ..., 0, 0, 0],\n",
              "       [1, 0, 0, ..., 0, 0, 0],\n",
              "       [1, 0, 0, ..., 0, 0, 0],\n",
              "       ...,\n",
              "       [0, 0, 0, ..., 0, 0, 1],\n",
              "       [0, 0, 0, ..., 0, 0, 1],\n",
              "       [0, 0, 0, ..., 0, 0, 1]], dtype=uint8)"
            ]
          },
          "metadata": {
            "tags": []
          },
          "execution_count": 7
        }
      ]
    },
    {
      "cell_type": "code",
      "metadata": {
        "id": "_XFBrQTyUejP",
        "colab_type": "code",
        "colab": {}
      },
      "source": [
        "# function for NN model.\n",
        "def create_model():\n",
        "    # set the model.\n",
        "    model = Sequential()\n",
        "    # hidden layers.\n",
        "    model.add(Dense(26, input_dim=13, activation='relu'))\n",
        "    model.add(Dense(26, activation='relu'))\n",
        "    model.add(Dense(26, activation='relu'))\n",
        "    model.add(Dense(12,activation='softmax'))\n",
        "    # function for top 3.\n",
        "    def top_3_accuracy(y_true, y_pred):\n",
        "        return top_k_categorical_accuracy(y_true, y_pred, k=3)\n",
        "\n",
        "    optimizer = Adam()\n",
        "\n",
        "    # compile the model.\n",
        "    model.compile(loss='categorical_crossentropy',\n",
        "                        optimizer=optimizer,\n",
        "                        metrics=['accuracy'])\n",
        "    return model"
      ],
      "execution_count": 0,
      "outputs": []
    },
    {
      "cell_type": "code",
      "metadata": {
        "id": "Ygl6RH8CL2KN",
        "colab_type": "code",
        "colab": {
          "base_uri": "https://localhost:8080/",
          "height": 350
        },
        "outputId": "a8cf7e10-459b-4eec-88d2-6e3e596f5497"
      },
      "source": [
        "# set the model.\n",
        "model = create_model()\n",
        "model.summary()"
      ],
      "execution_count": 10,
      "outputs": [
        {
          "output_type": "stream",
          "text": [
            "WARNING:tensorflow:From /usr/local/lib/python3.6/dist-packages/tensorflow_core/python/ops/resource_variable_ops.py:1630: calling BaseResourceVariable.__init__ (from tensorflow.python.ops.resource_variable_ops) with constraint is deprecated and will be removed in a future version.\n",
            "Instructions for updating:\n",
            "If using Keras pass *_constraint arguments to layers.\n",
            "Model: \"sequential\"\n",
            "_________________________________________________________________\n",
            "Layer (type)                 Output Shape              Param #   \n",
            "=================================================================\n",
            "dense (Dense)                (None, 26)                364       \n",
            "_________________________________________________________________\n",
            "dense_1 (Dense)              (None, 26)                702       \n",
            "_________________________________________________________________\n",
            "dense_2 (Dense)              (None, 26)                702       \n",
            "_________________________________________________________________\n",
            "dense_3 (Dense)              (None, 12)                324       \n",
            "=================================================================\n",
            "Total params: 2,092\n",
            "Trainable params: 2,092\n",
            "Non-trainable params: 0\n",
            "_________________________________________________________________\n"
          ],
          "name": "stdout"
        }
      ]
    },
    {
      "cell_type": "code",
      "metadata": {
        "id": "eE8a9-JTL9Sj",
        "colab_type": "code",
        "colab": {
          "base_uri": "https://localhost:8080/",
          "height": 709
        },
        "outputId": "bcfa705f-567b-4ec2-9cb1-baa4aeb92604"
      },
      "source": [
        "# set the model.\n",
        "model = create_model()\n",
        "# fit the model with parameters.\n",
        "model.fit(X_scaled, y_train, validation_split=0.2, batch_size=200, epochs=20)"
      ],
      "execution_count": 12,
      "outputs": [
        {
          "output_type": "stream",
          "text": [
            "Train on 131559 samples, validate on 32890 samples\n",
            "Epoch 1/20\n",
            "131559/131559 [==============================] - 2s 15us/sample - loss: 2.0056 - acc: 0.3072 - val_loss: 1.8977 - val_acc: 0.3657\n",
            "Epoch 2/20\n",
            "131559/131559 [==============================] - 2s 14us/sample - loss: 1.8784 - acc: 0.3505 - val_loss: 1.8780 - val_acc: 0.3760\n",
            "Epoch 3/20\n",
            "131559/131559 [==============================] - 2s 14us/sample - loss: 1.8594 - acc: 0.3572 - val_loss: 1.8702 - val_acc: 0.3749\n",
            "Epoch 4/20\n",
            "131559/131559 [==============================] - 2s 15us/sample - loss: 1.8479 - acc: 0.3613 - val_loss: 1.8597 - val_acc: 0.3798\n",
            "Epoch 5/20\n",
            "131559/131559 [==============================] - 2s 14us/sample - loss: 1.8394 - acc: 0.3640 - val_loss: 1.8574 - val_acc: 0.3814\n",
            "Epoch 6/20\n",
            "131559/131559 [==============================] - 2s 14us/sample - loss: 1.8326 - acc: 0.3653 - val_loss: 1.8383 - val_acc: 0.3892\n",
            "Epoch 7/20\n",
            "131559/131559 [==============================] - 2s 14us/sample - loss: 1.8279 - acc: 0.3672 - val_loss: 1.8366 - val_acc: 0.3874\n",
            "Epoch 8/20\n",
            "131559/131559 [==============================] - 2s 14us/sample - loss: 1.8236 - acc: 0.3682 - val_loss: 1.8442 - val_acc: 0.3840\n",
            "Epoch 9/20\n",
            "131559/131559 [==============================] - 2s 14us/sample - loss: 1.8206 - acc: 0.3699 - val_loss: 1.8274 - val_acc: 0.3915\n",
            "Epoch 10/20\n",
            "131559/131559 [==============================] - 2s 14us/sample - loss: 1.8174 - acc: 0.3705 - val_loss: 1.8382 - val_acc: 0.3810\n",
            "Epoch 11/20\n",
            "131559/131559 [==============================] - 2s 14us/sample - loss: 1.8152 - acc: 0.3713 - val_loss: 1.8295 - val_acc: 0.3896\n",
            "Epoch 12/20\n",
            "131559/131559 [==============================] - 2s 14us/sample - loss: 1.8125 - acc: 0.3726 - val_loss: 1.8419 - val_acc: 0.3832\n",
            "Epoch 13/20\n",
            "131559/131559 [==============================] - 2s 14us/sample - loss: 1.8105 - acc: 0.3724 - val_loss: 1.8245 - val_acc: 0.3938\n",
            "Epoch 14/20\n",
            "131559/131559 [==============================] - 2s 14us/sample - loss: 1.8085 - acc: 0.3734 - val_loss: 1.8282 - val_acc: 0.3901\n",
            "Epoch 15/20\n",
            "131559/131559 [==============================] - 2s 14us/sample - loss: 1.8076 - acc: 0.3734 - val_loss: 1.8388 - val_acc: 0.3843\n",
            "Epoch 16/20\n",
            "131559/131559 [==============================] - 2s 14us/sample - loss: 1.8057 - acc: 0.3748 - val_loss: 1.8371 - val_acc: 0.3823\n",
            "Epoch 17/20\n",
            "131559/131559 [==============================] - 2s 14us/sample - loss: 1.8043 - acc: 0.3752 - val_loss: 1.8358 - val_acc: 0.3877\n",
            "Epoch 18/20\n",
            "131559/131559 [==============================] - 2s 14us/sample - loss: 1.8025 - acc: 0.3756 - val_loss: 1.8173 - val_acc: 0.3924\n",
            "Epoch 19/20\n",
            "131559/131559 [==============================] - 2s 14us/sample - loss: 1.8013 - acc: 0.3759 - val_loss: 1.8167 - val_acc: 0.3928\n",
            "Epoch 20/20\n",
            "131559/131559 [==============================] - 2s 14us/sample - loss: 1.8004 - acc: 0.3760 - val_loss: 1.8275 - val_acc: 0.3874\n"
          ],
          "name": "stdout"
        },
        {
          "output_type": "execute_result",
          "data": {
            "text/plain": [
              "<tensorflow.python.keras.callbacks.History at 0x7fa6f26a7860>"
            ]
          },
          "metadata": {
            "tags": []
          },
          "execution_count": 12
        }
      ]
    },
    {
      "cell_type": "code",
      "metadata": {
        "id": "3C-elPWFugoH",
        "colab_type": "code",
        "colab": {}
      },
      "source": [
        "# plot the accuracy vs epochs.\n",
        "plt.plot(history.history['acc'])\n",
        "plt.plot(history.history['val_acc'])\n",
        "plt.title('model accuracy')\n",
        "plt.ylabel('accuracy')\n",
        "plt.xlabel('epoch')\n",
        "plt.legend(['train', 'test'], loc='center right')\n",
        "# show the graph.\n",
        "plt.show()"
      ],
      "execution_count": 0,
      "outputs": []
    },
    {
      "cell_type": "markdown",
      "metadata": {
        "id": "rV3gl4GGMdhy",
        "colab_type": "text"
      },
      "source": [
        "### Batch Size."
      ]
    },
    {
      "cell_type": "code",
      "metadata": {
        "id": "KNYIM33-Mbs4",
        "colab_type": "code",
        "colab": {}
      },
      "source": [
        "# function for NN model.\n",
        "def create_model():\n",
        "    # set the model.\n",
        "    model = Sequential()\n",
        "    # hidden layers.\n",
        "    model.add(Dense(26, input_dim=13, activation='relu'))\n",
        "    model.add(Dense(26, activation='relu'))\n",
        "    model.add(Dense(26, activation='relu'))\n",
        "    model.add(Dense(12,activation='softmax'))\n",
        "    # function for top 3.\n",
        "    def top_3_accuracy(y_true, y_pred):\n",
        "        return top_k_categorical_accuracy(y_true, y_pred, k=3)\n",
        "    # compile the model.\n",
        "    model.compile(loss='categorical_crossentropy',\n",
        "                        optimizer='adam',\n",
        "                        metrics=['accuracy'])\n",
        "    return model"
      ],
      "execution_count": 0,
      "outputs": []
    },
    {
      "cell_type": "code",
      "metadata": {
        "id": "I2GHJazLMr5I",
        "colab_type": "code",
        "colab": {}
      },
      "source": [
        "# set the model with kerasclassifier.\n",
        "model = KerasClassifier(build_fn=create_model, verbose=0)"
      ],
      "execution_count": 0,
      "outputs": []
    },
    {
      "cell_type": "code",
      "metadata": {
        "id": "n6KPzaFyNIcA",
        "colab_type": "code",
        "colab": {}
      },
      "source": [
        "# set the parameters for batch size.\n",
        "param_grid = {'batch_size': [10, 20, 30, 40, 50, 100]}"
      ],
      "execution_count": 0,
      "outputs": []
    },
    {
      "cell_type": "code",
      "metadata": {
        "id": "n3RS7HIFNSxV",
        "colab_type": "code",
        "colab": {
          "base_uri": "https://localhost:8080/",
          "height": 132
        },
        "outputId": "85c7890d-ae89-4e76-deb2-9821be5f64fc"
      },
      "source": [
        "# set the gridsearch.\n",
        "grid = GridSearchCV(estimator=model, param_grid=param_grid, n_jobs=1)\n",
        "grid_result = grid.fit(X_scaled, y_train)\n",
        "# show the results.\n",
        "print(f\"Best: {grid_result.best_score_} using {grid_result.best_params_}\")\n",
        "means = grid_result.cv_results_['mean_test_score']\n",
        "stds = grid_result.cv_results_['std_test_score']\n",
        "params = grid_result.cv_results_['params']\n",
        "for mean, stdev, param in zip(means, stds, params):\n",
        "    print(f\"Means: {mean}, Stdev: {stdev} with: {param}\")"
      ],
      "execution_count": 40,
      "outputs": [
        {
          "output_type": "stream",
          "text": [
            "Best: 0.35273563861846924 using {'batch_size': 20}\n",
            "Means: 0.3524437665939331, Stdev: 0.019404246883930283 with: {'batch_size': 10}\n",
            "Means: 0.35273563861846924, Stdev: 0.019255442225379327 with: {'batch_size': 20}\n",
            "Means: 0.3527234673500061, Stdev: 0.019018882278608488 with: {'batch_size': 30}\n",
            "Means: 0.3503883719444275, Stdev: 0.018017765171301013 with: {'batch_size': 40}\n",
            "Means: 0.3486066460609436, Stdev: 0.014345853511393053 with: {'batch_size': 50}\n",
            "Means: 0.3463384985923767, Stdev: 0.015720864354716486 with: {'batch_size': 100}\n"
          ],
          "name": "stdout"
        }
      ]
    },
    {
      "cell_type": "markdown",
      "metadata": {
        "id": "dxyXN-50P8FG",
        "colab_type": "text"
      },
      "source": [
        "### Epochs."
      ]
    },
    {
      "cell_type": "code",
      "metadata": {
        "id": "twmuWaKXQAFm",
        "colab_type": "code",
        "colab": {}
      },
      "source": [
        "# function for NN model.\n",
        "def create_model():\n",
        "    # set the model.\n",
        "    model = Sequential()\n",
        "    # hidden layers.\n",
        "    model.add(Dense(26, input_dim=13, activation='relu'))\n",
        "    model.add(Dense(26, activation='relu'))\n",
        "    model.add(Dense(26, activation='relu'))\n",
        "    model.add(Dense(12,activation='softmax'))\n",
        "    # function for top 3.\n",
        "    def top_3_accuracy(y_true, y_pred):\n",
        "        return top_k_categorical_accuracy(y_true, y_pred, k=3)\n",
        "    # compile the model.\n",
        "    model.compile(loss='categorical_crossentropy',\n",
        "                        optimizer='adam',\n",
        "                        metrics=['accuracy'])\n",
        "    return model"
      ],
      "execution_count": 0,
      "outputs": []
    },
    {
      "cell_type": "code",
      "metadata": {
        "id": "9kMLQiYaQAKc",
        "colab_type": "code",
        "colab": {}
      },
      "source": [
        "# set the model with kerasclassifier.\n",
        "model = KerasClassifier(build_fn=create_model, batch_size=20, verbose=0)"
      ],
      "execution_count": 0,
      "outputs": []
    },
    {
      "cell_type": "code",
      "metadata": {
        "id": "Wg_TyH6qQAIN",
        "colab_type": "code",
        "colab": {}
      },
      "source": [
        "# set the parameters for epochs.\n",
        "param_grid = {'epochs': [10, 30, 50, 70, 100]}"
      ],
      "execution_count": 0,
      "outputs": []
    },
    {
      "cell_type": "code",
      "metadata": {
        "id": "l-j_N4WbQ3sB",
        "colab_type": "code",
        "colab": {}
      },
      "source": [
        "# set the gridsearch.\n",
        "grid = GridSearchCV(estimator=model, param_grid=param_grid, n_jobs=1)\n",
        "grid_result = grid.fit(X_scaled, y_train)\n",
        "# show the results.\n",
        "print(f\"Best: {grid_result.best_score_} using {grid_result.best_params_}\")\n",
        "means = grid_result.cv_results_['mean_test_score']\n",
        "stds = grid_result.cv_results_['std_test_score']\n",
        "params = grid_result.cv_results_['params']\n",
        "for mean, stdev, param in zip(means, stds, params):\n",
        "    print(f\"Means: {mean}, Stdev: {stdev} with: {param}\")"
      ],
      "execution_count": 0,
      "outputs": []
    },
    {
      "cell_type": "markdown",
      "metadata": {
        "id": "lPaHbCdJPEF3",
        "colab_type": "text"
      },
      "source": [
        "### Optimizer."
      ]
    },
    {
      "cell_type": "code",
      "metadata": {
        "id": "ipA7pcOZQ92J",
        "colab_type": "code",
        "colab": {}
      },
      "source": [
        "# function for NN model.\n",
        "def create_model(optimizer='adam'):\n",
        "    # set the model.\n",
        "    model = Sequential()\n",
        "    # hidden layers.\n",
        "    model.add(Dense(26, input_dim=13, activation='relu'))\n",
        "    model.add(Dense(26, activation='relu'))\n",
        "    model.add(Dense(26, activation='relu'))\n",
        "    model.add(Dense(12,activation='softmax'))\n",
        "    # function for top 3.\n",
        "    def top_3_accuracy(y_true, y_pred):\n",
        "        return top_k_categorical_accuracy(y_true, y_pred, k=3)\n",
        "\n",
        "    # compile the model.\n",
        "    model.compile(loss='categorical_crossentropy',\n",
        "                        optimizer='adam',\n",
        "                        metrics=['accuracy'])\n",
        "    return model"
      ],
      "execution_count": 0,
      "outputs": []
    },
    {
      "cell_type": "code",
      "metadata": {
        "id": "gURgxs91Q94_",
        "colab_type": "code",
        "colab": {}
      },
      "source": [
        "model = KerasClassifier(build_fn=create_model, epochs=2, batch_size=20, verbose=1)"
      ],
      "execution_count": 0,
      "outputs": []
    },
    {
      "cell_type": "code",
      "metadata": {
        "id": "A77OZ4Q3Q98W",
        "colab_type": "code",
        "colab": {}
      },
      "source": [
        "# set the parameters for optimizer.\n",
        "optimizer = ['SGD', 'RMSprop', 'Adagrad', 'Adadelta', 'Adam', 'Adamax', 'Nadam']\n",
        "param_grid = dict(optimizer=optimizer)"
      ],
      "execution_count": 0,
      "outputs": []
    },
    {
      "cell_type": "code",
      "metadata": {
        "id": "OU3wcEbKREzp",
        "colab_type": "code",
        "colab": {}
      },
      "source": [
        "# set the gridsearch.\n",
        "grid = GridSearchCV(estimator=model, param_grid=param_grid, n_jobs=1)\n",
        "grid_result = grid.fit(X_scaled, y_train)\n",
        "# show the results.\n",
        "print(f\"Best: {grid_result.best_score_} using {grid_result.best_params_}\")\n",
        "means = grid_result.cv_results_['mean_test_score']\n",
        "stds = grid_result.cv_results_['std_test_score']\n",
        "params = grid_result.cv_results_['params']\n",
        "for mean, stdev, param in zip(means, stds, params):\n",
        "    print(f\"Means: {mean}, Stdev: {stdev} with: {param}\")"
      ],
      "execution_count": 0,
      "outputs": []
    },
    {
      "cell_type": "markdown",
      "metadata": {
        "id": "sXCtFmJbRG1W",
        "colab_type": "text"
      },
      "source": [
        "### learning Rate."
      ]
    },
    {
      "cell_type": "code",
      "metadata": {
        "id": "ZPrib6ktRIz4",
        "colab_type": "code",
        "colab": {}
      },
      "source": [
        "# function for NN model.\n",
        "def create_model(learn_rate=0.01):\n",
        "    # set the model.\n",
        "    model = Sequential()\n",
        "    # hidden layers.\n",
        "    model.add(Dense(26, input_dim=13, activation='relu'))\n",
        "    model.add(Dense(26, activation='relu'))\n",
        "    model.add(Dense(26, activation='relu'))\n",
        "    model.add(Dense(12,activation='softmax'))\n",
        "    # function for top 3.\n",
        "    def top_3_accuracy(y_true, y_pred):\n",
        "        return top_k_categorical_accuracy(y_true, y_pred, k=3)\n",
        "\n",
        "    # set the optimizer.\n",
        "    optimizer = Adam(lr=learn_rate)\n",
        "    # compile the model.\n",
        "    model.compile(loss='categorical_crossentropy',\n",
        "                        optimizer=optimizer,\n",
        "                        metrics=['accuracy'])\n",
        "    return model"
      ],
      "execution_count": 0,
      "outputs": []
    },
    {
      "cell_type": "code",
      "metadata": {
        "id": "x_zRbzR7RI2D",
        "colab_type": "code",
        "colab": {}
      },
      "source": [
        "model = KerasClassifier(build_fn=create_model, epochs=2, batch_size=20, verbose=0)"
      ],
      "execution_count": 0,
      "outputs": []
    },
    {
      "cell_type": "code",
      "metadata": {
        "id": "S2Rz4wBlRI6K",
        "colab_type": "code",
        "colab": {}
      },
      "source": [
        "# set the parameters for learn rate.\n",
        "learn_rate = [0, 0.001, 0.01, 0.05]\n",
        "param_grid = dict(learn_rate=learn_rate)"
      ],
      "execution_count": 0,
      "outputs": []
    },
    {
      "cell_type": "code",
      "metadata": {
        "id": "FOGaWkCNRI4P",
        "colab_type": "code",
        "colab": {
          "base_uri": "https://localhost:8080/",
          "height": 99
        },
        "outputId": "712b8bfb-9cff-4388-c618-bda6d444a643"
      },
      "source": [
        "# set the gridsearch.\n",
        "grid = GridSearchCV(estimator=model, param_grid=param_grid, n_jobs=1)\n",
        "grid_result = grid.fit(X_scaled, y_train)\n",
        "# show the results.\n",
        "print(f\"Best: {grid_result.best_score_} using {grid_result.best_params_}\")\n",
        "means = grid_result.cv_results_['mean_test_score']\n",
        "stds = grid_result.cv_results_['std_test_score']\n",
        "params = grid_result.cv_results_['params']\n",
        "for mean, stdev, param in zip(means, stds, params):\n",
        "    print(f\"Means: {mean}, Stdev: {stdev} with: {param}\")"
      ],
      "execution_count": 20,
      "outputs": [
        {
          "output_type": "stream",
          "text": [
            "Best: 0.360397607088089 using {'learn_rate': 0.001}\n",
            "Means: 0.3572172403335571, Stdev: 0.017568420028037764 with: {'learn_rate': 0}\n",
            "Means: 0.360397607088089, Stdev: 0.01969457336273759 with: {'learn_rate': 0.001}\n",
            "Means: 0.3593577742576599, Stdev: 0.01843075745253979 with: {'learn_rate': 0.01}\n",
            "Means: 0.3571929633617401, Stdev: 0.02148785370383387 with: {'learn_rate': 0.05}\n"
          ],
          "name": "stdout"
        }
      ]
    },
    {
      "cell_type": "markdown",
      "metadata": {
        "id": "xyFaWOZlRjCJ",
        "colab_type": "text"
      },
      "source": [
        "### Activation Function."
      ]
    },
    {
      "cell_type": "code",
      "metadata": {
        "id": "l287_A5aRk5q",
        "colab_type": "code",
        "colab": {}
      },
      "source": [
        "# function for NN model.\n",
        "def create_model(activation='relu'):\n",
        "    # set the model.\n",
        "    model = Sequential()\n",
        "    # hidden layers.\n",
        "    model.add(Dense(26, input_dim=13, activation=activation))\n",
        "    model.add(Dense(26, activation=activation))\n",
        "    model.add(Dense(26, activation=activation))\n",
        "    model.add(Dense(12,activation='softmax'))\n",
        "    # function for top 3.\n",
        "    def top_3_accuracy(y_true, y_pred):\n",
        "        return top_k_categorical_accuracy(y_true, y_pred, k=3)\n",
        "\n",
        "    # set the optimizer.\n",
        "    optimizer = Adam(lr=0.001)\n",
        "    # compile the model.\n",
        "    model.compile(loss='categorical_crossentropy',\n",
        "                        optimizer=optimizer,\n",
        "                        metrics=['accuracy'])\n",
        "    return model"
      ],
      "execution_count": 0,
      "outputs": []
    },
    {
      "cell_type": "code",
      "metadata": {
        "id": "HbOlMtxERk70",
        "colab_type": "code",
        "colab": {}
      },
      "source": [
        "model = KerasClassifier(build_fn=create_model, epochs=2, batch_size=20, verbose=0)"
      ],
      "execution_count": 0,
      "outputs": []
    },
    {
      "cell_type": "code",
      "metadata": {
        "id": "lFV9dVgBRk-i",
        "colab_type": "code",
        "colab": {}
      },
      "source": [
        "# define the grid search parameters\n",
        "activation = ['softmax', 'softplus', 'softsign', 'relu', 'tanh', 'sigmoid', 'hard_sigmoid', 'linear']\n",
        "param_grid = dict(activation=activation)"
      ],
      "execution_count": 0,
      "outputs": []
    },
    {
      "cell_type": "code",
      "metadata": {
        "id": "wo1gqELZSEVu",
        "colab_type": "code",
        "colab": {
          "base_uri": "https://localhost:8080/",
          "height": 234
        },
        "outputId": "7ea6fcb4-9b59-4f96-e4ce-46885d5a1a97"
      },
      "source": [
        "# set the gridsearch.\n",
        "grid = GridSearchCV(estimator=model, param_grid=param_grid, n_jobs=1)\n",
        "grid_result = grid.fit(X_scaled, y_train)\n",
        "# show the results.\n",
        "print(f\"Best: {grid_result.best_score_} using {grid_result.best_params_}\")\n",
        "means = grid_result.cv_results_['mean_test_score']\n",
        "stds = grid_result.cv_results_['std_test_score']\n",
        "params = grid_result.cv_results_['params']\n",
        "for mean, stdev, param in zip(means, stds, params):\n",
        "    print(f\"Means: {mean}, Stdev: {stdev} with: {param}\")"
      ],
      "execution_count": 92,
      "outputs": [
        {
          "output_type": "stream",
          "text": [
            "WARNING:tensorflow:From /usr/local/lib/python3.6/dist-packages/tensorflow_core/python/ops/math_grad.py:1424: where (from tensorflow.python.ops.array_ops) is deprecated and will be removed in a future version.\n",
            "Instructions for updating:\n",
            "Use tf.where in 2.0, which has the same broadcast rule as np.where\n",
            "Best: 0.36251984238624574 using {'activation': 'relu'}\n",
            "Means: 0.31171984076499937, Stdev: 0.019557800448349007 with: {'activation': 'softmax'}\n",
            "Means: 0.35679763555526733, Stdev: 0.01782844723097705 with: {'activation': 'softplus'}\n",
            "Means: 0.3545660197734833, Stdev: 0.0221664979022013 with: {'activation': 'softsign'}\n",
            "Means: 0.36251984238624574, Stdev: 0.021896434306509477 with: {'activation': 'relu'}\n",
            "Means: 0.35927869081497193, Stdev: 0.01796371880356253 with: {'activation': 'tanh'}\n",
            "Means: 0.34020292162895205, Stdev: 0.020601240356198456 with: {'activation': 'sigmoid'}\n",
            "Means: 0.34115758538246155, Stdev: 0.01922564049533639 with: {'activation': 'hard_sigmoid'}\n",
            "Means: 0.33451111912727355, Stdev: 0.015171496764235657 with: {'activation': 'linear'}\n"
          ],
          "name": "stdout"
        }
      ]
    },
    {
      "cell_type": "markdown",
      "metadata": {
        "id": "NwyAEfJese0z",
        "colab_type": "text"
      },
      "source": [
        "### Weight Initialization."
      ]
    },
    {
      "cell_type": "code",
      "metadata": {
        "id": "3xBn5uu-sinP",
        "colab_type": "code",
        "colab": {}
      },
      "source": [
        "# function for NN model.\n",
        "def create_model(weight_init='uniform'):\n",
        "    # set the model.\n",
        "    model = Sequential()\n",
        "    # hidden layers.\n",
        "    model.add(Dense(26, input_dim=13, kernel_initializer=weight_init, activation='relu'))\n",
        "    model.add(Dense(26, kernel_initializer=weight_init, activation='relu'))\n",
        "    model.add(Dense(26, kernel_initializer=weight_init, activation='relu'))\n",
        "    model.add(Dense(12, kernel_initializer=weight_init, activation='softmax'))\n",
        "    # function for top 3.\n",
        "    def top_3_accuracy(y_true, y_pred):\n",
        "        return top_k_categorical_accuracy(y_true, y_pred, k=3)\n",
        "\n",
        "    # set the optimizer.\n",
        "    optimizer = Adam(lr=0.001)\n",
        "    # compile the model.\n",
        "    model.compile(loss='categorical_crossentropy',\n",
        "                        optimizer=optimizer,\n",
        "                        metrics=['accuracy'])\n",
        "    return model"
      ],
      "execution_count": 0,
      "outputs": []
    },
    {
      "cell_type": "code",
      "metadata": {
        "id": "4zgKBxZRsitW",
        "colab_type": "code",
        "colab": {}
      },
      "source": [
        "model = KerasClassifier(build_fn=create_model, epochs=2, batch_size=20, verbose=0)"
      ],
      "execution_count": 0,
      "outputs": []
    },
    {
      "cell_type": "code",
      "metadata": {
        "id": "gJCRxG0BsisJ",
        "colab_type": "code",
        "colab": {}
      },
      "source": [
        "# define the grid search parameters\n",
        "weight_init = ['uniform', 'lecun_uniform', 'normal', 'zero', 'glorot_normal', 'glorot_uniform', 'he_normal', 'he_uniform']\n",
        "param_grid = dict(weight_init=weight_init)"
      ],
      "execution_count": 0,
      "outputs": []
    },
    {
      "cell_type": "code",
      "metadata": {
        "id": "vvB4BlPIsiqI",
        "colab_type": "code",
        "colab": {
          "base_uri": "https://localhost:8080/",
          "height": 234
        },
        "outputId": "9d3d4c02-b2b1-4c3f-a160-4bc59f0381d4"
      },
      "source": [
        "# set the gridsearch.\n",
        "grid = GridSearchCV(estimator=model, param_grid=param_grid, n_jobs=1)\n",
        "grid_result = grid.fit(X_scaled, y_train)\n",
        "# show the results.\n",
        "print(f\"Best: {grid_result.best_score_} using {grid_result.best_params_}\")\n",
        "means = grid_result.cv_results_['mean_test_score']\n",
        "stds = grid_result.cv_results_['std_test_score']\n",
        "params = grid_result.cv_results_['params']\n",
        "for mean, stdev, param in zip(means, stds, params):\n",
        "    print(f\"Means: {mean}, Stdev: {stdev} with: {param}\")"
      ],
      "execution_count": 28,
      "outputs": [
        {
          "output_type": "stream",
          "text": [
            "WARNING:tensorflow:From /usr/local/lib/python3.6/dist-packages/tensorflow_core/python/keras/initializers.py:143: calling RandomNormal.__init__ (from tensorflow.python.ops.init_ops) with dtype is deprecated and will be removed in a future version.\n",
            "Instructions for updating:\n",
            "Call initializer instance with the dtype argument instead of passing it to the constructor\n",
            "Best: 0.3589625060558319 using {'weight_init': 'he_uniform'}\n",
            "Means: 0.3483147919178009, Stdev: 0.020422530207887157 with: {'weight_init': 'uniform'}\n",
            "Means: 0.3555449903011322, Stdev: 0.01716633233750613 with: {'weight_init': 'lecun_uniform'}\n",
            "Means: 0.3474938929080963, Stdev: 0.019531944385382388 with: {'weight_init': 'normal'}\n",
            "Means: 0.1110739067196846, Stdev: 0.0037375406297293005 with: {'weight_init': 'zero'}\n",
            "Means: 0.3584394991397858, Stdev: 0.018103023820388524 with: {'weight_init': 'glorot_normal'}\n",
            "Means: 0.35727807879447937, Stdev: 0.01888037620712115 with: {'weight_init': 'glorot_uniform'}\n",
            "Means: 0.35358694195747375, Stdev: 0.020085757183696422 with: {'weight_init': 'he_normal'}\n",
            "Means: 0.3589625060558319, Stdev: 0.019940247827964698 with: {'weight_init': 'he_uniform'}\n"
          ],
          "name": "stdout"
        }
      ]
    },
    {
      "cell_type": "markdown",
      "metadata": {
        "id": "E9_rhdaZsqcR",
        "colab_type": "text"
      },
      "source": [
        "### Dropout Rate."
      ]
    },
    {
      "cell_type": "code",
      "metadata": {
        "id": "kIl5n0Xostlq",
        "colab_type": "code",
        "colab": {}
      },
      "source": [
        "# function for NN model.\n",
        "def create_model(weight_rate=0.0, weight_constraint=0):\n",
        "    # set the model.\n",
        "    model = Sequential()\n",
        "    # hidden layers.\n",
        "    model.add(Dense(26, kernel_initializer='he_uniform', input_dim=13, activation='relu'))\n",
        "    model.add(Dropout(weight_rate))\n",
        "    model.add(Dense(26, kernel_initializer='he_uniform', activation='relu'))\n",
        "    model.add(Dropout(weight_rate))\n",
        "    model.add(Dense(26, kernel_initializer='he_uniform', activation='relu'))\n",
        "    model.add(Dropout(weight_rate))\n",
        "    model.add(Dense(12, kernel_initializer='he_uniform',activation='softmax'))\n",
        "    # function for top 3.\n",
        "    def top_3_accuracy(y_true, y_pred):\n",
        "        return top_k_categorical_accuracy(y_true, y_pred, k=3)\n",
        "\n",
        "    # set the optimizer.\n",
        "    optimizer = Adam(lr=0.001)\n",
        "    # compile the model.\n",
        "    model.compile(loss='categorical_crossentropy',\n",
        "                        optimizer=optimizer,\n",
        "                        metrics=['accuracy'])\n",
        "    return model"
      ],
      "execution_count": 0,
      "outputs": []
    },
    {
      "cell_type": "code",
      "metadata": {
        "id": "vU6S_9Gwstt5",
        "colab_type": "code",
        "colab": {}
      },
      "source": [
        "model = KerasClassifier(build_fn=create_model, epochs=2, batch_size=20, verbose=0)"
      ],
      "execution_count": 0,
      "outputs": []
    },
    {
      "cell_type": "code",
      "metadata": {
        "id": "9GH7_kEnstrq",
        "colab_type": "code",
        "colab": {}
      },
      "source": [
        "# set the parameters for weights and dropout rate.\n",
        "weight_constraint = [1, 2, 3, 4]\n",
        "weight_rate = [0.0, 0.1, 0.2]\n",
        "param_grid = dict(weight_rate=weight_rate, weight_constraint=weight_constraint)"
      ],
      "execution_count": 0,
      "outputs": []
    },
    {
      "cell_type": "code",
      "metadata": {
        "id": "d4_OyYdYstp3",
        "colab_type": "code",
        "colab": {
          "base_uri": "https://localhost:8080/",
          "height": 231
        },
        "outputId": "2262cf40-d13a-4a9c-8fa5-05cfa6779f59"
      },
      "source": [
        "# set the gridsearch.\n",
        "grid = GridSearchCV(estimator=model, param_grid=param_grid, n_jobs=1)\n",
        "grid_result = grid.fit(X_scaled, y_train)\n",
        "# show the results.\n",
        "print(f\"Best: {grid_result.best_score_} using {grid_result.best_params_}\")\n",
        "means = grid_result.cv_results_['mean_test_score']\n",
        "stds = grid_result.cv_results_['std_test_score']\n",
        "params = grid_result.cv_results_['params']\n",
        "for mean, stdev, param in zip(means, stds, params):\n",
        "    print(f\"Means: {mean}, Stdev: {stdev} with: {param}\")"
      ],
      "execution_count": 33,
      "outputs": [
        {
          "output_type": "stream",
          "text": [
            "Best: 0.3579287052154541 using {'weight_constraint': 4, 'weight_rate': 0.0}\n",
            "Means: 0.3574301183223724, Stdev: 0.021968654631767656 with: {'weight_constraint': 1, 'weight_rate': 0.0}\n",
            "Means: 0.35145255327224734, Stdev: 0.01747412935835445 with: {'weight_constraint': 1, 'weight_rate': 0.1}\n",
            "Means: 0.3410906851291656, Stdev: 0.020216486745120475 with: {'weight_constraint': 1, 'weight_rate': 0.2}\n",
            "Means: 0.35440181493759154, Stdev: 0.020200136275872138 with: {'weight_constraint': 2, 'weight_rate': 0.0}\n",
            "Means: 0.3472020149230957, Stdev: 0.019681137337494343 with: {'weight_constraint': 2, 'weight_rate': 0.1}\n",
            "Means: 0.3403123676776886, Stdev: 0.022672067006390642 with: {'weight_constraint': 2, 'weight_rate': 0.2}\n",
            "Means: 0.35611668825149534, Stdev: 0.021626799691961622 with: {'weight_constraint': 3, 'weight_rate': 0.0}\n",
            "Means: 0.3481810033321381, Stdev: 0.015999909472515082 with: {'weight_constraint': 3, 'weight_rate': 0.1}\n",
            "Means: 0.34061639904975893, Stdev: 0.01979421526211651 with: {'weight_constraint': 3, 'weight_rate': 0.2}\n",
            "Means: 0.3579287052154541, Stdev: 0.017670531582467373 with: {'weight_constraint': 4, 'weight_rate': 0.0}\n",
            "Means: 0.3503032743930817, Stdev: 0.018461260982164034 with: {'weight_constraint': 4, 'weight_rate': 0.1}\n",
            "Means: 0.34247713088989257, Stdev: 0.016271782290638522 with: {'weight_constraint': 4, 'weight_rate': 0.2}\n"
          ],
          "name": "stdout"
        }
      ]
    },
    {
      "cell_type": "markdown",
      "metadata": {
        "id": "3Ct5aQnBs4DM",
        "colab_type": "text"
      },
      "source": [
        "### Hidden Neuron Count."
      ]
    },
    {
      "cell_type": "code",
      "metadata": {
        "id": "qFqycONPs6OX",
        "colab_type": "code",
        "colab": {}
      },
      "source": [
        "# function for NN model.\n",
        "def create_model(neurons=1):\n",
        "    # set the model.\n",
        "    model = Sequential()\n",
        "    # hidden layers.\n",
        "    model.add(Dense(neurons, kernel_initializer='he_uniform', input_dim=13, activation='relu'))\n",
        "    model.add(Dense(neurons, kernel_initializer='he_uniform', activation='relu'))\n",
        "    model.add(Dense(neurons, kernel_initializer='he_uniform', activation='relu'))\n",
        "    model.add(Dense(12, kernel_initializer='he_uniform', activation='softmax'))\n",
        "    # function for top 3.\n",
        "    def top_3_accuracy(y_true, y_pred):\n",
        "        return top_k_categorical_accuracy(y_true, y_pred, k=3)\n",
        "\n",
        "    # set the optimizer.\n",
        "    optimizer = Adam(lr=0.001)\n",
        "    # compile the model.\n",
        "    model.compile(loss='categorical_crossentropy',\n",
        "                        optimizer=optimizer,\n",
        "                        metrics=['accuracy'])\n",
        "    return model"
      ],
      "execution_count": 0,
      "outputs": []
    },
    {
      "cell_type": "code",
      "metadata": {
        "id": "tRUXe3fAs6V7",
        "colab_type": "code",
        "colab": {}
      },
      "source": [
        "model = KerasClassifier(build_fn=create_model, epochs=2, batch_size=20, verbose=0)"
      ],
      "execution_count": 0,
      "outputs": []
    },
    {
      "cell_type": "code",
      "metadata": {
        "id": "RiRVX2trs6Tq",
        "colab_type": "code",
        "colab": {}
      },
      "source": [
        "# set the parameters for neurons.\n",
        "neurons = [1, 5, 10, 15, 20, 25, 30, 35, 40, 45, 50, 55, 60]\n",
        "param_grid = dict(neurons=neurons)"
      ],
      "execution_count": 0,
      "outputs": []
    },
    {
      "cell_type": "code",
      "metadata": {
        "id": "qH7a5lI_s6Rb",
        "colab_type": "code",
        "colab": {
          "base_uri": "https://localhost:8080/",
          "height": 247
        },
        "outputId": "cd98065d-2534-4009-d2a2-8a1e35226a2f"
      },
      "source": [
        "# set the gridsearch.\n",
        "grid = GridSearchCV(estimator=model, param_grid=param_grid, n_jobs=1)\n",
        "grid_result = grid.fit(X_scaled, y_train)\n",
        "# show the results.\n",
        "print(f\"Best: {grid_result.best_score_} using {grid_result.best_params_}\")\n",
        "means = grid_result.cv_results_['mean_test_score']\n",
        "stds = grid_result.cv_results_['std_test_score']\n",
        "params = grid_result.cv_results_['params']\n",
        "for mean, stdev, param in zip(means, stds, params):\n",
        "    print(f\"Means: {mean}, Stdev: {stdev} with: {param}\")"
      ],
      "execution_count": 45,
      "outputs": [
        {
          "output_type": "stream",
          "text": [
            "Best: 0.36318874955177305 using {'neurons': 60}\n",
            "Means: 0.11118336617946625, Stdev: 0.0035297070798743324 with: {'neurons': 1}\n",
            "Means: 0.32387558221817014, Stdev: 0.021570116822359785 with: {'neurons': 5}\n",
            "Means: 0.3442405939102173, Stdev: 0.016465594936106772 with: {'neurons': 10}\n",
            "Means: 0.34894726276397703, Stdev: 0.019788778905189718 with: {'neurons': 15}\n",
            "Means: 0.35209710001945493, Stdev: 0.017255614077919684 with: {'neurons': 20}\n",
            "Means: 0.3558491051197052, Stdev: 0.02136150034797747 with: {'neurons': 25}\n",
            "Means: 0.3582936108112335, Stdev: 0.020459841453516713 with: {'neurons': 30}\n",
            "Means: 0.3617839813232422, Stdev: 0.01771471592677918 with: {'neurons': 35}\n",
            "Means: 0.3595280110836029, Stdev: 0.022677723068950696 with: {'neurons': 40}\n",
            "Means: 0.3562199532985687, Stdev: 0.01859260641970323 with: {'neurons': 45}\n",
            "Means: 0.36123672127723694, Stdev: 0.016125944177393395 with: {'neurons': 50}\n",
            "Means: 0.3609691560268402, Stdev: 0.014842394310193914 with: {'neurons': 55}\n",
            "Means: 0.36318874955177305, Stdev: 0.019454967079976848 with: {'neurons': 60}\n"
          ],
          "name": "stdout"
        }
      ]
    },
    {
      "cell_type": "markdown",
      "metadata": {
        "id": "2LPcC1xetEJ8",
        "colab_type": "text"
      },
      "source": [
        "### Final Model."
      ]
    },
    {
      "cell_type": "code",
      "metadata": {
        "id": "qGn6XHZvtGwp",
        "colab_type": "code",
        "colab": {}
      },
      "source": [
        "# function for NN model.\n",
        "def create_model():\n",
        "    # set the model.\n",
        "    model = Sequential()\n",
        "    # hidden layers.\n",
        "    model.add(Dense(768, kernel_initializer='he_uniform', input_dim=13, activation='relu'))\n",
        "    #model.add(Dropout(0.1))\n",
        "    model.add(Dense(384, kernel_initializer='he_uniform', activation='relu'))\n",
        "    #model.add(Dropout(0.1))\n",
        "    model.add(Dense(192, kernel_initializer='he_uniform', activation='relu'))\n",
        "    #model.add(Dropout(0.1))\n",
        "    model.add(Dense(96, kernel_initializer='he_uniform', activation='relu'))\n",
        "    #model.add(Dropout(0.1))\n",
        "    model.add(Dense(48, kernel_initializer='he_uniform', activation='relu'))\n",
        "    #model.add(Dropout(0.1))\n",
        "    model.add(Dense(24, kernel_initializer='he_uniform', activation='relu'))\n",
        "    #model.add(Dropout(0.1))\n",
        "    model.add(Dense(12, kernel_initializer='he_uniform', activation='softmax'))\n",
        "    # function for top 3.\n",
        "    def top_3_accuracy(y_true, y_pred):\n",
        "        return top_k_categorical_accuracy(y_true, y_pred, k=3)\n",
        "\n",
        "    # set the optimizer.\n",
        "    optimizer = Adam(lr=0.001)\n",
        "    # compile the model.\n",
        "    model.compile(loss='categorical_crossentropy',\n",
        "                        optimizer=optimizer,\n",
        "                        metrics=['accuracy'])\n",
        "    return model"
      ],
      "execution_count": 0,
      "outputs": []
    },
    {
      "cell_type": "code",
      "metadata": {
        "id": "Jy_Wyu3NtG1G",
        "colab_type": "code",
        "colab": {
          "base_uri": "https://localhost:8080/",
          "height": 330
        },
        "outputId": "856f5707-d333-4f79-d99a-70e2513a2406"
      },
      "source": [
        "# set the model.\n",
        "model = create_model()\n",
        "# fit the model with parameters.\n",
        "model.fit(X_scaled, y_train, validation_split=0.2, epochs=200, batch_size=20)"
      ],
      "execution_count": 0,
      "outputs": [
        {
          "output_type": "stream",
          "text": [
            "Train on 131559 samples, validate on 32890 samples\n",
            "Epoch 1/200\n",
            "131559/131559 [==============================] - 24s 182us/sample - loss: 1.9288 - acc: 0.3382 - val_loss: 1.8567 - val_acc: 0.3860\n",
            "Epoch 2/200\n",
            "131559/131559 [==============================] - 24s 181us/sample - loss: 1.8558 - acc: 0.3621 - val_loss: 1.8425 - val_acc: 0.3882\n",
            "Epoch 3/200\n",
            "131559/131559 [==============================] - 23s 178us/sample - loss: 1.8328 - acc: 0.3687 - val_loss: 1.8477 - val_acc: 0.3884\n",
            "Epoch 4/200\n",
            "131559/131559 [==============================] - 23s 177us/sample - loss: 1.8198 - acc: 0.3726 - val_loss: 1.8867 - val_acc: 0.3685\n",
            "Epoch 5/200\n",
            "131559/131559 [==============================] - 23s 177us/sample - loss: 1.8096 - acc: 0.3766 - val_loss: 1.8676 - val_acc: 0.3763\n",
            "Epoch 6/200\n",
            "131559/131559 [==============================] - 23s 175us/sample - loss: 1.8009 - acc: 0.3780 - val_loss: 1.8539 - val_acc: 0.3721\n",
            "Epoch 7/200\n",
            "131559/131559 [==============================] - 23s 177us/sample - loss: 1.7934 - acc: 0.3812 - val_loss: 1.8327 - val_acc: 0.3938\n",
            "Epoch 8/200\n",
            "131559/131559 [==============================] - 23s 176us/sample - loss: 1.7857 - acc: 0.3832 - val_loss: 1.8296 - val_acc: 0.3920\n",
            "Epoch 9/200\n",
            " 39040/131559 [=======>......................] - ETA: 13s - loss: 1.7758 - acc: 0.3880"
          ],
          "name": "stdout"
        }
      ]
    },
    {
      "cell_type": "code",
      "metadata": {
        "id": "tBzYKigwyTbL",
        "colab_type": "code",
        "colab": {
          "base_uri": "https://localhost:8080/",
          "height": 33
        },
        "outputId": "50a44063-67b0-4892-a17e-89d7191da445"
      },
      "source": [
        "# final model accuracy score.\n",
        "scores = model.evaluate(X_scaled, y_train)"
      ],
      "execution_count": 32,
      "outputs": [
        {
          "output_type": "stream",
          "text": [
            "164449/164449 [==============================] - 10s 58us/sample - loss: 1.6542 - acc: 0.4365\n"
          ],
          "name": "stdout"
        }
      ]
    },
    {
      "cell_type": "code",
      "metadata": {
        "id": "31wXbvqDuif_",
        "colab_type": "code",
        "colab": {}
      },
      "source": [
        "# plot the accuracy vs epochs.\n",
        "plt.plot(history.history['acc'])\n",
        "plt.plot(history.history['val_acc'])\n",
        "plt.title('model accuracy')\n",
        "plt.ylabel('accuracy')\n",
        "plt.xlabel('epoch')\n",
        "plt.legend(['train', 'test'], loc='center right')\n",
        "# show the graph.\n",
        "plt.show()"
      ],
      "execution_count": 0,
      "outputs": []
    },
    {
      "cell_type": "code",
      "metadata": {
        "id": "rw5zVwiBulo_",
        "colab_type": "code",
        "colab": {}
      },
      "source": [
        "# plot the loss vs epochs.\n",
        "plt.plot(history.history['loss'])\n",
        "plt.plot(history.history['val_loss'])\n",
        "plt.title('model loss')\n",
        "plt.ylabel('loss')\n",
        "plt.xlabel('epoch')\n",
        "plt.legend(['train', 'test'], loc='upper right')\n",
        "plt.show()"
      ],
      "execution_count": 0,
      "outputs": []
    },
    {
      "cell_type": "markdown",
      "metadata": {
        "id": "YJgB0YxvtTNP",
        "colab_type": "text"
      },
      "source": [
        "### Results."
      ]
    },
    {
      "cell_type": "code",
      "metadata": {
        "id": "QwtWcgPxtjQP",
        "colab_type": "code",
        "outputId": "4002a7db-cbfe-4d46-9f3f-ce6eca7bf96d",
        "colab": {
          "base_uri": "https://localhost:8080/",
          "height": 363
        }
      },
      "source": [
        "# Fit the model\n",
        "history = model.fit(X_scaled, y_train, validation_split=0.2, epochs=10, batch_size=20)"
      ],
      "execution_count": 24,
      "outputs": [
        {
          "output_type": "stream",
          "text": [
            "Train on 131559 samples, validate on 32890 samples\n",
            "Epoch 1/10\n",
            "131559/131559 [==============================] - 23s 173us/sample - loss: 2.0464 - acc: 0.2907 - val_loss: 1.9089 - val_acc: 0.3711\n",
            "Epoch 2/10\n",
            "131559/131559 [==============================] - 21s 160us/sample - loss: 1.9631 - acc: 0.3235 - val_loss: 1.9196 - val_acc: 0.3627\n",
            "Epoch 3/10\n",
            "131559/131559 [==============================] - 21s 162us/sample - loss: 1.9490 - acc: 0.3292 - val_loss: 1.8866 - val_acc: 0.3784\n",
            "Epoch 4/10\n",
            "131559/131559 [==============================] - 21s 161us/sample - loss: 1.9410 - acc: 0.3310 - val_loss: 1.8837 - val_acc: 0.3804\n",
            "Epoch 5/10\n",
            "131559/131559 [==============================] - 21s 159us/sample - loss: 1.9366 - acc: 0.3336 - val_loss: 1.8660 - val_acc: 0.3800\n",
            "Epoch 6/10\n",
            "131559/131559 [==============================] - 21s 162us/sample - loss: 1.9327 - acc: 0.3355 - val_loss: 1.8635 - val_acc: 0.3849\n",
            "Epoch 7/10\n",
            "131559/131559 [==============================] - 21s 163us/sample - loss: 1.9298 - acc: 0.3353 - val_loss: 1.8760 - val_acc: 0.3782\n",
            "Epoch 8/10\n",
            "131559/131559 [==============================] - 21s 160us/sample - loss: 1.9299 - acc: 0.3373 - val_loss: 1.8815 - val_acc: 0.3765\n",
            "Epoch 9/10\n",
            "131559/131559 [==============================] - 21s 159us/sample - loss: 1.9258 - acc: 0.3379 - val_loss: 1.8831 - val_acc: 0.3761\n",
            "Epoch 10/10\n",
            "131559/131559 [==============================] - 21s 157us/sample - loss: 1.9262 - acc: 0.3384 - val_loss: 1.8816 - val_acc: 0.3763\n"
          ],
          "name": "stdout"
        }
      ]
    },
    {
      "cell_type": "code",
      "metadata": {
        "id": "owlUFzoqh2Ws",
        "colab_type": "code",
        "outputId": "49b43c82-281e-4c8a-f21b-eefa388eab7b",
        "colab": {
          "base_uri": "https://localhost:8080/",
          "height": 36
        }
      },
      "source": [
        "obs = genreframe.iloc[10000:10001,7:20].to_numpy()\n",
        "obs.shape"
      ],
      "execution_count": 0,
      "outputs": [
        {
          "output_type": "execute_result",
          "data": {
            "text/plain": [
              "(1, 13)"
            ]
          },
          "metadata": {
            "tags": []
          },
          "execution_count": 118
        }
      ]
    },
    {
      "cell_type": "code",
      "metadata": {
        "id": "r60EFM1IhbcF",
        "colab_type": "code",
        "outputId": "3eaed9b9-22b0-4793-f1d9-50eaffbd0b72",
        "colab": {
          "base_uri": "https://localhost:8080/",
          "height": 36
        }
      },
      "source": [
        "model.predict(obs)"
      ],
      "execution_count": 0,
      "outputs": [
        {
          "output_type": "execute_result",
          "data": {
            "text/plain": [
              "array([[0., 0., 0., 0., 0., 0., 1., 0., 0., 0., 0., 0.]], dtype=float32)"
            ]
          },
          "metadata": {
            "tags": []
          },
          "execution_count": 119
        }
      ]
    },
    {
      "cell_type": "code",
      "metadata": {
        "id": "zOVe_tpkhbmn",
        "colab_type": "code",
        "outputId": "64ee7712-66be-4bda-b2e5-4374a7732f59",
        "colab": {
          "base_uri": "https://localhost:8080/",
          "height": 55
        }
      },
      "source": [
        "genreframe.iloc[10000:10001,5]"
      ],
      "execution_count": 0,
      "outputs": [
        {
          "output_type": "execute_result",
          "data": {
            "text/plain": [
              "10000    jazz\n",
              "Name: genre, dtype: object"
            ]
          },
          "metadata": {
            "tags": []
          },
          "execution_count": 121
        }
      ]
    },
    {
      "cell_type": "code",
      "metadata": {
        "id": "RgmhWNfRhbYq",
        "colab_type": "code",
        "colab": {}
      },
      "source": [
        "model.save('genre_NN')"
      ],
      "execution_count": 0,
      "outputs": []
    },
    {
      "cell_type": "code",
      "metadata": {
        "id": "ulPW4OLC1kVf",
        "colab_type": "code",
        "colab": {}
      },
      "source": [
        "# function for NN model.\n",
        "def create_model():\n",
        "    # set the model.\n",
        "    model = Sequential()\n",
        "    # hidden layers.\n",
        "    model.add(Dense(768, kernel_initializer='he_uniform', input_dim=13, activation='relu'))\n",
        "    model.add(Dense(384, kernel_initializer='he_uniform', activation='relu'))\n",
        "    model.add(Dense(192, kernel_initializer='he_uniform', activation='relu'))\n",
        "    model.add(Dense(96, kernel_initializer='he_uniform', activation='relu'))\n",
        "    model.add(Dense(48, kernel_initializer='he_uniform', activation='relu'))\n",
        "    model.add(Dense(24, kernel_initializer='he_uniform', activation='relu'))\n",
        "    model.add(Dense(12, kernel_initializer='he_uniform', activation='softmax'))\n",
        "    # function for top 3.\n",
        "    def top_3_accuracy(y_true, y_pred):\n",
        "        return top_k_categorical_accuracy(y_true, y_pred, k=3)\n",
        "\n",
        "    # set the optimizer.\n",
        "    optimizer = Adam(lr=0.001)\n",
        "    # compile the model.\n",
        "    model.compile(loss='categorical_crossentropy',\n",
        "                        optimizer=optimizer,\n",
        "                        metrics=['accuracy'])\n",
        "    return model"
      ],
      "execution_count": 0,
      "outputs": []
    },
    {
      "cell_type": "code",
      "metadata": {
        "id": "Jc-z1Evj83kv",
        "colab_type": "code",
        "colab": {
          "base_uri": "https://localhost:8080/",
          "height": 1000
        },
        "outputId": "72201bf4-b98c-471c-da20-a35ce58e554d"
      },
      "source": [
        "# set the model.\n",
        "model = create_model()\n",
        "# fit the model with parameters.\n",
        "model.fit(X_scaled, y_train, validation_split=0.2, batch_size=200, epochs=200)"
      ],
      "execution_count": 175,
      "outputs": [
        {
          "output_type": "stream",
          "text": [
            "Train on 131559 samples, validate on 32890 samples\n",
            "Epoch 1/1000\n",
            "131559/131559 [==============================] - 14s 109us/sample - loss: 1.9262 - acc: 0.3401 - val_loss: 1.9097 - val_acc: 0.3618\n",
            "Epoch 2/1000\n",
            "131559/131559 [==============================] - 7s 53us/sample - loss: 1.8431 - acc: 0.3621 - val_loss: 1.8472 - val_acc: 0.3855\n",
            "Epoch 3/1000\n",
            "131559/131559 [==============================] - 7s 55us/sample - loss: 1.8197 - acc: 0.3712 - val_loss: 1.8299 - val_acc: 0.3896\n",
            "Epoch 4/1000\n",
            "131559/131559 [==============================] - 7s 53us/sample - loss: 1.8045 - acc: 0.3758 - val_loss: 1.8281 - val_acc: 0.3886\n",
            "Epoch 5/1000\n",
            "131559/131559 [==============================] - 7s 54us/sample - loss: 1.7937 - acc: 0.3785 - val_loss: 1.8217 - val_acc: 0.3891\n",
            "Epoch 6/1000\n",
            "131559/131559 [==============================] - 7s 54us/sample - loss: 1.7830 - acc: 0.3821 - val_loss: 1.8260 - val_acc: 0.3935\n",
            "Epoch 7/1000\n",
            "131559/131559 [==============================] - 7s 53us/sample - loss: 1.7727 - acc: 0.3860 - val_loss: 1.8317 - val_acc: 0.3864\n",
            "Epoch 8/1000\n",
            "131559/131559 [==============================] - 7s 54us/sample - loss: 1.7645 - acc: 0.3879 - val_loss: 1.8322 - val_acc: 0.3746\n",
            "Epoch 9/1000\n",
            "131559/131559 [==============================] - 9s 69us/sample - loss: 1.7540 - acc: 0.3902 - val_loss: 1.8338 - val_acc: 0.3849\n",
            "Epoch 10/1000\n",
            "131559/131559 [==============================] - 9s 72us/sample - loss: 1.7443 - acc: 0.3933 - val_loss: 1.8123 - val_acc: 0.3973\n",
            "Epoch 11/1000\n",
            "131559/131559 [==============================] - 9s 71us/sample - loss: 1.7351 - acc: 0.3971 - val_loss: 1.8327 - val_acc: 0.3856\n",
            "Epoch 12/1000\n",
            "131559/131559 [==============================] - 10s 73us/sample - loss: 1.7246 - acc: 0.4006 - val_loss: 1.8687 - val_acc: 0.3681\n",
            "Epoch 13/1000\n",
            "131559/131559 [==============================] - 9s 69us/sample - loss: 1.7156 - acc: 0.4025 - val_loss: 1.8526 - val_acc: 0.3804\n",
            "Epoch 14/1000\n",
            "131559/131559 [==============================] - 9s 70us/sample - loss: 1.7047 - acc: 0.4059 - val_loss: 1.8526 - val_acc: 0.3848\n",
            "Epoch 15/1000\n",
            "131559/131559 [==============================] - 10s 75us/sample - loss: 1.6946 - acc: 0.4106 - val_loss: 1.8692 - val_acc: 0.3769\n",
            "Epoch 16/1000\n",
            "131559/131559 [==============================] - 9s 68us/sample - loss: 1.6829 - acc: 0.4128 - val_loss: 1.8659 - val_acc: 0.3795\n",
            "Epoch 17/1000\n",
            "131559/131559 [==============================] - 9s 70us/sample - loss: 1.6717 - acc: 0.4166 - val_loss: 1.8765 - val_acc: 0.3767\n",
            "Epoch 18/1000\n",
            "131559/131559 [==============================] - 9s 70us/sample - loss: 1.6613 - acc: 0.4215 - val_loss: 1.8691 - val_acc: 0.3795\n",
            "Epoch 19/1000\n",
            "131559/131559 [==============================] - 10s 74us/sample - loss: 1.6521 - acc: 0.4234 - val_loss: 1.8674 - val_acc: 0.3844\n",
            "Epoch 20/1000\n",
            "131559/131559 [==============================] - 10s 75us/sample - loss: 1.6380 - acc: 0.4281 - val_loss: 1.8869 - val_acc: 0.3780\n",
            "Epoch 21/1000\n",
            "131559/131559 [==============================] - 10s 75us/sample - loss: 1.6277 - acc: 0.4312 - val_loss: 1.9022 - val_acc: 0.3744\n",
            "Epoch 22/1000\n",
            "131559/131559 [==============================] - 9s 71us/sample - loss: 1.6148 - acc: 0.4339 - val_loss: 1.9251 - val_acc: 0.3701\n",
            "Epoch 23/1000\n",
            "131559/131559 [==============================] - 9s 72us/sample - loss: 1.6026 - acc: 0.4396 - val_loss: 1.9359 - val_acc: 0.3704\n",
            "Epoch 24/1000\n",
            "131559/131559 [==============================] - 9s 71us/sample - loss: 1.5899 - acc: 0.4429 - val_loss: 1.9459 - val_acc: 0.3721\n",
            "Epoch 25/1000\n",
            "131559/131559 [==============================] - 9s 69us/sample - loss: 1.5763 - acc: 0.4468 - val_loss: 1.9703 - val_acc: 0.3600\n",
            "Epoch 26/1000\n",
            "131559/131559 [==============================] - 9s 67us/sample - loss: 1.5676 - acc: 0.4506 - val_loss: 1.9904 - val_acc: 0.3582\n",
            "Epoch 27/1000\n",
            "131559/131559 [==============================] - 9s 71us/sample - loss: 1.5560 - acc: 0.4535 - val_loss: 1.9949 - val_acc: 0.3640\n",
            "Epoch 28/1000\n",
            "131559/131559 [==============================] - 10s 75us/sample - loss: 1.5448 - acc: 0.4573 - val_loss: 2.0272 - val_acc: 0.3565\n",
            "Epoch 29/1000\n",
            "131559/131559 [==============================] - 9s 71us/sample - loss: 1.5330 - acc: 0.4611 - val_loss: 2.0387 - val_acc: 0.3585\n",
            "Epoch 30/1000\n",
            "131559/131559 [==============================] - 9s 71us/sample - loss: 1.5201 - acc: 0.4667 - val_loss: 2.0368 - val_acc: 0.3698\n",
            "Epoch 31/1000\n",
            "131559/131559 [==============================] - 7s 57us/sample - loss: 1.5086 - acc: 0.4698 - val_loss: 2.0546 - val_acc: 0.3628\n",
            "Epoch 32/1000\n",
            "131559/131559 [==============================] - 7s 54us/sample - loss: 1.4992 - acc: 0.4721 - val_loss: 2.0879 - val_acc: 0.3508\n",
            "Epoch 33/1000\n",
            "131559/131559 [==============================] - 7s 54us/sample - loss: 1.4882 - acc: 0.4770 - val_loss: 2.0772 - val_acc: 0.3631\n",
            "Epoch 34/1000\n",
            "131559/131559 [==============================] - 7s 54us/sample - loss: 1.4769 - acc: 0.4817 - val_loss: 2.0941 - val_acc: 0.3537\n",
            "Epoch 35/1000\n",
            "131559/131559 [==============================] - 7s 55us/sample - loss: 1.4655 - acc: 0.4844 - val_loss: 2.1416 - val_acc: 0.3524\n",
            "Epoch 36/1000\n",
            "131559/131559 [==============================] - 7s 53us/sample - loss: 1.4574 - acc: 0.4871 - val_loss: 2.1190 - val_acc: 0.3610\n",
            "Epoch 37/1000\n",
            "131559/131559 [==============================] - 7s 53us/sample - loss: 1.4433 - acc: 0.4918 - val_loss: 2.1648 - val_acc: 0.3413\n",
            "Epoch 38/1000\n",
            "131559/131559 [==============================] - 7s 54us/sample - loss: 1.4356 - acc: 0.4945 - val_loss: 2.1841 - val_acc: 0.3394\n",
            "Epoch 39/1000\n",
            "131559/131559 [==============================] - 7s 53us/sample - loss: 1.4269 - acc: 0.4967 - val_loss: 2.2102 - val_acc: 0.3423\n",
            "Epoch 40/1000\n",
            "131559/131559 [==============================] - 7s 54us/sample - loss: 1.4170 - acc: 0.5019 - val_loss: 2.1868 - val_acc: 0.3555\n",
            "Epoch 41/1000\n",
            "131559/131559 [==============================] - 7s 54us/sample - loss: 1.4071 - acc: 0.5052 - val_loss: 2.2200 - val_acc: 0.3431\n",
            "Epoch 42/1000\n",
            "131559/131559 [==============================] - 7s 53us/sample - loss: 1.3975 - acc: 0.5090 - val_loss: 2.2330 - val_acc: 0.3464\n",
            "Epoch 43/1000\n",
            "131559/131559 [==============================] - 7s 54us/sample - loss: 1.3901 - acc: 0.5109 - val_loss: 2.2469 - val_acc: 0.3483\n",
            "Epoch 44/1000\n",
            "131559/131559 [==============================] - 7s 54us/sample - loss: 1.3812 - acc: 0.5144 - val_loss: 2.2708 - val_acc: 0.3519\n",
            "Epoch 45/1000\n",
            "131559/131559 [==============================] - 7s 53us/sample - loss: 1.3723 - acc: 0.5173 - val_loss: 2.3231 - val_acc: 0.3320\n",
            "Epoch 46/1000\n",
            "131559/131559 [==============================] - 7s 54us/sample - loss: 1.3655 - acc: 0.5185 - val_loss: 2.3233 - val_acc: 0.3376\n",
            "Epoch 47/1000\n",
            "131559/131559 [==============================] - 7s 53us/sample - loss: 1.3537 - acc: 0.5247 - val_loss: 2.3576 - val_acc: 0.3380\n",
            "Epoch 48/1000\n",
            "131559/131559 [==============================] - 7s 53us/sample - loss: 1.3465 - acc: 0.5262 - val_loss: 2.3807 - val_acc: 0.3331\n",
            "Epoch 49/1000\n",
            "131559/131559 [==============================] - 7s 55us/sample - loss: 1.3393 - acc: 0.5282 - val_loss: 2.3872 - val_acc: 0.3337\n",
            "Epoch 50/1000\n",
            "131559/131559 [==============================] - 7s 54us/sample - loss: 1.3311 - acc: 0.5296 - val_loss: 2.4027 - val_acc: 0.3299\n",
            "Epoch 51/1000\n",
            "131559/131559 [==============================] - 7s 54us/sample - loss: 1.3253 - acc: 0.5325 - val_loss: 2.4292 - val_acc: 0.3368\n",
            "Epoch 52/1000\n",
            "131559/131559 [==============================] - 7s 54us/sample - loss: 1.3140 - acc: 0.5370 - val_loss: 2.4372 - val_acc: 0.3431\n",
            "Epoch 53/1000\n",
            "131559/131559 [==============================] - 7s 54us/sample - loss: 1.3082 - acc: 0.5388 - val_loss: 2.4826 - val_acc: 0.3237\n",
            "Epoch 54/1000\n",
            "131559/131559 [==============================] - 7s 55us/sample - loss: 1.3036 - acc: 0.5410 - val_loss: 2.4683 - val_acc: 0.3267\n",
            "Epoch 55/1000\n",
            "131559/131559 [==============================] - 7s 54us/sample - loss: 1.2948 - acc: 0.5426 - val_loss: 2.4949 - val_acc: 0.3311\n",
            "Epoch 56/1000\n",
            "131559/131559 [==============================] - 7s 53us/sample - loss: 1.2857 - acc: 0.5472 - val_loss: 2.4918 - val_acc: 0.3337\n",
            "Epoch 57/1000\n",
            "131559/131559 [==============================] - 7s 54us/sample - loss: 1.2782 - acc: 0.5489 - val_loss: 2.5295 - val_acc: 0.3326\n",
            "Epoch 58/1000\n",
            "131559/131559 [==============================] - 7s 54us/sample - loss: 1.2730 - acc: 0.5519 - val_loss: 2.5506 - val_acc: 0.3356\n",
            "Epoch 59/1000\n",
            "131559/131559 [==============================] - 7s 54us/sample - loss: 1.2678 - acc: 0.5524 - val_loss: 2.5293 - val_acc: 0.3353\n",
            "Epoch 60/1000\n",
            "131559/131559 [==============================] - 7s 55us/sample - loss: 1.2626 - acc: 0.5561 - val_loss: 2.5915 - val_acc: 0.3246\n",
            "Epoch 61/1000\n",
            "131559/131559 [==============================] - 7s 55us/sample - loss: 1.2536 - acc: 0.5587 - val_loss: 2.6005 - val_acc: 0.3279\n",
            "Epoch 62/1000\n",
            "131559/131559 [==============================] - 7s 53us/sample - loss: 1.2455 - acc: 0.5606 - val_loss: 2.6345 - val_acc: 0.3272\n",
            "Epoch 63/1000\n",
            "131559/131559 [==============================] - 7s 55us/sample - loss: 1.2405 - acc: 0.5631 - val_loss: 2.6203 - val_acc: 0.3278\n",
            "Epoch 64/1000\n",
            "131559/131559 [==============================] - 7s 53us/sample - loss: 1.2350 - acc: 0.5636 - val_loss: 2.6762 - val_acc: 0.3195\n",
            "Epoch 65/1000\n",
            "131559/131559 [==============================] - 7s 53us/sample - loss: 1.2294 - acc: 0.5666 - val_loss: 2.6296 - val_acc: 0.3293\n",
            "Epoch 66/1000\n",
            "131559/131559 [==============================] - 7s 55us/sample - loss: 1.2206 - acc: 0.5689 - val_loss: 2.7246 - val_acc: 0.3254\n",
            "Epoch 67/1000\n",
            " 88200/131559 [===================>..........] - ETA: 1s - loss: 1.2088 - acc: 0.5714"
          ],
          "name": "stdout"
        },
        {
          "output_type": "error",
          "ename": "KeyboardInterrupt",
          "evalue": "ignored",
          "traceback": [
            "\u001b[0;31m---------------------------------------------------------------------------\u001b[0m",
            "\u001b[0;31mKeyboardInterrupt\u001b[0m                         Traceback (most recent call last)",
            "\u001b[0;32m<ipython-input-175-7041438d7a7d>\u001b[0m in \u001b[0;36m<module>\u001b[0;34m()\u001b[0m\n\u001b[1;32m      1\u001b[0m \u001b[0mmodel\u001b[0m \u001b[0;34m=\u001b[0m \u001b[0mcreate_model\u001b[0m\u001b[0;34m(\u001b[0m\u001b[0;34m)\u001b[0m\u001b[0;34m\u001b[0m\u001b[0;34m\u001b[0m\u001b[0m\n\u001b[1;32m      2\u001b[0m \u001b[0;31m# fit the model with parameters.\u001b[0m\u001b[0;34m\u001b[0m\u001b[0;34m\u001b[0m\u001b[0;34m\u001b[0m\u001b[0m\n\u001b[0;32m----> 3\u001b[0;31m \u001b[0mmodel\u001b[0m\u001b[0;34m.\u001b[0m\u001b[0mfit\u001b[0m\u001b[0;34m(\u001b[0m\u001b[0mX_scaled\u001b[0m\u001b[0;34m,\u001b[0m \u001b[0my_train\u001b[0m\u001b[0;34m,\u001b[0m \u001b[0mvalidation_split\u001b[0m\u001b[0;34m=\u001b[0m\u001b[0;36m0.2\u001b[0m\u001b[0;34m,\u001b[0m \u001b[0mbatch_size\u001b[0m\u001b[0;34m=\u001b[0m\u001b[0;36m200\u001b[0m\u001b[0;34m,\u001b[0m \u001b[0mepochs\u001b[0m\u001b[0;34m=\u001b[0m\u001b[0;36m1000\u001b[0m\u001b[0;34m)\u001b[0m\u001b[0;34m\u001b[0m\u001b[0;34m\u001b[0m\u001b[0m\n\u001b[0m",
            "\u001b[0;32m/usr/local/lib/python3.6/dist-packages/tensorflow_core/python/keras/engine/training.py\u001b[0m in \u001b[0;36mfit\u001b[0;34m(self, x, y, batch_size, epochs, verbose, callbacks, validation_split, validation_data, shuffle, class_weight, sample_weight, initial_epoch, steps_per_epoch, validation_steps, validation_freq, max_queue_size, workers, use_multiprocessing, **kwargs)\u001b[0m\n\u001b[1;32m    725\u001b[0m         \u001b[0mmax_queue_size\u001b[0m\u001b[0;34m=\u001b[0m\u001b[0mmax_queue_size\u001b[0m\u001b[0;34m,\u001b[0m\u001b[0;34m\u001b[0m\u001b[0;34m\u001b[0m\u001b[0m\n\u001b[1;32m    726\u001b[0m         \u001b[0mworkers\u001b[0m\u001b[0;34m=\u001b[0m\u001b[0mworkers\u001b[0m\u001b[0;34m,\u001b[0m\u001b[0;34m\u001b[0m\u001b[0;34m\u001b[0m\u001b[0m\n\u001b[0;32m--> 727\u001b[0;31m         use_multiprocessing=use_multiprocessing)\n\u001b[0m\u001b[1;32m    728\u001b[0m \u001b[0;34m\u001b[0m\u001b[0m\n\u001b[1;32m    729\u001b[0m   def evaluate(self,\n",
            "\u001b[0;32m/usr/local/lib/python3.6/dist-packages/tensorflow_core/python/keras/engine/training_arrays.py\u001b[0m in \u001b[0;36mfit\u001b[0;34m(self, model, x, y, batch_size, epochs, verbose, callbacks, validation_split, validation_data, shuffle, class_weight, sample_weight, initial_epoch, steps_per_epoch, validation_steps, validation_freq, **kwargs)\u001b[0m\n\u001b[1;32m    673\u001b[0m         \u001b[0mvalidation_steps\u001b[0m\u001b[0;34m=\u001b[0m\u001b[0mvalidation_steps\u001b[0m\u001b[0;34m,\u001b[0m\u001b[0;34m\u001b[0m\u001b[0;34m\u001b[0m\u001b[0m\n\u001b[1;32m    674\u001b[0m         \u001b[0mvalidation_freq\u001b[0m\u001b[0;34m=\u001b[0m\u001b[0mvalidation_freq\u001b[0m\u001b[0;34m,\u001b[0m\u001b[0;34m\u001b[0m\u001b[0;34m\u001b[0m\u001b[0m\n\u001b[0;32m--> 675\u001b[0;31m         steps_name='steps_per_epoch')\n\u001b[0m\u001b[1;32m    676\u001b[0m \u001b[0;34m\u001b[0m\u001b[0m\n\u001b[1;32m    677\u001b[0m   def evaluate(self,\n",
            "\u001b[0;32m/usr/local/lib/python3.6/dist-packages/tensorflow_core/python/keras/engine/training_arrays.py\u001b[0m in \u001b[0;36mmodel_iteration\u001b[0;34m(model, inputs, targets, sample_weights, batch_size, epochs, verbose, callbacks, val_inputs, val_targets, val_sample_weights, shuffle, initial_epoch, steps_per_epoch, validation_steps, validation_freq, mode, validation_in_fit, prepared_feed_values_from_dataset, steps_name, **kwargs)\u001b[0m\n\u001b[1;32m    392\u001b[0m \u001b[0;34m\u001b[0m\u001b[0m\n\u001b[1;32m    393\u001b[0m         \u001b[0;31m# Get outputs.\u001b[0m\u001b[0;34m\u001b[0m\u001b[0;34m\u001b[0m\u001b[0;34m\u001b[0m\u001b[0m\n\u001b[0;32m--> 394\u001b[0;31m         \u001b[0mbatch_outs\u001b[0m \u001b[0;34m=\u001b[0m \u001b[0mf\u001b[0m\u001b[0;34m(\u001b[0m\u001b[0mins_batch\u001b[0m\u001b[0;34m)\u001b[0m\u001b[0;34m\u001b[0m\u001b[0;34m\u001b[0m\u001b[0m\n\u001b[0m\u001b[1;32m    395\u001b[0m         \u001b[0;32mif\u001b[0m \u001b[0;32mnot\u001b[0m \u001b[0misinstance\u001b[0m\u001b[0;34m(\u001b[0m\u001b[0mbatch_outs\u001b[0m\u001b[0;34m,\u001b[0m \u001b[0mlist\u001b[0m\u001b[0;34m)\u001b[0m\u001b[0;34m:\u001b[0m\u001b[0;34m\u001b[0m\u001b[0;34m\u001b[0m\u001b[0m\n\u001b[1;32m    396\u001b[0m           \u001b[0mbatch_outs\u001b[0m \u001b[0;34m=\u001b[0m \u001b[0;34m[\u001b[0m\u001b[0mbatch_outs\u001b[0m\u001b[0;34m]\u001b[0m\u001b[0;34m\u001b[0m\u001b[0;34m\u001b[0m\u001b[0m\n",
            "\u001b[0;32m/usr/local/lib/python3.6/dist-packages/tensorflow_core/python/keras/backend.py\u001b[0m in \u001b[0;36m__call__\u001b[0;34m(self, inputs)\u001b[0m\n\u001b[1;32m   3439\u001b[0m     \u001b[0minputs\u001b[0m \u001b[0;34m=\u001b[0m \u001b[0mnest\u001b[0m\u001b[0;34m.\u001b[0m\u001b[0mflatten\u001b[0m\u001b[0;34m(\u001b[0m\u001b[0minputs\u001b[0m\u001b[0;34m,\u001b[0m \u001b[0mexpand_composites\u001b[0m\u001b[0;34m=\u001b[0m\u001b[0;32mTrue\u001b[0m\u001b[0;34m)\u001b[0m\u001b[0;34m\u001b[0m\u001b[0;34m\u001b[0m\u001b[0m\n\u001b[1;32m   3440\u001b[0m \u001b[0;34m\u001b[0m\u001b[0m\n\u001b[0;32m-> 3441\u001b[0;31m     \u001b[0msession\u001b[0m \u001b[0;34m=\u001b[0m \u001b[0mget_session\u001b[0m\u001b[0;34m(\u001b[0m\u001b[0minputs\u001b[0m\u001b[0;34m)\u001b[0m\u001b[0;34m\u001b[0m\u001b[0;34m\u001b[0m\u001b[0m\n\u001b[0m\u001b[1;32m   3442\u001b[0m     \u001b[0mfeed_arrays\u001b[0m \u001b[0;34m=\u001b[0m \u001b[0;34m[\u001b[0m\u001b[0;34m]\u001b[0m\u001b[0;34m\u001b[0m\u001b[0;34m\u001b[0m\u001b[0m\n\u001b[1;32m   3443\u001b[0m     \u001b[0marray_vals\u001b[0m \u001b[0;34m=\u001b[0m \u001b[0;34m[\u001b[0m\u001b[0;34m]\u001b[0m\u001b[0;34m\u001b[0m\u001b[0;34m\u001b[0m\u001b[0m\n",
            "\u001b[0;32m/usr/local/lib/python3.6/dist-packages/tensorflow_core/python/keras/backend.py\u001b[0m in \u001b[0;36mget_session\u001b[0;34m(op_input_list)\u001b[0m\n\u001b[1;32m    484\u001b[0m   \u001b[0;32mif\u001b[0m \u001b[0;32mnot\u001b[0m \u001b[0m_MANUAL_VAR_INIT\u001b[0m\u001b[0;34m:\u001b[0m\u001b[0;34m\u001b[0m\u001b[0;34m\u001b[0m\u001b[0m\n\u001b[1;32m    485\u001b[0m     \u001b[0;32mwith\u001b[0m \u001b[0msession\u001b[0m\u001b[0;34m.\u001b[0m\u001b[0mgraph\u001b[0m\u001b[0;34m.\u001b[0m\u001b[0mas_default\u001b[0m\u001b[0;34m(\u001b[0m\u001b[0;34m)\u001b[0m\u001b[0;34m:\u001b[0m\u001b[0;34m\u001b[0m\u001b[0;34m\u001b[0m\u001b[0m\n\u001b[0;32m--> 486\u001b[0;31m       \u001b[0m_initialize_variables\u001b[0m\u001b[0;34m(\u001b[0m\u001b[0msession\u001b[0m\u001b[0;34m)\u001b[0m\u001b[0;34m\u001b[0m\u001b[0;34m\u001b[0m\u001b[0m\n\u001b[0m\u001b[1;32m    487\u001b[0m   \u001b[0;32mreturn\u001b[0m \u001b[0msession\u001b[0m\u001b[0;34m\u001b[0m\u001b[0;34m\u001b[0m\u001b[0m\n\u001b[1;32m    488\u001b[0m \u001b[0;34m\u001b[0m\u001b[0m\n",
            "\u001b[0;32m/usr/local/lib/python3.6/dist-packages/tensorflow_core/python/keras/backend.py\u001b[0m in \u001b[0;36m_initialize_variables\u001b[0;34m(session)\u001b[0m\n\u001b[1;32m    894\u001b[0m   \u001b[0mvariables\u001b[0m \u001b[0;34m=\u001b[0m \u001b[0m_get_variables\u001b[0m\u001b[0;34m(\u001b[0m\u001b[0mget_graph\u001b[0m\u001b[0;34m(\u001b[0m\u001b[0;34m)\u001b[0m\u001b[0;34m)\u001b[0m\u001b[0;34m\u001b[0m\u001b[0;34m\u001b[0m\u001b[0m\n\u001b[1;32m    895\u001b[0m   \u001b[0mcandidate_vars\u001b[0m \u001b[0;34m=\u001b[0m \u001b[0;34m[\u001b[0m\u001b[0;34m]\u001b[0m\u001b[0;34m\u001b[0m\u001b[0;34m\u001b[0m\u001b[0m\n\u001b[0;32m--> 896\u001b[0;31m   \u001b[0;32mfor\u001b[0m \u001b[0mv\u001b[0m \u001b[0;32min\u001b[0m \u001b[0mvariables\u001b[0m\u001b[0;34m:\u001b[0m\u001b[0;34m\u001b[0m\u001b[0;34m\u001b[0m\u001b[0m\n\u001b[0m\u001b[1;32m    897\u001b[0m     \u001b[0;32mif\u001b[0m \u001b[0;32mnot\u001b[0m \u001b[0mgetattr\u001b[0m\u001b[0;34m(\u001b[0m\u001b[0mv\u001b[0m\u001b[0;34m,\u001b[0m \u001b[0;34m'_keras_initialized'\u001b[0m\u001b[0;34m,\u001b[0m \u001b[0;32mFalse\u001b[0m\u001b[0;34m)\u001b[0m\u001b[0;34m:\u001b[0m\u001b[0;34m\u001b[0m\u001b[0;34m\u001b[0m\u001b[0m\n\u001b[1;32m    898\u001b[0m       \u001b[0mcandidate_vars\u001b[0m\u001b[0;34m.\u001b[0m\u001b[0mappend\u001b[0m\u001b[0;34m(\u001b[0m\u001b[0mv\u001b[0m\u001b[0;34m)\u001b[0m\u001b[0;34m\u001b[0m\u001b[0;34m\u001b[0m\u001b[0m\n",
            "\u001b[0;32m/usr/local/lib/python3.6/dist-packages/tensorflow_core/python/util/object_identity.py\u001b[0m in \u001b[0;36m__iter__\u001b[0;34m(self)\u001b[0m\n\u001b[1;32m    215\u001b[0m         \u001b[0mself\u001b[0m\u001b[0;34m.\u001b[0m\u001b[0mdiscard\u001b[0m\u001b[0;34m(\u001b[0m\u001b[0mkey\u001b[0m\u001b[0;34m)\u001b[0m\u001b[0;34m\u001b[0m\u001b[0;34m\u001b[0m\u001b[0m\n\u001b[1;32m    216\u001b[0m       \u001b[0;32melse\u001b[0m\u001b[0;34m:\u001b[0m\u001b[0;34m\u001b[0m\u001b[0;34m\u001b[0m\u001b[0m\n\u001b[0;32m--> 217\u001b[0;31m         \u001b[0;32myield\u001b[0m \u001b[0munwrapped\u001b[0m\u001b[0;34m\u001b[0m\u001b[0;34m\u001b[0m\u001b[0m\n\u001b[0m",
            "\u001b[0;31mKeyboardInterrupt\u001b[0m: "
          ]
        }
      ]
    },
    {
      "cell_type": "code",
      "metadata": {
        "id": "PPK0OENO_Erq",
        "colab_type": "code",
        "colab": {
          "base_uri": "https://localhost:8080/",
          "height": 33
        },
        "outputId": "06bc4d56-dd68-43a8-f17e-acaa36f4b609"
      },
      "source": [
        "# final model accuracy score.\n",
        "scores = model.evaluate(X_scaled, y_train)"
      ],
      "execution_count": 13,
      "outputs": [
        {
          "output_type": "stream",
          "text": [
            "164449/164449 [==============================] - 8s 50us/sample - loss: 1.8027 - acc: 0.3798\n"
          ],
          "name": "stdout"
        }
      ]
    }
  ]
}