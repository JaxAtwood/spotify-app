{
  "nbformat": 4,
  "nbformat_minor": 0,
  "metadata": {
    "colab": {
      "name": "Spotify_NN_TuningGridCV.ipynb",
      "provenance": [],
      "collapsed_sections": []
    },
    "kernelspec": {
      "name": "python3",
      "display_name": "Python 3"
    },
    "accelerator": "GPU"
  },
  "cells": [
    {
      "cell_type": "markdown",
      "metadata": {
        "id": "PQZK1Q-wHMhr",
        "colab_type": "text"
      },
      "source": [
        "# NeuralNetwork."
      ]
    },
    {
      "cell_type": "markdown",
      "metadata": {
        "id": "Po5At9QnVfo4",
        "colab_type": "text"
      },
      "source": [
        "### Data Preparation."
      ]
    },
    {
      "cell_type": "code",
      "metadata": {
        "id": "Xd6cgX-TTUV_",
        "colab_type": "code",
        "outputId": "02ede541-01ec-49ca-e7e9-641641ab129d",
        "colab": {
          "base_uri": "https://localhost:8080/",
          "height": 61
        }
      },
      "source": [
        "# imports.\n",
        "import pandas as pd\n",
        "import numpy as np\n",
        "from tensorflow.keras.preprocessing import sequence\n",
        "from tensorflow.keras.models import Sequential\n",
        "from tensorflow.keras.layers import Dense, Dropout\n",
        "from tensorflow.keras.utils import to_categorical\n",
        "from tensorflow.keras.metrics import top_k_categorical_accuracy\n",
        "from sklearn.preprocessing import StandardScaler\n",
        "from sklearn.model_selection import GridSearchCV\n",
        "from tensorflow.keras.wrappers.scikit_learn import KerasClassifier\n",
        "from tensorflow.keras.optimizers import Adam\n",
        "import matplotlib.pyplot as plt"
      ],
      "execution_count": 0,
      "outputs": [
        {
          "output_type": "display_data",
          "data": {
            "text/html": [
              "<p style=\"color: red;\">\n",
              "The default version of TensorFlow in Colab will soon switch to TensorFlow 2.x.<br>\n",
              "We recommend you <a href=\"https://www.tensorflow.org/guide/migrate\" target=\"_blank\">upgrade</a> now \n",
              "or ensure your notebook will continue to use TensorFlow 1.x via the <code>%tensorflow_version 1.x</code> magic:\n",
              "<a href=\"https://colab.research.google.com/notebooks/tensorflow_version.ipynb\" target=\"_blank\">more info</a>.</p>\n"
            ],
            "text/plain": [
              "<IPython.core.display.HTML object>"
            ]
          },
          "metadata": {
            "tags": []
          }
        }
      ]
    },
    {
      "cell_type": "code",
      "metadata": {
        "id": "QW-fT6lVT9Tc",
        "colab_type": "code",
        "outputId": "6456fbe1-574d-4c64-b9af-117684e20bcc",
        "colab": {
          "base_uri": "https://localhost:8080/",
          "height": 205
        }
      },
      "source": [
        "# read in the data.\n",
        "df = pd.read_csv('https://raw.githubusercontent.com/spotify-song-suggester-1/spotify-app/master/ds/Data/SpotifyTracks_doubleforloop_genre_year.csv',index_col=[0])\n",
        "# show the data frame.\n",
        "print(df.shape)\n",
        "df.head()"
      ],
      "execution_count": 0,
      "outputs": [
        {
          "output_type": "stream",
          "text": [
            "(164449, 20)\n"
          ],
          "name": "stdout"
        },
        {
          "output_type": "execute_result",
          "data": {
            "text/html": [
              "<div>\n",
              "<style scoped>\n",
              "    .dataframe tbody tr th:only-of-type {\n",
              "        vertical-align: middle;\n",
              "    }\n",
              "\n",
              "    .dataframe tbody tr th {\n",
              "        vertical-align: top;\n",
              "    }\n",
              "\n",
              "    .dataframe thead th {\n",
              "        text-align: right;\n",
              "    }\n",
              "</style>\n",
              "<table border=\"1\" class=\"dataframe\">\n",
              "  <thead>\n",
              "    <tr style=\"text-align: right;\">\n",
              "      <th></th>\n",
              "      <th>artist_name</th>\n",
              "      <th>track_name</th>\n",
              "      <th>track_id</th>\n",
              "      <th>popularity</th>\n",
              "      <th>year</th>\n",
              "      <th>genre</th>\n",
              "      <th>id</th>\n",
              "      <th>acousticness</th>\n",
              "      <th>danceability</th>\n",
              "      <th>duration_ms</th>\n",
              "      <th>energy</th>\n",
              "      <th>instrumentalness</th>\n",
              "      <th>key</th>\n",
              "      <th>liveness</th>\n",
              "      <th>loudness</th>\n",
              "      <th>mode</th>\n",
              "      <th>speechiness</th>\n",
              "      <th>tempo</th>\n",
              "      <th>time_signature</th>\n",
              "      <th>valence</th>\n",
              "    </tr>\n",
              "  </thead>\n",
              "  <tbody>\n",
              "    <tr>\n",
              "      <th>0</th>\n",
              "      <td>Gorillaz</td>\n",
              "      <td>On Melancholy Hill</td>\n",
              "      <td>0q6LuUqGLUiCPP1cbdwFs3</td>\n",
              "      <td>75</td>\n",
              "      <td>2010</td>\n",
              "      <td>alternative</td>\n",
              "      <td>0</td>\n",
              "      <td>0.000015</td>\n",
              "      <td>0.689</td>\n",
              "      <td>233867</td>\n",
              "      <td>0.739</td>\n",
              "      <td>0.509000</td>\n",
              "      <td>2</td>\n",
              "      <td>0.0640</td>\n",
              "      <td>-5.810</td>\n",
              "      <td>1</td>\n",
              "      <td>0.0260</td>\n",
              "      <td>120.423</td>\n",
              "      <td>4</td>\n",
              "      <td>0.578</td>\n",
              "    </tr>\n",
              "    <tr>\n",
              "      <th>1</th>\n",
              "      <td>Avenged Sevenfold</td>\n",
              "      <td>Nightmare</td>\n",
              "      <td>4UEo1b0wWrtHMC8bVqPiH8</td>\n",
              "      <td>70</td>\n",
              "      <td>2010</td>\n",
              "      <td>alternative</td>\n",
              "      <td>1</td>\n",
              "      <td>0.000318</td>\n",
              "      <td>0.554</td>\n",
              "      <td>374453</td>\n",
              "      <td>0.949</td>\n",
              "      <td>0.000100</td>\n",
              "      <td>2</td>\n",
              "      <td>0.2000</td>\n",
              "      <td>-4.928</td>\n",
              "      <td>1</td>\n",
              "      <td>0.0787</td>\n",
              "      <td>129.984</td>\n",
              "      <td>4</td>\n",
              "      <td>0.233</td>\n",
              "    </tr>\n",
              "    <tr>\n",
              "      <th>2</th>\n",
              "      <td>The Black Keys</td>\n",
              "      <td>Howlin' for You</td>\n",
              "      <td>0grFc6klR3hxoHLcgCYsF4</td>\n",
              "      <td>66</td>\n",
              "      <td>2010</td>\n",
              "      <td>alternative</td>\n",
              "      <td>2</td>\n",
              "      <td>0.028000</td>\n",
              "      <td>0.705</td>\n",
              "      <td>191800</td>\n",
              "      <td>0.735</td>\n",
              "      <td>0.078300</td>\n",
              "      <td>11</td>\n",
              "      <td>0.1120</td>\n",
              "      <td>-6.646</td>\n",
              "      <td>1</td>\n",
              "      <td>0.0931</td>\n",
              "      <td>132.627</td>\n",
              "      <td>4</td>\n",
              "      <td>0.448</td>\n",
              "    </tr>\n",
              "    <tr>\n",
              "      <th>3</th>\n",
              "      <td>My Darkest Days</td>\n",
              "      <td>Porn Star Dancing</td>\n",
              "      <td>3Q8zopc4ABXhysDb1sgLVW</td>\n",
              "      <td>65</td>\n",
              "      <td>2010</td>\n",
              "      <td>alternative</td>\n",
              "      <td>3</td>\n",
              "      <td>0.013900</td>\n",
              "      <td>0.477</td>\n",
              "      <td>199013</td>\n",
              "      <td>0.917</td>\n",
              "      <td>0.000000</td>\n",
              "      <td>2</td>\n",
              "      <td>0.0756</td>\n",
              "      <td>-3.399</td>\n",
              "      <td>1</td>\n",
              "      <td>0.0837</td>\n",
              "      <td>160.044</td>\n",
              "      <td>4</td>\n",
              "      <td>0.271</td>\n",
              "    </tr>\n",
              "    <tr>\n",
              "      <th>4</th>\n",
              "      <td>Volbeat</td>\n",
              "      <td>A Warrior's Call</td>\n",
              "      <td>0hTiTU0yqthnByyZDD3bcc</td>\n",
              "      <td>62</td>\n",
              "      <td>2010</td>\n",
              "      <td>alternative</td>\n",
              "      <td>4</td>\n",
              "      <td>0.000750</td>\n",
              "      <td>0.374</td>\n",
              "      <td>263080</td>\n",
              "      <td>0.903</td>\n",
              "      <td>0.000006</td>\n",
              "      <td>10</td>\n",
              "      <td>0.2440</td>\n",
              "      <td>-4.490</td>\n",
              "      <td>1</td>\n",
              "      <td>0.0825</td>\n",
              "      <td>109.118</td>\n",
              "      <td>3</td>\n",
              "      <td>0.429</td>\n",
              "    </tr>\n",
              "  </tbody>\n",
              "</table>\n",
              "</div>"
            ],
            "text/plain": [
              "         artist_name          track_name  ... time_signature  valence\n",
              "0           Gorillaz  On Melancholy Hill  ...              4    0.578\n",
              "1  Avenged Sevenfold           Nightmare  ...              4    0.233\n",
              "2     The Black Keys     Howlin' for You  ...              4    0.448\n",
              "3    My Darkest Days   Porn Star Dancing  ...              4    0.271\n",
              "4            Volbeat    A Warrior's Call  ...              3    0.429\n",
              "\n",
              "[5 rows x 20 columns]"
            ]
          },
          "metadata": {
            "tags": []
          },
          "execution_count": 2
        }
      ]
    },
    {
      "cell_type": "code",
      "metadata": {
        "id": "p7cYOHfLykeM",
        "colab_type": "code",
        "outputId": "02ebead4-e0a0-4f74-c7c8-184a2167471b",
        "colab": {
          "base_uri": "https://localhost:8080/",
          "height": 341
        }
      },
      "source": [
        "# new data frame with encoded genre column.\n",
        "genreframe = pd.concat([df,pd.get_dummies(df['genre'], prefix='genre')],axis=1)\n",
        "# show the data frame.\n",
        "print(genreframe.shape)\n",
        "genreframe.head()"
      ],
      "execution_count": 0,
      "outputs": [
        {
          "output_type": "stream",
          "text": [
            "(164449, 32)\n"
          ],
          "name": "stdout"
        },
        {
          "output_type": "execute_result",
          "data": {
            "text/html": [
              "<div>\n",
              "<style scoped>\n",
              "    .dataframe tbody tr th:only-of-type {\n",
              "        vertical-align: middle;\n",
              "    }\n",
              "\n",
              "    .dataframe tbody tr th {\n",
              "        vertical-align: top;\n",
              "    }\n",
              "\n",
              "    .dataframe thead th {\n",
              "        text-align: right;\n",
              "    }\n",
              "</style>\n",
              "<table border=\"1\" class=\"dataframe\">\n",
              "  <thead>\n",
              "    <tr style=\"text-align: right;\">\n",
              "      <th></th>\n",
              "      <th>artist_name</th>\n",
              "      <th>track_name</th>\n",
              "      <th>track_id</th>\n",
              "      <th>popularity</th>\n",
              "      <th>year</th>\n",
              "      <th>genre</th>\n",
              "      <th>id</th>\n",
              "      <th>acousticness</th>\n",
              "      <th>danceability</th>\n",
              "      <th>duration_ms</th>\n",
              "      <th>energy</th>\n",
              "      <th>instrumentalness</th>\n",
              "      <th>key</th>\n",
              "      <th>liveness</th>\n",
              "      <th>loudness</th>\n",
              "      <th>mode</th>\n",
              "      <th>speechiness</th>\n",
              "      <th>tempo</th>\n",
              "      <th>time_signature</th>\n",
              "      <th>valence</th>\n",
              "      <th>genre_alternative</th>\n",
              "      <th>genre_country</th>\n",
              "      <th>genre_dance</th>\n",
              "      <th>genre_folk</th>\n",
              "      <th>genre_grunge</th>\n",
              "      <th>genre_indie</th>\n",
              "      <th>genre_jazz</th>\n",
              "      <th>genre_metal</th>\n",
              "      <th>genre_pop</th>\n",
              "      <th>genre_punk</th>\n",
              "      <th>genre_rap</th>\n",
              "      <th>genre_rock</th>\n",
              "    </tr>\n",
              "  </thead>\n",
              "  <tbody>\n",
              "    <tr>\n",
              "      <th>0</th>\n",
              "      <td>Gorillaz</td>\n",
              "      <td>On Melancholy Hill</td>\n",
              "      <td>0q6LuUqGLUiCPP1cbdwFs3</td>\n",
              "      <td>75</td>\n",
              "      <td>2010</td>\n",
              "      <td>alternative</td>\n",
              "      <td>0</td>\n",
              "      <td>0.000015</td>\n",
              "      <td>0.689</td>\n",
              "      <td>233867</td>\n",
              "      <td>0.739</td>\n",
              "      <td>0.509000</td>\n",
              "      <td>2</td>\n",
              "      <td>0.0640</td>\n",
              "      <td>-5.810</td>\n",
              "      <td>1</td>\n",
              "      <td>0.0260</td>\n",
              "      <td>120.423</td>\n",
              "      <td>4</td>\n",
              "      <td>0.578</td>\n",
              "      <td>1</td>\n",
              "      <td>0</td>\n",
              "      <td>0</td>\n",
              "      <td>0</td>\n",
              "      <td>0</td>\n",
              "      <td>0</td>\n",
              "      <td>0</td>\n",
              "      <td>0</td>\n",
              "      <td>0</td>\n",
              "      <td>0</td>\n",
              "      <td>0</td>\n",
              "      <td>0</td>\n",
              "    </tr>\n",
              "    <tr>\n",
              "      <th>1</th>\n",
              "      <td>Avenged Sevenfold</td>\n",
              "      <td>Nightmare</td>\n",
              "      <td>4UEo1b0wWrtHMC8bVqPiH8</td>\n",
              "      <td>70</td>\n",
              "      <td>2010</td>\n",
              "      <td>alternative</td>\n",
              "      <td>1</td>\n",
              "      <td>0.000318</td>\n",
              "      <td>0.554</td>\n",
              "      <td>374453</td>\n",
              "      <td>0.949</td>\n",
              "      <td>0.000100</td>\n",
              "      <td>2</td>\n",
              "      <td>0.2000</td>\n",
              "      <td>-4.928</td>\n",
              "      <td>1</td>\n",
              "      <td>0.0787</td>\n",
              "      <td>129.984</td>\n",
              "      <td>4</td>\n",
              "      <td>0.233</td>\n",
              "      <td>1</td>\n",
              "      <td>0</td>\n",
              "      <td>0</td>\n",
              "      <td>0</td>\n",
              "      <td>0</td>\n",
              "      <td>0</td>\n",
              "      <td>0</td>\n",
              "      <td>0</td>\n",
              "      <td>0</td>\n",
              "      <td>0</td>\n",
              "      <td>0</td>\n",
              "      <td>0</td>\n",
              "    </tr>\n",
              "    <tr>\n",
              "      <th>2</th>\n",
              "      <td>The Black Keys</td>\n",
              "      <td>Howlin' for You</td>\n",
              "      <td>0grFc6klR3hxoHLcgCYsF4</td>\n",
              "      <td>66</td>\n",
              "      <td>2010</td>\n",
              "      <td>alternative</td>\n",
              "      <td>2</td>\n",
              "      <td>0.028000</td>\n",
              "      <td>0.705</td>\n",
              "      <td>191800</td>\n",
              "      <td>0.735</td>\n",
              "      <td>0.078300</td>\n",
              "      <td>11</td>\n",
              "      <td>0.1120</td>\n",
              "      <td>-6.646</td>\n",
              "      <td>1</td>\n",
              "      <td>0.0931</td>\n",
              "      <td>132.627</td>\n",
              "      <td>4</td>\n",
              "      <td>0.448</td>\n",
              "      <td>1</td>\n",
              "      <td>0</td>\n",
              "      <td>0</td>\n",
              "      <td>0</td>\n",
              "      <td>0</td>\n",
              "      <td>0</td>\n",
              "      <td>0</td>\n",
              "      <td>0</td>\n",
              "      <td>0</td>\n",
              "      <td>0</td>\n",
              "      <td>0</td>\n",
              "      <td>0</td>\n",
              "    </tr>\n",
              "    <tr>\n",
              "      <th>3</th>\n",
              "      <td>My Darkest Days</td>\n",
              "      <td>Porn Star Dancing</td>\n",
              "      <td>3Q8zopc4ABXhysDb1sgLVW</td>\n",
              "      <td>65</td>\n",
              "      <td>2010</td>\n",
              "      <td>alternative</td>\n",
              "      <td>3</td>\n",
              "      <td>0.013900</td>\n",
              "      <td>0.477</td>\n",
              "      <td>199013</td>\n",
              "      <td>0.917</td>\n",
              "      <td>0.000000</td>\n",
              "      <td>2</td>\n",
              "      <td>0.0756</td>\n",
              "      <td>-3.399</td>\n",
              "      <td>1</td>\n",
              "      <td>0.0837</td>\n",
              "      <td>160.044</td>\n",
              "      <td>4</td>\n",
              "      <td>0.271</td>\n",
              "      <td>1</td>\n",
              "      <td>0</td>\n",
              "      <td>0</td>\n",
              "      <td>0</td>\n",
              "      <td>0</td>\n",
              "      <td>0</td>\n",
              "      <td>0</td>\n",
              "      <td>0</td>\n",
              "      <td>0</td>\n",
              "      <td>0</td>\n",
              "      <td>0</td>\n",
              "      <td>0</td>\n",
              "    </tr>\n",
              "    <tr>\n",
              "      <th>4</th>\n",
              "      <td>Volbeat</td>\n",
              "      <td>A Warrior's Call</td>\n",
              "      <td>0hTiTU0yqthnByyZDD3bcc</td>\n",
              "      <td>62</td>\n",
              "      <td>2010</td>\n",
              "      <td>alternative</td>\n",
              "      <td>4</td>\n",
              "      <td>0.000750</td>\n",
              "      <td>0.374</td>\n",
              "      <td>263080</td>\n",
              "      <td>0.903</td>\n",
              "      <td>0.000006</td>\n",
              "      <td>10</td>\n",
              "      <td>0.2440</td>\n",
              "      <td>-4.490</td>\n",
              "      <td>1</td>\n",
              "      <td>0.0825</td>\n",
              "      <td>109.118</td>\n",
              "      <td>3</td>\n",
              "      <td>0.429</td>\n",
              "      <td>1</td>\n",
              "      <td>0</td>\n",
              "      <td>0</td>\n",
              "      <td>0</td>\n",
              "      <td>0</td>\n",
              "      <td>0</td>\n",
              "      <td>0</td>\n",
              "      <td>0</td>\n",
              "      <td>0</td>\n",
              "      <td>0</td>\n",
              "      <td>0</td>\n",
              "      <td>0</td>\n",
              "    </tr>\n",
              "  </tbody>\n",
              "</table>\n",
              "</div>"
            ],
            "text/plain": [
              "         artist_name          track_name  ... genre_rap  genre_rock\n",
              "0           Gorillaz  On Melancholy Hill  ...         0           0\n",
              "1  Avenged Sevenfold           Nightmare  ...         0           0\n",
              "2     The Black Keys     Howlin' for You  ...         0           0\n",
              "3    My Darkest Days   Porn Star Dancing  ...         0           0\n",
              "4            Volbeat    A Warrior's Call  ...         0           0\n",
              "\n",
              "[5 rows x 32 columns]"
            ]
          },
          "metadata": {
            "tags": []
          },
          "execution_count": 3
        }
      ]
    },
    {
      "cell_type": "code",
      "metadata": {
        "id": "OLXpKFMn21FC",
        "colab_type": "code",
        "outputId": "f60f59f4-4cb0-42aa-dee3-47b93054c320",
        "colab": {
          "base_uri": "https://localhost:8080/",
          "height": 247
        }
      },
      "source": [
        "# show only the audio features.\n",
        "genreframe.iloc[0,7:20]"
      ],
      "execution_count": 0,
      "outputs": [
        {
          "output_type": "execute_result",
          "data": {
            "text/plain": [
              "acousticness        1.51e-05\n",
              "danceability           0.689\n",
              "duration_ms           233867\n",
              "energy                 0.739\n",
              "instrumentalness       0.509\n",
              "key                        2\n",
              "liveness               0.064\n",
              "loudness               -5.81\n",
              "mode                       1\n",
              "speechiness            0.026\n",
              "tempo                120.423\n",
              "time_signature             4\n",
              "valence                0.578\n",
              "Name: 0, dtype: object"
            ]
          },
          "metadata": {
            "tags": []
          },
          "execution_count": 4
        }
      ]
    },
    {
      "cell_type": "code",
      "metadata": {
        "id": "7XxUNwzqq2sk",
        "colab_type": "code",
        "outputId": "1ee397f3-8729-445f-f80e-858aebe0e5cd",
        "colab": {
          "base_uri": "https://localhost:8080/",
          "height": 247
        }
      },
      "source": [
        "# set the X_train data on the audio features.\n",
        "X_train = genreframe.iloc[:,7:20].to_numpy()\n",
        "# set the standard scalar \n",
        "scaler = StandardScaler()\n",
        "# fit the scalar on the X_train data.\n",
        "X_scaled = scaler.fit_transform(X_train)\n",
        "# show the array.\n",
        "print(X_scaled.shape)\n",
        "X_scaled"
      ],
      "execution_count": 0,
      "outputs": [
        {
          "output_type": "stream",
          "text": [
            "(164449, 13)\n"
          ],
          "name": "stdout"
        },
        {
          "output_type": "execute_result",
          "data": {
            "text/plain": [
              "array([[-0.81353437,  0.86273319,  0.01422737, ..., -0.07457545,\n",
              "         0.21919423,  0.52020022],\n",
              "       [-0.81253793,  0.02764277,  1.61395879, ...,  0.24680209,\n",
              "         0.21919423, -0.95936143],\n",
              "       [-0.72147348,  0.96170687, -0.46445403, ...,  0.33564226,\n",
              "         0.21919423, -0.03731576],\n",
              "       ...,\n",
              "       [ 0.35424623,  1.02975127,  0.17080273, ..., -0.0196848 ,\n",
              "         0.21919423,  1.42080297],\n",
              "       [-0.80624809, -0.62187201, -1.57989421, ..., -1.07440547,\n",
              "         0.21919423,  1.22781667],\n",
              "       [-0.42211418,  1.23388449, -0.24267685, ..., -0.99696024,\n",
              "         0.21919423, -0.50048289]])"
            ]
          },
          "metadata": {
            "tags": []
          },
          "execution_count": 5
        }
      ]
    },
    {
      "cell_type": "code",
      "metadata": {
        "id": "iRCoXukYv3bI",
        "colab_type": "code",
        "outputId": "cf0a60bb-5b3d-47bb-e413-fe9ac04ef141",
        "colab": {
          "base_uri": "https://localhost:8080/",
          "height": 214
        }
      },
      "source": [
        "# create a list of the genres.\n",
        "genres = genreframe.genre.unique().tolist()\n",
        "genres"
      ],
      "execution_count": 0,
      "outputs": [
        {
          "output_type": "execute_result",
          "data": {
            "text/plain": [
              "['alternative',\n",
              " 'country',\n",
              " 'dance',\n",
              " 'folk',\n",
              " 'grunge',\n",
              " 'indie',\n",
              " 'jazz',\n",
              " 'metal',\n",
              " 'pop',\n",
              " 'punk',\n",
              " 'rap',\n",
              " 'rock']"
            ]
          },
          "metadata": {
            "tags": []
          },
          "execution_count": 6
        }
      ]
    },
    {
      "cell_type": "code",
      "metadata": {
        "id": "fohOUtlQs-0H",
        "colab_type": "code",
        "outputId": "f9e0ab61-c8ef-4259-f699-ffdbbb9a2648",
        "colab": {
          "base_uri": "https://localhost:8080/",
          "height": 148
        }
      },
      "source": [
        "# set the y_train as one hots.\n",
        "onehots = genreframe.iloc[:,20:]\n",
        "y_train = onehots.to_numpy()\n",
        "# show the array.\n",
        "print(y_train.shape)\n",
        "y_train"
      ],
      "execution_count": 0,
      "outputs": [
        {
          "output_type": "stream",
          "text": [
            "(164449, 12)\n"
          ],
          "name": "stdout"
        },
        {
          "output_type": "execute_result",
          "data": {
            "text/plain": [
              "array([[1, 0, 0, ..., 0, 0, 0],\n",
              "       [1, 0, 0, ..., 0, 0, 0],\n",
              "       [1, 0, 0, ..., 0, 0, 0],\n",
              "       ...,\n",
              "       [0, 0, 0, ..., 0, 0, 1],\n",
              "       [0, 0, 0, ..., 0, 0, 1],\n",
              "       [0, 0, 0, ..., 0, 0, 1]], dtype=uint8)"
            ]
          },
          "metadata": {
            "tags": []
          },
          "execution_count": 7
        }
      ]
    },
    {
      "cell_type": "markdown",
      "metadata": {
        "id": "ngIrkO9Lxjpa",
        "colab_type": "text"
      },
      "source": [
        "### Base Model."
      ]
    },
    {
      "cell_type": "code",
      "metadata": {
        "id": "_XFBrQTyUejP",
        "colab_type": "code",
        "colab": {}
      },
      "source": [
        "# function for NN model.\n",
        "def create_model():\n",
        "    # set the model.\n",
        "    model = Sequential()\n",
        "    # hidden layers.\n",
        "    model.add(Dense(48, input_dim=13, activation='relu'))\n",
        "    model.add(Dense(24, activation='relu'))\n",
        "    model.add(Dense(12,activation='softmax'))\n",
        "    # function for top 3.\n",
        "    def top_3_accuracy(y_true, y_pred):\n",
        "        return top_k_categorical_accuracy(y_true, y_pred, k=3)\n",
        "\n",
        "    # set the optimizer.\n",
        "    optimizer = Adam()\n",
        "    # compile the model.\n",
        "    model.compile(loss='categorical_crossentropy',\n",
        "                        optimizer=optimizer,\n",
        "                        metrics=['accuracy'])\n",
        "    return model"
      ],
      "execution_count": 0,
      "outputs": []
    },
    {
      "cell_type": "code",
      "metadata": {
        "id": "Ygl6RH8CL2KN",
        "colab_type": "code",
        "outputId": "e06b48d6-c1c0-4340-9df0-840b561c337f",
        "colab": {
          "base_uri": "https://localhost:8080/",
          "height": 247
        }
      },
      "source": [
        "# set the model.\n",
        "model = create_model()\n",
        "# show the model summary.\n",
        "model.summary()"
      ],
      "execution_count": 0,
      "outputs": [
        {
          "output_type": "stream",
          "text": [
            "Model: \"sequential_11\"\n",
            "_________________________________________________________________\n",
            "Layer (type)                 Output Shape              Param #   \n",
            "=================================================================\n",
            "dense_31 (Dense)             (None, 48)                672       \n",
            "_________________________________________________________________\n",
            "dense_32 (Dense)             (None, 24)                1176      \n",
            "_________________________________________________________________\n",
            "dense_33 (Dense)             (None, 12)                300       \n",
            "=================================================================\n",
            "Total params: 2,148\n",
            "Trainable params: 2,148\n",
            "Non-trainable params: 0\n",
            "_________________________________________________________________\n"
          ],
          "name": "stdout"
        }
      ]
    },
    {
      "cell_type": "code",
      "metadata": {
        "id": "eE8a9-JTL9Sj",
        "colab_type": "code",
        "colab": {}
      },
      "source": [
        "# set the model.\n",
        "model = create_model()\n",
        "# fit the model and create history.\n",
        "history = model.fit(X_scaled, y_train, validation_split=0.2, batch_size=200, epochs=20)"
      ],
      "execution_count": 0,
      "outputs": []
    },
    {
      "cell_type": "code",
      "metadata": {
        "id": "3UVyOXb-oePS",
        "colab_type": "code",
        "outputId": "37d25a00-6bc8-4145-ca99-cb569a31bfe2",
        "colab": {
          "base_uri": "https://localhost:8080/",
          "height": 33
        }
      },
      "source": [
        "# base model accuracy score.\n",
        "scores = model.evaluate(X_scaled, y_train)"
      ],
      "execution_count": 0,
      "outputs": [
        {
          "output_type": "stream",
          "text": [
            "164449/164449 [==============================] - 9s 54us/sample - loss: 1.7989 - acc: 0.3808\n"
          ],
          "name": "stdout"
        }
      ]
    },
    {
      "cell_type": "markdown",
      "metadata": {
        "id": "E2EXMgzwVZ40",
        "colab_type": "text"
      },
      "source": [
        "#### Base Model Visuals."
      ]
    },
    {
      "cell_type": "code",
      "metadata": {
        "id": "hWwPaekerboJ",
        "colab_type": "code",
        "outputId": "c6305e79-753d-4349-c0f8-87d2794ee7aa",
        "colab": {
          "base_uri": "https://localhost:8080/",
          "height": 795
        }
      },
      "source": [
        "# plot the model loss.\n",
        "fig, ax = plt.subplots(1, 1, figsize=(10,6))\n",
        "ax.plot(np.sqrt(history.history['loss']), 'r', label='train')\n",
        "ax.plot(np.sqrt(history.history['val_loss']), 'b' ,label='val')\n",
        "ax.set_xlabel(r'Epoch', fontsize=20)\n",
        "ax.set_ylabel(r'Loss', fontsize=20)\n",
        "ax.legend()\n",
        "ax.tick_params(labelsize=20)\n",
        "\n",
        "# plot the model accuracy.\n",
        "fig, ax = plt.subplots(1, 1, figsize=(10,6))\n",
        "ax.plot(np.sqrt(history.history['acc']), 'r', label='train')\n",
        "ax.plot(np.sqrt(history.history['val_acc']), 'b' ,label='val')\n",
        "ax.set_xlabel(r'Epoch', fontsize=20)\n",
        "ax.set_ylabel(r'Accuracy', fontsize=20)\n",
        "ax.legend()\n",
        "ax.tick_params(labelsize=20)"
      ],
      "execution_count": 0,
      "outputs": [
        {
          "output_type": "display_data",
          "data": {
            "image/png": "[encoded data removed]",
            "text/plain": [
              "<Figure size 720x432 with 1 Axes>"
            ]
          },
          "metadata": {
            "tags": []
          }
        },
        {
          "output_type": "display_data",
          "data": {
            "image/png": "[encoded data removed]",
            "text/plain": [
              "<Figure size 720x432 with 1 Axes>"
            ]
          },
          "metadata": {
            "tags": []
          }
        }
      ]
    },
    {
      "cell_type": "markdown",
      "metadata": {
        "id": "lPaHbCdJPEF3",
        "colab_type": "text"
      },
      "source": [
        "### Optimizer. *(adam)*"
      ]
    },
    {
      "cell_type": "code",
      "metadata": {
        "id": "ipA7pcOZQ92J",
        "colab_type": "code",
        "colab": {}
      },
      "source": [
        "# function for NN model.\n",
        "def create_model(optimizer='adam'):\n",
        "    # set the model.\n",
        "    model = Sequential()\n",
        "    # hidden layers.\n",
        "    model.add(Dense(48, input_dim=13, activation='relu'))\n",
        "    model.add(Dense(24, activation='relu'))\n",
        "    model.add(Dense(12,activation='softmax'))\n",
        "    # function for top 3.\n",
        "    def top_3_accuracy(y_true, y_pred):\n",
        "        return top_k_categorical_accuracy(y_true, y_pred, k=3)\n",
        "\n",
        "    # compile the model.\n",
        "    model.compile(loss='categorical_crossentropy',\n",
        "                        optimizer='adam',\n",
        "                        metrics=['accuracy'])\n",
        "    return model"
      ],
      "execution_count": 0,
      "outputs": []
    },
    {
      "cell_type": "code",
      "metadata": {
        "id": "gURgxs91Q94_",
        "colab_type": "code",
        "colab": {}
      },
      "source": [
        "# set the model with KerasClassifier.\n",
        "model = KerasClassifier(build_fn=create_model, epochs=20, batch_size=200, validation_split=0.2, verbose=1)"
      ],
      "execution_count": 0,
      "outputs": []
    },
    {
      "cell_type": "code",
      "metadata": {
        "id": "A77OZ4Q3Q98W",
        "colab_type": "code",
        "colab": {}
      },
      "source": [
        "# set the parameters for optimizer.\n",
        "optimizer = ['SGD', 'RMSprop', 'Adagrad', 'Adadelta', 'Adam', 'Adamax', 'Nadam']\n",
        "param_grid = dict(optimizer=optimizer)"
      ],
      "execution_count": 0,
      "outputs": []
    },
    {
      "cell_type": "code",
      "metadata": {
        "id": "OU3wcEbKREzp",
        "colab_type": "code",
        "colab": {}
      },
      "source": [
        "# set the gridsearch.\n",
        "grid = GridSearchCV(estimator=model, param_grid=param_grid, n_jobs=1)\n",
        "grid_result = grid.fit(X_scaled, y_train)\n",
        "# show the results.\n",
        "print(f\"Best: {grid_result.best_score_} using {grid_result.best_params_}\")\n",
        "means = grid_result.cv_results_['mean_test_score']\n",
        "stds = grid_result.cv_results_['std_test_score']\n",
        "params = grid_result.cv_results_['params']\n",
        "for mean, stdev, param in zip(means, stds, params):\n",
        "    print(f\"Means: {mean}, Stdev: {stdev} with: {param}\")"
      ],
      "execution_count": 0,
      "outputs": []
    },
    {
      "cell_type": "markdown",
      "metadata": {
        "id": "sXCtFmJbRG1W",
        "colab_type": "text"
      },
      "source": [
        "### learning Rate.*(0.001)*"
      ]
    },
    {
      "cell_type": "code",
      "metadata": {
        "id": "ZPrib6ktRIz4",
        "colab_type": "code",
        "colab": {}
      },
      "source": [
        "# function for NN model.\n",
        "def create_model(learn_rate=0.01):\n",
        "    # set the model.\n",
        "    model = Sequential()\n",
        "    # hidden layers.\n",
        "    model.add(Dense(48, input_dim=13, activation='relu'))\n",
        "    #model.add(Dropout(0.2))\n",
        "    model.add(Dense(24, activation='relu'))\n",
        "    #model.add(Dropout(0.2))\n",
        "    model.add(Dense(12,activation='softmax'))\n",
        "    # function for top 3.\n",
        "    def top_3_accuracy(y_true, y_pred):\n",
        "        return top_k_categorical_accuracy(y_true, y_pred, k=3)\n",
        "\n",
        "    # set the optimizer.\n",
        "    optimizer = Adam(lr=learn_rate)\n",
        "    # compile the model.\n",
        "    model.compile(loss='categorical_crossentropy',\n",
        "                        optimizer=optimizer,\n",
        "                        metrics=['accuracy'])\n",
        "    return model"
      ],
      "execution_count": 0,
      "outputs": []
    },
    {
      "cell_type": "code",
      "metadata": {
        "id": "x_zRbzR7RI2D",
        "colab_type": "code",
        "colab": {}
      },
      "source": [
        "# set the model with KerasClassifier.\n",
        "model = KerasClassifier(build_fn=create_model, epochs=20, batch_size=200, validation_split=0.2, verbose=1)"
      ],
      "execution_count": 0,
      "outputs": []
    },
    {
      "cell_type": "code",
      "metadata": {
        "id": "S2Rz4wBlRI6K",
        "colab_type": "code",
        "colab": {}
      },
      "source": [
        "# set the parameters for learn rate.\n",
        "learn_rate = [0, 0.001, 0.01, 0.05]\n",
        "param_grid = dict(learn_rate=learn_rate)"
      ],
      "execution_count": 0,
      "outputs": []
    },
    {
      "cell_type": "code",
      "metadata": {
        "id": "FOGaWkCNRI4P",
        "colab_type": "code",
        "colab": {}
      },
      "source": [
        "# set the gridsearch.\n",
        "grid = GridSearchCV(estimator=model, param_grid=param_grid, n_jobs=1)\n",
        "grid_result = grid.fit(X_scaled, y_train)\n",
        "# show the results.\n",
        "print(f\"Best: {grid_result.best_score_} using {grid_result.best_params_}\")\n",
        "means = grid_result.cv_results_['mean_test_score']\n",
        "stds = grid_result.cv_results_['std_test_score']\n",
        "params = grid_result.cv_results_['params']\n",
        "for mean, stdev, param in zip(means, stds, params):\n",
        "    print(f\"Means: {mean}, Stdev: {stdev} with: {param}\")"
      ],
      "execution_count": 0,
      "outputs": []
    },
    {
      "cell_type": "markdown",
      "metadata": {
        "id": "xyFaWOZlRjCJ",
        "colab_type": "text"
      },
      "source": [
        "### Activation Function.*(relu)*"
      ]
    },
    {
      "cell_type": "code",
      "metadata": {
        "id": "l287_A5aRk5q",
        "colab_type": "code",
        "colab": {}
      },
      "source": [
        "# function for NN model.\n",
        "def create_model(activation='relu'):\n",
        "    # set the model.\n",
        "    model = Sequential()\n",
        "    # hidden layers.\n",
        "    model.add(Dense(48, input_dim=13, activation=activation))\n",
        "    model.add(Dense(24, activation=activation))\n",
        "    model.add(Dense(12,activation='softmax'))\n",
        "    # function for top 3.\n",
        "    def top_3_accuracy(y_true, y_pred):\n",
        "        return top_k_categorical_accuracy(y_true, y_pred, k=3)\n",
        "\n",
        "    # set the optimizer.\n",
        "    optimizer = Adam(lr=0.001)\n",
        "    # compile the model.\n",
        "    model.compile(loss='categorical_crossentropy',\n",
        "                        optimizer=optimizer,\n",
        "                        metrics=['accuracy'])\n",
        "    return model"
      ],
      "execution_count": 0,
      "outputs": []
    },
    {
      "cell_type": "code",
      "metadata": {
        "id": "HbOlMtxERk70",
        "colab_type": "code",
        "colab": {}
      },
      "source": [
        "# set the model with KerasClassifier.\n",
        "model = KerasClassifier(build_fn=create_model, epochs=20, batch_size=200, validation_split=0.2, verbose=1)"
      ],
      "execution_count": 0,
      "outputs": []
    },
    {
      "cell_type": "code",
      "metadata": {
        "id": "lFV9dVgBRk-i",
        "colab_type": "code",
        "colab": {}
      },
      "source": [
        "# set the parameters for activation.\n",
        "activation = ['softmax', 'softplus', 'softsign', 'relu', 'tanh', 'sigmoid', 'hard_sigmoid', 'linear']\n",
        "param_grid = dict(activation=activation)"
      ],
      "execution_count": 0,
      "outputs": []
    },
    {
      "cell_type": "code",
      "metadata": {
        "id": "wo1gqELZSEVu",
        "colab_type": "code",
        "colab": {}
      },
      "source": [
        "# set the gridsearch.\n",
        "grid = GridSearchCV(estimator=model, param_grid=param_grid, n_jobs=1)\n",
        "grid_result = grid.fit(X_scaled, y_train)\n",
        "# show the results.\n",
        "print(f\"Best: {grid_result.best_score_} using {grid_result.best_params_}\")\n",
        "means = grid_result.cv_results_['mean_test_score']\n",
        "stds = grid_result.cv_results_['std_test_score']\n",
        "params = grid_result.cv_results_['params']\n",
        "for mean, stdev, param in zip(means, stds, params):\n",
        "    print(f\"Means: {mean}, Stdev: {stdev} with: {param}\")"
      ],
      "execution_count": 0,
      "outputs": []
    },
    {
      "cell_type": "markdown",
      "metadata": {
        "id": "3Ct5aQnBs4DM",
        "colab_type": "text"
      },
      "source": [
        "### Hidden Neuron Count.*(192)*"
      ]
    },
    {
      "cell_type": "code",
      "metadata": {
        "id": "qFqycONPs6OX",
        "colab_type": "code",
        "colab": {}
      },
      "source": [
        "# function for NN model.\n",
        "def create_model(neurons=1):\n",
        "    # set the model.\n",
        "    model = Sequential()\n",
        "    # hidden layers.\n",
        "    model.add(Dense(neurons, input_dim=13, activation='relu'))\n",
        "    model.add(Dense(neurons, activation='relu'))\n",
        "    model.add(Dense(12,activation='softmax'))\n",
        "    def top_3_accuracy(y_true, y_pred):\n",
        "        return top_k_categorical_accuracy(y_true, y_pred, k=3)\n",
        "\n",
        "    # set the optimizer.\n",
        "    optimizer = Adam(lr=0.001)\n",
        "    # compile the model.\n",
        "    model.compile(loss='categorical_crossentropy',\n",
        "                        optimizer=optimizer,\n",
        "                        metrics=['accuracy'])\n",
        "    return model"
      ],
      "execution_count": 0,
      "outputs": []
    },
    {
      "cell_type": "code",
      "metadata": {
        "id": "tRUXe3fAs6V7",
        "colab_type": "code",
        "colab": {}
      },
      "source": [
        "# set the model with KerasClassifier.\n",
        "model = KerasClassifier(build_fn=create_model, epochs=20, batch_size=200, validation_split=0.2, verbose=1)"
      ],
      "execution_count": 0,
      "outputs": []
    },
    {
      "cell_type": "code",
      "metadata": {
        "id": "RiRVX2trs6Tq",
        "colab_type": "code",
        "colab": {}
      },
      "source": [
        "# set the parameters for neurons.\n",
        "neurons = [12, 24, 48, 96, 192, 384, 768, 1536, 3072, 6144]\n",
        "param_grid = dict(neurons=neurons)"
      ],
      "execution_count": 0,
      "outputs": []
    },
    {
      "cell_type": "code",
      "metadata": {
        "id": "qH7a5lI_s6Rb",
        "colab_type": "code",
        "colab": {}
      },
      "source": [
        "# set the gridsearch.\n",
        "grid = GridSearchCV(estimator=model, param_grid=param_grid, n_jobs=1)\n",
        "grid_result = grid.fit(X_scaled, y_train)\n",
        "# show the results.\n",
        "print(f\"Best: {grid_result.best_score_} using {grid_result.best_params_}\")\n",
        "means = grid_result.cv_results_['mean_test_score']\n",
        "stds = grid_result.cv_results_['std_test_score']\n",
        "params = grid_result.cv_results_['params']\n",
        "for mean, stdev, param in zip(means, stds, params):\n",
        "    print(f\"Means: {mean}, Stdev: {stdev} with: {param}\")"
      ],
      "execution_count": 0,
      "outputs": []
    },
    {
      "cell_type": "markdown",
      "metadata": {
        "id": "NwyAEfJese0z",
        "colab_type": "text"
      },
      "source": [
        "### Weight Initialization.*(normal)*"
      ]
    },
    {
      "cell_type": "code",
      "metadata": {
        "id": "3xBn5uu-sinP",
        "colab_type": "code",
        "colab": {}
      },
      "source": [
        "# function for NN model.\n",
        "def create_model(weight_init='uniform'):\n",
        "    # set the model.\n",
        "    model = Sequential()\n",
        "    # hidden layers.\n",
        "    model.add(Dense(192, input_dim=13, kernel_initializer=weight_init, activation='relu'))\n",
        "    model.add(Dense(96, kernel_initializer=weight_init, activation='relu'))\n",
        "    model.add(Dense(48, kernel_initializer=weight_init, activation='relu'))\n",
        "    model.add(Dense(24, kernel_initializer=weight_init, activation='relu'))\n",
        "    model.add(Dense(12, kernel_initializer=weight_init, activation='softmax'))\n",
        "    # function for top 3.\n",
        "    def top_3_accuracy(y_true, y_pred):\n",
        "        return top_k_categorical_accuracy(y_true, y_pred, k=3)\n",
        "\n",
        "    # set the optimizer.\n",
        "    optimizer = Adam(lr=0.001)\n",
        "    # compile the model.\n",
        "    model.compile(loss='categorical_crossentropy',\n",
        "                        optimizer=optimizer,\n",
        "                        metrics=['accuracy'])\n",
        "    return model"
      ],
      "execution_count": 0,
      "outputs": []
    },
    {
      "cell_type": "code",
      "metadata": {
        "id": "4zgKBxZRsitW",
        "colab_type": "code",
        "colab": {}
      },
      "source": [
        "# set the KerasClassifier model.\n",
        "model = KerasClassifier(build_fn=create_model, epochs=20, batch_size=200, validation_split=0.2, verbose=1)"
      ],
      "execution_count": 0,
      "outputs": []
    },
    {
      "cell_type": "code",
      "metadata": {
        "id": "gJCRxG0BsisJ",
        "colab_type": "code",
        "colab": {}
      },
      "source": [
        "# set the parameters for weight initializer.\n",
        "weight_init = ['uniform', 'lecun_uniform', 'normal', 'zero', 'glorot_normal', 'glorot_uniform', 'he_normal', 'he_uniform']\n",
        "param_grid = dict(weight_init=weight_init)"
      ],
      "execution_count": 0,
      "outputs": []
    },
    {
      "cell_type": "code",
      "metadata": {
        "id": "vvB4BlPIsiqI",
        "colab_type": "code",
        "colab": {}
      },
      "source": [
        "# set the gridsearch.\n",
        "grid = GridSearchCV(estimator=model, param_grid=param_grid, n_jobs=1)\n",
        "grid_result = grid.fit(X_scaled, y_train)\n",
        "# show the results.\n",
        "print(f\"Best: {grid_result.best_score_} using {grid_result.best_params_}\")\n",
        "means = grid_result.cv_results_['mean_test_score']\n",
        "stds = grid_result.cv_results_['std_test_score']\n",
        "params = grid_result.cv_results_['params']\n",
        "for mean, stdev, param in zip(means, stds, params):\n",
        "    print(f\"Means: {mean}, Stdev: {stdev} with: {param}\")"
      ],
      "execution_count": 0,
      "outputs": []
    },
    {
      "cell_type": "markdown",
      "metadata": {
        "id": "E9_rhdaZsqcR",
        "colab_type": "text"
      },
      "source": [
        "### Dropout Rate.*(0.01)*"
      ]
    },
    {
      "cell_type": "code",
      "metadata": {
        "id": "kIl5n0Xostlq",
        "colab_type": "code",
        "colab": {}
      },
      "source": [
        "# function for NN model.\n",
        "def create_model(weight_rate=0.0, weight_constraint=0):\n",
        "      # set the model.\n",
        "    model = Sequential()\n",
        "    # hidden layers.\n",
        "    model.add(Dense(192, input_dim=13, kernel_initializer='normal', activation='relu'))\n",
        "    model.add(Dropout(weight_rate))\n",
        "    model.add(Dense(96, kernel_initializer='normal', activation='relu'))\n",
        "    model.add(Dropout(weight_rate))\n",
        "    model.add(Dense(48, kernel_initializer='normal', activation='relu'))\n",
        "    model.add(Dropout(weight_rate))\n",
        "    model.add(Dense(24, kernel_initializer='normal', activation='relu'))\n",
        "    model.add(Dropout(weight_rate))\n",
        "    model.add(Dense(12, kernel_initializer='normal', activation='softmax'))\n",
        "    # function for top 3.\n",
        "    def top_3_accuracy(y_true, y_pred):\n",
        "        return top_k_categorical_accuracy(y_true, y_pred, k=3)\n",
        "\n",
        "    # set the optimizer.\n",
        "    optimizer = Adam(lr=0.001)\n",
        "    # compile the model.\n",
        "    model.compile(loss='categorical_crossentropy',\n",
        "                        optimizer=optimizer,\n",
        "                        metrics=['accuracy'])\n",
        "    return model"
      ],
      "execution_count": 0,
      "outputs": []
    },
    {
      "cell_type": "code",
      "metadata": {
        "id": "vU6S_9Gwstt5",
        "colab_type": "code",
        "colab": {}
      },
      "source": [
        "# set the KerasClassifier model.\n",
        "model = KerasClassifier(build_fn=create_model, epochs=20, batch_size=200, validation_split=0.2, verbose=1)"
      ],
      "execution_count": 0,
      "outputs": []
    },
    {
      "cell_type": "code",
      "metadata": {
        "id": "9GH7_kEnstrq",
        "colab_type": "code",
        "colab": {}
      },
      "source": [
        "# set the parameters for weights and dropout rate.\n",
        "weight_constraint = [1, 2]\n",
        "weight_rate = [0.1, 0.2]\n",
        "param_grid = dict(weight_rate=weight_rate, weight_constraint=weight_constraint)"
      ],
      "execution_count": 0,
      "outputs": []
    },
    {
      "cell_type": "code",
      "metadata": {
        "id": "d4_OyYdYstp3",
        "colab_type": "code",
        "colab": {}
      },
      "source": [
        "# set the gridsearch.\n",
        "grid = GridSearchCV(estimator=model, param_grid=param_grid, n_jobs=1)\n",
        "grid_result = grid.fit(X_scaled, y_train)\n",
        "# show the results.\n",
        "print(f\"Best: {grid_result.best_score_} using {grid_result.best_params_}\")\n",
        "means = grid_result.cv_results_['mean_test_score']\n",
        "stds = grid_result.cv_results_['std_test_score']\n",
        "params = grid_result.cv_results_['params']\n",
        "for mean, stdev, param in zip(means, stds, params):\n",
        "    print(f\"Means: {mean}, Stdev: {stdev} with: {param}\")"
      ],
      "execution_count": 0,
      "outputs": []
    },
    {
      "cell_type": "markdown",
      "metadata": {
        "id": "rV3gl4GGMdhy",
        "colab_type": "text"
      },
      "source": [
        "### Batch Size.*(100)*"
      ]
    },
    {
      "cell_type": "code",
      "metadata": {
        "id": "KNYIM33-Mbs4",
        "colab_type": "code",
        "colab": {}
      },
      "source": [
        "# function for NN model.\n",
        "def create_model():\n",
        "      # set the model.\n",
        "    model = Sequential()\n",
        "    # hidden layers.\n",
        "    model.add(Dense(192, input_dim=13, kernel_initializer='normal', activation='relu'))\n",
        "    model.add(Dropout(0.1))\n",
        "    model.add(Dense(96, kernel_initializer='normal', activation='relu'))\n",
        "    model.add(Dropout(0.1))\n",
        "    model.add(Dense(48, kernel_initializer='normal', activation='relu'))\n",
        "    model.add(Dropout(0.1))\n",
        "    model.add(Dense(24, kernel_initializer='normal', activation='relu'))\n",
        "    model.add(Dropout(0.1))\n",
        "    model.add(Dense(12, kernel_initializer='normal', activation='softmax'))\n",
        "    # function for top 3.\n",
        "    def top_3_accuracy(y_true, y_pred):\n",
        "        return top_k_categorical_accuracy(y_true, y_pred, k=3)\n",
        "\n",
        "    # set the optimizer.\n",
        "    optimizer = Adam(lr=0.001)\n",
        "    # compile the model.\n",
        "    model.compile(loss='categorical_crossentropy',\n",
        "                        optimizer=optimizer,\n",
        "                        metrics=['accuracy'])\n",
        "    return model"
      ],
      "execution_count": 0,
      "outputs": []
    },
    {
      "cell_type": "code",
      "metadata": {
        "id": "I2GHJazLMr5I",
        "colab_type": "code",
        "colab": {}
      },
      "source": [
        "# set the KerasClassifier model.\n",
        "model = KerasClassifier(build_fn=create_model, epochs=20, validation_split=0.2, verbose=1)"
      ],
      "execution_count": 0,
      "outputs": []
    },
    {
      "cell_type": "code",
      "metadata": {
        "id": "RU_3kHZPUULc",
        "colab_type": "code",
        "colab": {}
      },
      "source": [
        "# set the parameters for batch size.\n",
        "batch_size = [50, 100, 200, 500, 1000]\n",
        "param_grid = dict(batch_size=batch_size)"
      ],
      "execution_count": 0,
      "outputs": []
    },
    {
      "cell_type": "code",
      "metadata": {
        "id": "n3RS7HIFNSxV",
        "colab_type": "code",
        "colab": {}
      },
      "source": [
        "# set the gridsearch.\n",
        "grid = GridSearchCV(estimator=model, param_grid=param_grid, n_jobs=1)\n",
        "grid_result = grid.fit(X_scaled, y_train)\n",
        "# show the results.\n",
        "print(f\"Best: {grid_result.best_score_} using {grid_result.best_params_}\")\n",
        "means = grid_result.cv_results_['mean_test_score']\n",
        "stds = grid_result.cv_results_['std_test_score']\n",
        "params = grid_result.cv_results_['params']\n",
        "for mean, stdev, param in zip(means, stds, params):\n",
        "    print(f\"Means: {mean}, Stdev: {stdev} with: {param}\")"
      ],
      "execution_count": 0,
      "outputs": []
    },
    {
      "cell_type": "markdown",
      "metadata": {
        "id": "dxyXN-50P8FG",
        "colab_type": "text"
      },
      "source": [
        "### Epochs.*(500)*"
      ]
    },
    {
      "cell_type": "code",
      "metadata": {
        "id": "twmuWaKXQAFm",
        "colab_type": "code",
        "colab": {}
      },
      "source": [
        "# function for NN model.\n",
        "def create_model():\n",
        "      # set the model.\n",
        "    model = Sequential()\n",
        "    # hidden layers.\n",
        "    model.add(Dense(192, input_dim=13, kernel_initializer='normal', activation='relu'))\n",
        "    model.add(Dropout(0.1))\n",
        "    model.add(Dense(96, kernel_initializer='normal', activation='relu'))\n",
        "    model.add(Dropout(0.1))\n",
        "    model.add(Dense(48, kernel_initializer='normal', activation='relu'))\n",
        "    model.add(Dropout(0.1))\n",
        "    model.add(Dense(24, kernel_initializer='normal', activation='relu'))\n",
        "    model.add(Dropout(0.1))\n",
        "    model.add(Dense(12, kernel_initializer='normal', activation='softmax'))\n",
        "    # function for top 3.\n",
        "    def top_3_accuracy(y_true, y_pred):\n",
        "        return top_k_categorical_accuracy(y_true, y_pred, k=3)\n",
        "\n",
        "    # set the optimizer.\n",
        "    optimizer = Adam(lr=0.001)\n",
        "    # compile the model.\n",
        "    model.compile(loss='categorical_crossentropy',\n",
        "                        optimizer=optimizer,\n",
        "                        metrics=['accuracy'])\n",
        "    return model"
      ],
      "execution_count": 0,
      "outputs": []
    },
    {
      "cell_type": "code",
      "metadata": {
        "id": "9kMLQiYaQAKc",
        "colab_type": "code",
        "colab": {}
      },
      "source": [
        "# set the KerasClassifier model.\n",
        "model = KerasClassifier(build_fn=create_model, batch_size=100, validation_split=0.2, verbose=1)"
      ],
      "execution_count": 0,
      "outputs": []
    },
    {
      "cell_type": "code",
      "metadata": {
        "id": "Wg_TyH6qQAIN",
        "colab_type": "code",
        "colab": {}
      },
      "source": [
        "# set the parameters for epochs.\n",
        "epochs = [100, 200, 500]\n",
        "param_grid = dict(epochs=epochs)"
      ],
      "execution_count": 0,
      "outputs": []
    },
    {
      "cell_type": "code",
      "metadata": {
        "id": "l-j_N4WbQ3sB",
        "colab_type": "code",
        "colab": {}
      },
      "source": [
        "# set the gridsearch.\n",
        "grid = GridSearchCV(estimator=model, param_grid=param_grid, n_jobs=1)\n",
        "# fit the model.\n",
        "grid_result = grid.fit(X_scaled, y_train)\n",
        "# show the results.\n",
        "print(f\"Best: {grid_result.best_score_} using {grid_result.best_params_}\")\n",
        "means = grid_result.cv_results_['mean_test_score']\n",
        "stds = grid_result.cv_results_['std_test_score']\n",
        "params = grid_result.cv_results_['params']\n",
        "for mean, stdev, param in zip(means, stds, params):\n",
        "    print(f\"Means: {mean}, Stdev: {stdev} with: {param}\")"
      ],
      "execution_count": 0,
      "outputs": []
    },
    {
      "cell_type": "markdown",
      "metadata": {
        "id": "2LPcC1xetEJ8",
        "colab_type": "text"
      },
      "source": [
        "### Final Model."
      ]
    },
    {
      "cell_type": "code",
      "metadata": {
        "id": "qGn6XHZvtGwp",
        "colab_type": "code",
        "colab": {}
      },
      "source": [
        "# function for NN model.\n",
        "def create_model():\n",
        "      # set the model.\n",
        "    model = Sequential()\n",
        "    # hidden layers.\n",
        "    model.add(Dense(192, input_dim=13, kernel_initializer='normal', activation='relu'))\n",
        "    model.add(Dropout(0.1))\n",
        "    model.add(Dense(96, kernel_initializer='normal', activation='relu'))\n",
        "    model.add(Dropout(0.1))\n",
        "    model.add(Dense(48, kernel_initializer='normal', activation='relu'))\n",
        "    model.add(Dropout(0.1))\n",
        "    model.add(Dense(24, kernel_initializer='normal', activation='relu'))\n",
        "    model.add(Dropout(0.1))\n",
        "    model.add(Dense(12, kernel_initializer='normal', activation='softmax'))\n",
        "    # function for top 3.\n",
        "    def top_3_accuracy(y_true, y_pred):\n",
        "        return top_k_categorical_accuracy(y_true, y_pred, k=3)\n",
        "\n",
        "    # set the optimizer.\n",
        "    optimizer = Adam(lr=0.001)\n",
        "    # compile the model.\n",
        "    model.compile(loss='categorical_crossentropy',\n",
        "                        optimizer=optimizer,\n",
        "                        metrics=['accuracy'])\n",
        "    return model"
      ],
      "execution_count": 0,
      "outputs": []
    },
    {
      "cell_type": "code",
      "metadata": {
        "id": "Jy_Wyu3NtG1G",
        "colab_type": "code",
        "colab": {}
      },
      "source": [
        "# set the model.\n",
        "model = create_model()\n",
        "# fit the model, create history.\n",
        "history = model.fit(X_scaled, y_train, validation_split=0.2, epochs=500, batch_size=100)"
      ],
      "execution_count": 0,
      "outputs": []
    },
    {
      "cell_type": "code",
      "metadata": {
        "id": "tBzYKigwyTbL",
        "colab_type": "code",
        "outputId": "15e5ac2d-383c-4327-cf35-b8d99839210b",
        "colab": {
          "base_uri": "https://localhost:8080/",
          "height": 33
        }
      },
      "source": [
        "# final model accuracy score.\n",
        "scores = model.evaluate(X_scaled, y_train)"
      ],
      "execution_count": 0,
      "outputs": [
        {
          "output_type": "stream",
          "text": [
            "164449/164449 [==============================] - 9s 55us/sample - loss: 1.6750 - acc: 0.4241\n"
          ],
          "name": "stdout"
        }
      ]
    },
    {
      "cell_type": "code",
      "metadata": {
        "id": "31wXbvqDuif_",
        "colab_type": "code",
        "outputId": "6c7b3059-0507-4ba8-f5b5-104706202136",
        "colab": {
          "base_uri": "https://localhost:8080/",
          "height": 799
        }
      },
      "source": [
        "# plot the model loss.\n",
        "fig, ax = plt.subplots(1, 1, figsize=(10,6))\n",
        "ax.plot(np.sqrt(history.history['loss']), 'r', label='train')\n",
        "ax.plot(np.sqrt(history.history['val_loss']), 'b' ,label='val')\n",
        "ax.set_xlabel(r'Epoch', fontsize=20)\n",
        "ax.set_ylabel(r'Loss', fontsize=20)\n",
        "ax.legend()\n",
        "ax.tick_params(labelsize=20)\n",
        "\n",
        "# plot the model accuracy.\n",
        "fig, ax = plt.subplots(1, 1, figsize=(10,6))\n",
        "ax.plot(np.sqrt(history.history['acc']), 'r', label='train')\n",
        "ax.plot(np.sqrt(history.history['val_acc']), 'b' ,label='val')\n",
        "ax.set_xlabel(r'Epoch', fontsize=20)\n",
        "ax.set_ylabel(r'Accuracy', fontsize=20)\n",
        "ax.legend()\n",
        "ax.tick_params(labelsize=20)"
      ],
      "execution_count": 0,
      "outputs": [
        {
          "output_type": "display_data",
          "data": {
            "image/png": "[encoded data removed]",
            "text/plain": [
              "<Figure size 720x432 with 1 Axes>"
            ]
          },
          "metadata": {
            "tags": []
          }
        },
        {
          "output_type": "display_data",
          "data": {
            "image/png": "[encoded data removed]",
            "text/plain": [
              "<Figure size 720x432 with 1 Axes>"
            ]
          },
          "metadata": {
            "tags": []
          }
        }
      ]
    }
  ]
}