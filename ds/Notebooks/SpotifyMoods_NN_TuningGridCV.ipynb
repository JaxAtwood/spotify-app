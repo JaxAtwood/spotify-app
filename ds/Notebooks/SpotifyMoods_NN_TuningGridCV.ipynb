{
  "nbformat": 4,
  "nbformat_minor": 0,
  "metadata": {
    "colab": {
      "name": "SpotifyMoods_NN_TuningGridCV.ipynb",
      "provenance": [],
      "collapsed_sections": []
    },
    "kernelspec": {
      "name": "python3",
      "display_name": "Python 3"
    },
    "accelerator": "GPU"
  },
  "cells": [
    {
      "cell_type": "markdown",
      "metadata": {
        "id": "PQZK1Q-wHMhr",
        "colab_type": "text"
      },
      "source": [
        "# NeuralNetwork."
      ]
    },
    {
      "cell_type": "markdown",
      "metadata": {
        "id": "Po5At9QnVfo4",
        "colab_type": "text"
      },
      "source": [
        "### Data Preparation."
      ]
    },
    {
      "cell_type": "code",
      "metadata": {
        "id": "Xd6cgX-TTUV_",
        "colab_type": "code",
        "colab": {}
      },
      "source": [
        "# imports.\n",
        "import pandas as pd\n",
        "import numpy as np\n",
        "from tensorflow.keras.preprocessing import sequence\n",
        "from tensorflow.keras.models import Sequential\n",
        "from tensorflow.keras.layers import Dense, Dropout\n",
        "from tensorflow.keras.utils import to_categorical\n",
        "from tensorflow.keras.metrics import top_k_categorical_accuracy\n",
        "from sklearn.preprocessing import StandardScaler\n",
        "from sklearn.model_selection import GridSearchCV\n",
        "from tensorflow.keras.wrappers.scikit_learn import KerasClassifier\n",
        "from tensorflow.keras.optimizers import SGD\n",
        "import matplotlib.pyplot as plt"
      ],
      "execution_count": 0,
      "outputs": []
    },
    {
      "cell_type": "code",
      "metadata": {
        "id": "QW-fT6lVT9Tc",
        "colab_type": "code",
        "outputId": "6179bfa3-4f33-401b-d988-bfdc8619b08a",
        "colab": {
          "base_uri": "https://localhost:8080/",
          "height": 324
        }
      },
      "source": [
        "# read in the data.\n",
        "df = pd.read_csv('https://raw.githubusercontent.com/spotify-song-suggester-1/spotify-app/master/ds/Data/Spotify_MoodsData.csv',index_col=[0])\n",
        "# show the data frame.\n",
        "print(df.shape)\n",
        "df.head()"
      ],
      "execution_count": 61,
      "outputs": [
        {
          "output_type": "stream",
          "text": [
            "(16, 21)\n"
          ],
          "name": "stdout"
        },
        {
          "output_type": "execute_result",
          "data": {
            "text/html": [
              "<div>\n",
              "<style scoped>\n",
              "    .dataframe tbody tr th:only-of-type {\n",
              "        vertical-align: middle;\n",
              "    }\n",
              "\n",
              "    .dataframe tbody tr th {\n",
              "        vertical-align: top;\n",
              "    }\n",
              "\n",
              "    .dataframe thead th {\n",
              "        text-align: right;\n",
              "    }\n",
              "</style>\n",
              "<table border=\"1\" class=\"dataframe\">\n",
              "  <thead>\n",
              "    <tr style=\"text-align: right;\">\n",
              "      <th></th>\n",
              "      <th>artist_name</th>\n",
              "      <th>track_name</th>\n",
              "      <th>track_id</th>\n",
              "      <th>popularity</th>\n",
              "      <th>year</th>\n",
              "      <th>genre</th>\n",
              "      <th>id</th>\n",
              "      <th>acousticness</th>\n",
              "      <th>danceability</th>\n",
              "      <th>duration_ms</th>\n",
              "      <th>energy</th>\n",
              "      <th>instrumentalness</th>\n",
              "      <th>key</th>\n",
              "      <th>liveness</th>\n",
              "      <th>loudness</th>\n",
              "      <th>mode</th>\n",
              "      <th>speechiness</th>\n",
              "      <th>tempo</th>\n",
              "      <th>time_signature</th>\n",
              "      <th>valence</th>\n",
              "      <th>mood</th>\n",
              "    </tr>\n",
              "  </thead>\n",
              "  <tbody>\n",
              "    <tr>\n",
              "      <th>48618</th>\n",
              "      <td>Rise Against</td>\n",
              "      <td>Like the Angel</td>\n",
              "      <td>4t2rjxCXIJnBmRBkXJOYa5</td>\n",
              "      <td>48</td>\n",
              "      <td>2013</td>\n",
              "      <td>grunge</td>\n",
              "      <td>80061</td>\n",
              "      <td>0.000747</td>\n",
              "      <td>0.512</td>\n",
              "      <td>166880</td>\n",
              "      <td>0.976</td>\n",
              "      <td>0.000025</td>\n",
              "      <td>10</td>\n",
              "      <td>0.2150</td>\n",
              "      <td>-3.092</td>\n",
              "      <td>0</td>\n",
              "      <td>0.0861</td>\n",
              "      <td>95.465</td>\n",
              "      <td>4</td>\n",
              "      <td>0.428</td>\n",
              "      <td>Excited</td>\n",
              "    </tr>\n",
              "    <tr>\n",
              "      <th>55603</th>\n",
              "      <td>Mac Miller</td>\n",
              "      <td>BDE (Best Day Ever) - Live</td>\n",
              "      <td>504jTZvXdP8YYVtd19rfuX</td>\n",
              "      <td>40</td>\n",
              "      <td>2013</td>\n",
              "      <td>rap</td>\n",
              "      <td>92664</td>\n",
              "      <td>0.008290</td>\n",
              "      <td>0.434</td>\n",
              "      <td>321960</td>\n",
              "      <td>0.862</td>\n",
              "      <td>0.000052</td>\n",
              "      <td>2</td>\n",
              "      <td>0.9460</td>\n",
              "      <td>-9.589</td>\n",
              "      <td>1</td>\n",
              "      <td>0.1020</td>\n",
              "      <td>96.205</td>\n",
              "      <td>4</td>\n",
              "      <td>0.262</td>\n",
              "      <td>Happy</td>\n",
              "    </tr>\n",
              "    <tr>\n",
              "      <th>68155</th>\n",
              "      <td>Justin Bieber</td>\n",
              "      <td>All That Matters</td>\n",
              "      <td>70XP39KE8vTgxtRXcwfxJA</td>\n",
              "      <td>59</td>\n",
              "      <td>2014</td>\n",
              "      <td>pop</td>\n",
              "      <td>111926</td>\n",
              "      <td>0.005080</td>\n",
              "      <td>0.696</td>\n",
              "      <td>191173</td>\n",
              "      <td>0.513</td>\n",
              "      <td>0.000000</td>\n",
              "      <td>6</td>\n",
              "      <td>0.0682</td>\n",
              "      <td>-5.567</td>\n",
              "      <td>0</td>\n",
              "      <td>0.0424</td>\n",
              "      <td>129.859</td>\n",
              "      <td>4</td>\n",
              "      <td>0.144</td>\n",
              "      <td>Motivated</td>\n",
              "    </tr>\n",
              "    <tr>\n",
              "      <th>73129</th>\n",
              "      <td>Zac Brown Band</td>\n",
              "      <td>Castaway</td>\n",
              "      <td>5PNcJn4oFNvlRfrZBHfqWh</td>\n",
              "      <td>58</td>\n",
              "      <td>2015</td>\n",
              "      <td>country</td>\n",
              "      <td>121789</td>\n",
              "      <td>0.149000</td>\n",
              "      <td>0.611</td>\n",
              "      <td>188053</td>\n",
              "      <td>0.782</td>\n",
              "      <td>0.000000</td>\n",
              "      <td>8</td>\n",
              "      <td>0.1150</td>\n",
              "      <td>-4.989</td>\n",
              "      <td>1</td>\n",
              "      <td>0.0475</td>\n",
              "      <td>101.313</td>\n",
              "      <td>4</td>\n",
              "      <td>0.915</td>\n",
              "      <td>Happy</td>\n",
              "    </tr>\n",
              "    <tr>\n",
              "      <th>74887</th>\n",
              "      <td>Fifth Harmony</td>\n",
              "      <td>Worth It</td>\n",
              "      <td>41Fflg7qHiVOD6dEPvsCzO</td>\n",
              "      <td>73</td>\n",
              "      <td>2015</td>\n",
              "      <td>dance</td>\n",
              "      <td>123771</td>\n",
              "      <td>0.063000</td>\n",
              "      <td>0.884</td>\n",
              "      <td>224573</td>\n",
              "      <td>0.765</td>\n",
              "      <td>0.000007</td>\n",
              "      <td>8</td>\n",
              "      <td>0.1180</td>\n",
              "      <td>-3.865</td>\n",
              "      <td>1</td>\n",
              "      <td>0.0882</td>\n",
              "      <td>99.987</td>\n",
              "      <td>4</td>\n",
              "      <td>0.594</td>\n",
              "      <td>Im a boss</td>\n",
              "    </tr>\n",
              "  </tbody>\n",
              "</table>\n",
              "</div>"
            ],
            "text/plain": [
              "          artist_name                  track_name  ... valence       mood\n",
              "48618    Rise Against              Like the Angel  ...   0.428    Excited\n",
              "55603      Mac Miller  BDE (Best Day Ever) - Live  ...   0.262      Happy\n",
              "68155   Justin Bieber            All That Matters  ...   0.144  Motivated\n",
              "73129  Zac Brown Band                    Castaway  ...   0.915      Happy\n",
              "74887   Fifth Harmony                    Worth It  ...   0.594  Im a boss\n",
              "\n",
              "[5 rows x 21 columns]"
            ]
          },
          "metadata": {
            "tags": []
          },
          "execution_count": 61
        }
      ]
    },
    {
      "cell_type": "code",
      "metadata": {
        "id": "p7cYOHfLykeM",
        "colab_type": "code",
        "outputId": "396b1e2c-ed3b-407e-e1b0-b6d629db3204",
        "colab": {
          "base_uri": "https://localhost:8080/",
          "height": 341
        }
      },
      "source": [
        "# new data frame with encoded genre column.\n",
        "moodframe = pd.concat([df,pd.get_dummies(df['mood'], prefix='mood')],axis=1)\n",
        "# show the data frame.\n",
        "print(moodframe.shape)\n",
        "moodframe.head()"
      ],
      "execution_count": 62,
      "outputs": [
        {
          "output_type": "stream",
          "text": [
            "(16, 30)\n"
          ],
          "name": "stdout"
        },
        {
          "output_type": "execute_result",
          "data": {
            "text/html": [
              "<div>\n",
              "<style scoped>\n",
              "    .dataframe tbody tr th:only-of-type {\n",
              "        vertical-align: middle;\n",
              "    }\n",
              "\n",
              "    .dataframe tbody tr th {\n",
              "        vertical-align: top;\n",
              "    }\n",
              "\n",
              "    .dataframe thead th {\n",
              "        text-align: right;\n",
              "    }\n",
              "</style>\n",
              "<table border=\"1\" class=\"dataframe\">\n",
              "  <thead>\n",
              "    <tr style=\"text-align: right;\">\n",
              "      <th></th>\n",
              "      <th>artist_name</th>\n",
              "      <th>track_name</th>\n",
              "      <th>track_id</th>\n",
              "      <th>popularity</th>\n",
              "      <th>year</th>\n",
              "      <th>genre</th>\n",
              "      <th>id</th>\n",
              "      <th>acousticness</th>\n",
              "      <th>danceability</th>\n",
              "      <th>duration_ms</th>\n",
              "      <th>energy</th>\n",
              "      <th>instrumentalness</th>\n",
              "      <th>key</th>\n",
              "      <th>liveness</th>\n",
              "      <th>loudness</th>\n",
              "      <th>mode</th>\n",
              "      <th>speechiness</th>\n",
              "      <th>tempo</th>\n",
              "      <th>time_signature</th>\n",
              "      <th>valence</th>\n",
              "      <th>mood</th>\n",
              "      <th>mood_Calming</th>\n",
              "      <th>mood_Excited</th>\n",
              "      <th>mood_Happy</th>\n",
              "      <th>mood_Head Bobbers</th>\n",
              "      <th>mood_Im a boss</th>\n",
              "      <th>mood_Mad Energized</th>\n",
              "      <th>mood_Motivated</th>\n",
              "      <th>mood_Unwind &amp; Relax</th>\n",
              "      <th>mood_Wake Up</th>\n",
              "    </tr>\n",
              "  </thead>\n",
              "  <tbody>\n",
              "    <tr>\n",
              "      <th>48618</th>\n",
              "      <td>Rise Against</td>\n",
              "      <td>Like the Angel</td>\n",
              "      <td>4t2rjxCXIJnBmRBkXJOYa5</td>\n",
              "      <td>48</td>\n",
              "      <td>2013</td>\n",
              "      <td>grunge</td>\n",
              "      <td>80061</td>\n",
              "      <td>0.000747</td>\n",
              "      <td>0.512</td>\n",
              "      <td>166880</td>\n",
              "      <td>0.976</td>\n",
              "      <td>0.000025</td>\n",
              "      <td>10</td>\n",
              "      <td>0.2150</td>\n",
              "      <td>-3.092</td>\n",
              "      <td>0</td>\n",
              "      <td>0.0861</td>\n",
              "      <td>95.465</td>\n",
              "      <td>4</td>\n",
              "      <td>0.428</td>\n",
              "      <td>Excited</td>\n",
              "      <td>0</td>\n",
              "      <td>1</td>\n",
              "      <td>0</td>\n",
              "      <td>0</td>\n",
              "      <td>0</td>\n",
              "      <td>0</td>\n",
              "      <td>0</td>\n",
              "      <td>0</td>\n",
              "      <td>0</td>\n",
              "    </tr>\n",
              "    <tr>\n",
              "      <th>55603</th>\n",
              "      <td>Mac Miller</td>\n",
              "      <td>BDE (Best Day Ever) - Live</td>\n",
              "      <td>504jTZvXdP8YYVtd19rfuX</td>\n",
              "      <td>40</td>\n",
              "      <td>2013</td>\n",
              "      <td>rap</td>\n",
              "      <td>92664</td>\n",
              "      <td>0.008290</td>\n",
              "      <td>0.434</td>\n",
              "      <td>321960</td>\n",
              "      <td>0.862</td>\n",
              "      <td>0.000052</td>\n",
              "      <td>2</td>\n",
              "      <td>0.9460</td>\n",
              "      <td>-9.589</td>\n",
              "      <td>1</td>\n",
              "      <td>0.1020</td>\n",
              "      <td>96.205</td>\n",
              "      <td>4</td>\n",
              "      <td>0.262</td>\n",
              "      <td>Happy</td>\n",
              "      <td>0</td>\n",
              "      <td>0</td>\n",
              "      <td>1</td>\n",
              "      <td>0</td>\n",
              "      <td>0</td>\n",
              "      <td>0</td>\n",
              "      <td>0</td>\n",
              "      <td>0</td>\n",
              "      <td>0</td>\n",
              "    </tr>\n",
              "    <tr>\n",
              "      <th>68155</th>\n",
              "      <td>Justin Bieber</td>\n",
              "      <td>All That Matters</td>\n",
              "      <td>70XP39KE8vTgxtRXcwfxJA</td>\n",
              "      <td>59</td>\n",
              "      <td>2014</td>\n",
              "      <td>pop</td>\n",
              "      <td>111926</td>\n",
              "      <td>0.005080</td>\n",
              "      <td>0.696</td>\n",
              "      <td>191173</td>\n",
              "      <td>0.513</td>\n",
              "      <td>0.000000</td>\n",
              "      <td>6</td>\n",
              "      <td>0.0682</td>\n",
              "      <td>-5.567</td>\n",
              "      <td>0</td>\n",
              "      <td>0.0424</td>\n",
              "      <td>129.859</td>\n",
              "      <td>4</td>\n",
              "      <td>0.144</td>\n",
              "      <td>Motivated</td>\n",
              "      <td>0</td>\n",
              "      <td>0</td>\n",
              "      <td>0</td>\n",
              "      <td>0</td>\n",
              "      <td>0</td>\n",
              "      <td>0</td>\n",
              "      <td>1</td>\n",
              "      <td>0</td>\n",
              "      <td>0</td>\n",
              "    </tr>\n",
              "    <tr>\n",
              "      <th>73129</th>\n",
              "      <td>Zac Brown Band</td>\n",
              "      <td>Castaway</td>\n",
              "      <td>5PNcJn4oFNvlRfrZBHfqWh</td>\n",
              "      <td>58</td>\n",
              "      <td>2015</td>\n",
              "      <td>country</td>\n",
              "      <td>121789</td>\n",
              "      <td>0.149000</td>\n",
              "      <td>0.611</td>\n",
              "      <td>188053</td>\n",
              "      <td>0.782</td>\n",
              "      <td>0.000000</td>\n",
              "      <td>8</td>\n",
              "      <td>0.1150</td>\n",
              "      <td>-4.989</td>\n",
              "      <td>1</td>\n",
              "      <td>0.0475</td>\n",
              "      <td>101.313</td>\n",
              "      <td>4</td>\n",
              "      <td>0.915</td>\n",
              "      <td>Happy</td>\n",
              "      <td>0</td>\n",
              "      <td>0</td>\n",
              "      <td>1</td>\n",
              "      <td>0</td>\n",
              "      <td>0</td>\n",
              "      <td>0</td>\n",
              "      <td>0</td>\n",
              "      <td>0</td>\n",
              "      <td>0</td>\n",
              "    </tr>\n",
              "    <tr>\n",
              "      <th>74887</th>\n",
              "      <td>Fifth Harmony</td>\n",
              "      <td>Worth It</td>\n",
              "      <td>41Fflg7qHiVOD6dEPvsCzO</td>\n",
              "      <td>73</td>\n",
              "      <td>2015</td>\n",
              "      <td>dance</td>\n",
              "      <td>123771</td>\n",
              "      <td>0.063000</td>\n",
              "      <td>0.884</td>\n",
              "      <td>224573</td>\n",
              "      <td>0.765</td>\n",
              "      <td>0.000007</td>\n",
              "      <td>8</td>\n",
              "      <td>0.1180</td>\n",
              "      <td>-3.865</td>\n",
              "      <td>1</td>\n",
              "      <td>0.0882</td>\n",
              "      <td>99.987</td>\n",
              "      <td>4</td>\n",
              "      <td>0.594</td>\n",
              "      <td>Im a boss</td>\n",
              "      <td>0</td>\n",
              "      <td>0</td>\n",
              "      <td>0</td>\n",
              "      <td>0</td>\n",
              "      <td>1</td>\n",
              "      <td>0</td>\n",
              "      <td>0</td>\n",
              "      <td>0</td>\n",
              "      <td>0</td>\n",
              "    </tr>\n",
              "  </tbody>\n",
              "</table>\n",
              "</div>"
            ],
            "text/plain": [
              "          artist_name  ... mood_Wake Up\n",
              "48618    Rise Against  ...            0\n",
              "55603      Mac Miller  ...            0\n",
              "68155   Justin Bieber  ...            0\n",
              "73129  Zac Brown Band  ...            0\n",
              "74887   Fifth Harmony  ...            0\n",
              "\n",
              "[5 rows x 30 columns]"
            ]
          },
          "metadata": {
            "tags": []
          },
          "execution_count": 62
        }
      ]
    },
    {
      "cell_type": "code",
      "metadata": {
        "id": "OLXpKFMn21FC",
        "colab_type": "code",
        "outputId": "68c4aa49-39a8-4821-cde3-d4bf76d80639",
        "colab": {
          "base_uri": "https://localhost:8080/",
          "height": 247
        }
      },
      "source": [
        "# show only the audio features.\n",
        "moodframe.iloc[0,7:20]"
      ],
      "execution_count": 63,
      "outputs": [
        {
          "output_type": "execute_result",
          "data": {
            "text/plain": [
              "acousticness        0.000747\n",
              "danceability           0.512\n",
              "duration_ms           166880\n",
              "energy                 0.976\n",
              "instrumentalness    2.52e-05\n",
              "key                       10\n",
              "liveness               0.215\n",
              "loudness              -3.092\n",
              "mode                       0\n",
              "speechiness           0.0861\n",
              "tempo                 95.465\n",
              "time_signature             4\n",
              "valence                0.428\n",
              "Name: 48618, dtype: object"
            ]
          },
          "metadata": {
            "tags": []
          },
          "execution_count": 63
        }
      ]
    },
    {
      "cell_type": "code",
      "metadata": {
        "id": "7XxUNwzqq2sk",
        "colab_type": "code",
        "outputId": "fb165c54-3d97-420e-fb43-a3bb0ff5001c",
        "colab": {
          "base_uri": "https://localhost:8080/",
          "height": 33
        }
      },
      "source": [
        "# set the X_train data on the audio features.\n",
        "X_train = moodframe.iloc[:,7:20].to_numpy()\n",
        "# set the standard scalar \n",
        "scaler = StandardScaler()\n",
        "# fit the scalar on the X_train data.\n",
        "X_scaled = scaler.fit_transform(X_train)\n",
        "# show the X_scaled array.\n",
        "print(X_scaled.shape)"
      ],
      "execution_count": 64,
      "outputs": [
        {
          "output_type": "stream",
          "text": [
            "(16, 13)\n"
          ],
          "name": "stdout"
        }
      ]
    },
    {
      "cell_type": "code",
      "metadata": {
        "id": "iRCoXukYv3bI",
        "colab_type": "code",
        "outputId": "ecb3cc4e-26a5-49cd-d7c1-050c541b868c",
        "colab": {
          "base_uri": "https://localhost:8080/",
          "height": 165
        }
      },
      "source": [
        "# create a list of the genres.\n",
        "mood = df.mood.unique().tolist()\n",
        "mood"
      ],
      "execution_count": 65,
      "outputs": [
        {
          "output_type": "execute_result",
          "data": {
            "text/plain": [
              "['Excited',\n",
              " 'Happy',\n",
              " 'Motivated',\n",
              " 'Im a boss',\n",
              " 'Unwind & Relax',\n",
              " 'Mad Energized',\n",
              " 'Calming',\n",
              " 'Head Bobbers',\n",
              " 'Wake Up']"
            ]
          },
          "metadata": {
            "tags": []
          },
          "execution_count": 65
        }
      ]
    },
    {
      "cell_type": "code",
      "metadata": {
        "id": "fohOUtlQs-0H",
        "colab_type": "code",
        "outputId": "b2b5389e-b83f-4e0d-f724-2409e3665726",
        "colab": {
          "base_uri": "https://localhost:8080/",
          "height": 297
        }
      },
      "source": [
        "# set the y_train with onehots.\n",
        "onehots = moodframe.iloc[:,21:]\n",
        "y_train = onehots.to_numpy()\n",
        "print(y_train.shape)\n",
        "y_train"
      ],
      "execution_count": 66,
      "outputs": [
        {
          "output_type": "stream",
          "text": [
            "(16, 9)\n"
          ],
          "name": "stdout"
        },
        {
          "output_type": "execute_result",
          "data": {
            "text/plain": [
              "array([[0, 1, 0, 0, 0, 0, 0, 0, 0],\n",
              "       [0, 0, 1, 0, 0, 0, 0, 0, 0],\n",
              "       [0, 0, 0, 0, 0, 0, 1, 0, 0],\n",
              "       [0, 0, 1, 0, 0, 0, 0, 0, 0],\n",
              "       [0, 0, 0, 0, 1, 0, 0, 0, 0],\n",
              "       [0, 0, 1, 0, 0, 0, 0, 0, 0],\n",
              "       [0, 0, 0, 0, 0, 0, 0, 1, 0],\n",
              "       [0, 0, 0, 0, 0, 0, 0, 1, 0],\n",
              "       [0, 0, 0, 0, 0, 0, 0, 1, 0],\n",
              "       [0, 0, 0, 0, 0, 1, 0, 0, 0],\n",
              "       [1, 0, 0, 0, 0, 0, 0, 0, 0],\n",
              "       [1, 0, 0, 0, 0, 0, 0, 0, 0],\n",
              "       [0, 0, 0, 1, 0, 0, 0, 0, 0],\n",
              "       [0, 0, 0, 0, 0, 0, 0, 1, 0],\n",
              "       [0, 0, 0, 0, 0, 0, 0, 0, 1],\n",
              "       [0, 0, 0, 0, 0, 0, 1, 0, 0]], dtype=uint8)"
            ]
          },
          "metadata": {
            "tags": []
          },
          "execution_count": 66
        }
      ]
    },
    {
      "cell_type": "markdown",
      "metadata": {
        "id": "ngIrkO9Lxjpa",
        "colab_type": "text"
      },
      "source": [
        "### Base Model."
      ]
    },
    {
      "cell_type": "code",
      "metadata": {
        "id": "_XFBrQTyUejP",
        "colab_type": "code",
        "colab": {}
      },
      "source": [
        "# function for NN model.\n",
        "def create_model():\n",
        "    # set the model.\n",
        "    model = Sequential()\n",
        "    # hidden layers.\n",
        "    model.add(Dense(36, input_dim=13, activation='relu'))\n",
        "    model.add(Dense(18, activation='relu'))\n",
        "    model.add(Dense(9, activation='softmax'))\n",
        "    # function for top 3.\n",
        "    def top_3_accuracy(y_true, y_pred):\n",
        "        return top_k_categorical_accuracy(y_true, y_pred, k=3)\n",
        "\n",
        "    # set the optimizer.\n",
        "    optimizer = Adam()\n",
        "    # compile the model.\n",
        "    model.compile(loss='categorical_crossentropy',\n",
        "                        optimizer=optimizer,\n",
        "                        metrics=['accuracy'])\n",
        "    return model"
      ],
      "execution_count": 0,
      "outputs": []
    },
    {
      "cell_type": "code",
      "metadata": {
        "id": "Ygl6RH8CL2KN",
        "colab_type": "code",
        "outputId": "6bfe80a1-0ffc-4835-8337-b782def9d993",
        "colab": {
          "base_uri": "https://localhost:8080/",
          "height": 247
        }
      },
      "source": [
        "# set the model.\n",
        "model = create_model()\n",
        "# show the model summary.\n",
        "model.summary()"
      ],
      "execution_count": 18,
      "outputs": [
        {
          "output_type": "stream",
          "text": [
            "Model: \"sequential_2\"\n",
            "_________________________________________________________________\n",
            "Layer (type)                 Output Shape              Param #   \n",
            "=================================================================\n",
            "dense_6 (Dense)              (None, 36)                504       \n",
            "_________________________________________________________________\n",
            "dense_7 (Dense)              (None, 18)                666       \n",
            "_________________________________________________________________\n",
            "dense_8 (Dense)              (None, 9)                 171       \n",
            "=================================================================\n",
            "Total params: 1,341\n",
            "Trainable params: 1,341\n",
            "Non-trainable params: 0\n",
            "_________________________________________________________________\n"
          ],
          "name": "stdout"
        }
      ]
    },
    {
      "cell_type": "code",
      "metadata": {
        "id": "eE8a9-JTL9Sj",
        "colab_type": "code",
        "colab": {
          "base_uri": "https://localhost:8080/",
          "height": 383
        },
        "outputId": "90a949a0-6a88-41ec-dfaa-4c51d03f04cc"
      },
      "source": [
        "# set the model.\n",
        "model = create_model()\n",
        "# fit the model and create history.\n",
        "history = model.fit(X_scaled, y_train, validation_split=0.2, batch_size=5, epochs=10)"
      ],
      "execution_count": 19,
      "outputs": [
        {
          "output_type": "stream",
          "text": [
            "Train on 12 samples, validate on 4 samples\n",
            "Epoch 1/10\n",
            "12/12 [==============================] - 2s 136ms/sample - loss: 2.3198 - acc: 0.0000e+00 - val_loss: 2.5256 - val_acc: 0.0000e+00\n",
            "Epoch 2/10\n",
            "12/12 [==============================] - 0s 1ms/sample - loss: 2.2528 - acc: 0.0000e+00 - val_loss: 2.5307 - val_acc: 0.0000e+00\n",
            "Epoch 3/10\n",
            "12/12 [==============================] - 0s 1ms/sample - loss: 2.2024 - acc: 0.0000e+00 - val_loss: 2.5344 - val_acc: 0.0000e+00\n",
            "Epoch 4/10\n",
            "12/12 [==============================] - 0s 1ms/sample - loss: 2.1529 - acc: 0.0833 - val_loss: 2.5393 - val_acc: 0.0000e+00\n",
            "Epoch 5/10\n",
            "12/12 [==============================] - 0s 1ms/sample - loss: 2.1046 - acc: 0.1667 - val_loss: 2.5440 - val_acc: 0.0000e+00\n",
            "Epoch 6/10\n",
            "12/12 [==============================] - 0s 1ms/sample - loss: 2.0591 - acc: 0.1667 - val_loss: 2.5472 - val_acc: 0.0000e+00\n",
            "Epoch 7/10\n",
            "12/12 [==============================] - 0s 1ms/sample - loss: 2.0128 - acc: 0.1667 - val_loss: 2.5494 - val_acc: 0.0000e+00\n",
            "Epoch 8/10\n",
            "12/12 [==============================] - 0s 1ms/sample - loss: 1.9685 - acc: 0.1667 - val_loss: 2.5513 - val_acc: 0.0000e+00\n",
            "Epoch 9/10\n",
            "12/12 [==============================] - 0s 1ms/sample - loss: 1.9282 - acc: 0.3333 - val_loss: 2.5519 - val_acc: 0.0000e+00\n",
            "Epoch 10/10\n",
            "12/12 [==============================] - 0s 1ms/sample - loss: 1.8836 - acc: 0.4167 - val_loss: 2.5536 - val_acc: 0.0000e+00\n"
          ],
          "name": "stdout"
        }
      ]
    },
    {
      "cell_type": "code",
      "metadata": {
        "id": "3UVyOXb-oePS",
        "colab_type": "code",
        "outputId": "08f45a48-d8b3-483d-9807-16d9a690385a",
        "colab": {
          "base_uri": "https://localhost:8080/",
          "height": 33
        }
      },
      "source": [
        "# base model accuracy score.\n",
        "scores = model.evaluate(X_scaled, y_train)"
      ],
      "execution_count": 20,
      "outputs": [
        {
          "output_type": "stream",
          "text": [
            "\r16/16 [==============================] - 0s 160us/sample - loss: 2.0271 - acc: 0.4375\n"
          ],
          "name": "stdout"
        }
      ]
    },
    {
      "cell_type": "markdown",
      "metadata": {
        "id": "E2EXMgzwVZ40",
        "colab_type": "text"
      },
      "source": [
        "#### Base Model Visuals."
      ]
    },
    {
      "cell_type": "code",
      "metadata": {
        "id": "hWwPaekerboJ",
        "colab_type": "code",
        "outputId": "66818ef0-b4fc-4b6c-95af-f44d658dcc76",
        "colab": {
          "base_uri": "https://localhost:8080/",
          "height": 795
        }
      },
      "source": [
        "# plot the model loss.\n",
        "fig, ax = plt.subplots(1, 1, figsize=(10,6))\n",
        "ax.plot(np.sqrt(history.history['loss']), 'r', label='train')\n",
        "ax.plot(np.sqrt(history.history['val_loss']), 'b' ,label='val')\n",
        "ax.set_xlabel(r'Epoch', fontsize=20)\n",
        "ax.set_ylabel(r'Loss', fontsize=20)\n",
        "ax.legend()\n",
        "ax.tick_params(labelsize=20)\n",
        "\n",
        "# plot the model accuracy.\n",
        "fig, ax = plt.subplots(1, 1, figsize=(10,6))\n",
        "ax.plot(np.sqrt(history.history['acc']), 'r', label='train')\n",
        "ax.plot(np.sqrt(history.history['val_acc']), 'b' ,label='val')\n",
        "ax.set_xlabel(r'Epoch', fontsize=20)\n",
        "ax.set_ylabel(r'Accuracy', fontsize=20)\n",
        "ax.legend()\n",
        "ax.tick_params(labelsize=20)"
      ],
      "execution_count": 21,
      "outputs": [
        {
          "output_type": "display_data",
          "data": {
            "image/png": "[encoded data removed]",
            "text/plain": [
              "<Figure size 720x432 with 1 Axes>"
            ]
          },
          "metadata": {
            "tags": []
          }
        },
        {
          "output_type": "display_data",
          "data": {
            "image/png": "[encoded data removed]",
            "text/plain": [
              "<Figure size 720x432 with 1 Axes>"
            ]
          },
          "metadata": {
            "tags": []
          }
        }
      ]
    },
    {
      "cell_type": "markdown",
      "metadata": {
        "id": "lPaHbCdJPEF3",
        "colab_type": "text"
      },
      "source": [
        "### Optimizer. *(SGD)*"
      ]
    },
    {
      "cell_type": "code",
      "metadata": {
        "id": "ipA7pcOZQ92J",
        "colab_type": "code",
        "colab": {}
      },
      "source": [
        "# function for NN model.\n",
        "def create_model(optimizer='adam'):\n",
        "    # set the model.\n",
        "    model = Sequential()\n",
        "    # hidden layers.\n",
        "    model.add(Dense(36, input_dim=13, activation='relu'))\n",
        "    model.add(Dense(18, activation='relu'))\n",
        "    model.add(Dense(9, activation='softmax'))\n",
        "    # function for top 3.\n",
        "    def top_3_accuracy(y_true, y_pred):\n",
        "        return top_k_categorical_accuracy(y_true, y_pred, k=3)\n",
        "\n",
        "    # set the optimizer.\n",
        "    optimizer = Adam()\n",
        "    # compile the model.\n",
        "    model.compile(loss='categorical_crossentropy',\n",
        "                        optimizer=optimizer,\n",
        "                        metrics=['accuracy'])\n",
        "    return model"
      ],
      "execution_count": 0,
      "outputs": []
    },
    {
      "cell_type": "code",
      "metadata": {
        "id": "gURgxs91Q94_",
        "colab_type": "code",
        "colab": {}
      },
      "source": [
        "# set the model with KerasClassifier.\n",
        "model = KerasClassifier(build_fn=create_model, epochs=10, batch_size=5, validation_split=0.2, verbose=0)"
      ],
      "execution_count": 0,
      "outputs": []
    },
    {
      "cell_type": "code",
      "metadata": {
        "id": "A77OZ4Q3Q98W",
        "colab_type": "code",
        "colab": {}
      },
      "source": [
        "# set the parameters for optimizer.\n",
        "optimizer = ['SGD', 'RMSprop', 'Adagrad', 'Adadelta', 'Adam', 'Adamax', 'Nadam']\n",
        "param_grid = dict(optimizer=optimizer)"
      ],
      "execution_count": 0,
      "outputs": []
    },
    {
      "cell_type": "code",
      "metadata": {
        "id": "OU3wcEbKREzp",
        "colab_type": "code",
        "colab": {
          "base_uri": "https://localhost:8080/",
          "height": 148
        },
        "outputId": "defe386c-bc3b-46d9-bb7c-f19fd633bf9c"
      },
      "source": [
        "# set the gridsearch.\n",
        "grid = GridSearchCV(estimator=model, param_grid=param_grid, n_jobs=1)\n",
        "grid_result = grid.fit(X_scaled, y_train)\n",
        "# show the results.\n",
        "print(f\"Best: {grid_result.best_score_} using {grid_result.best_params_}\")\n",
        "means = grid_result.cv_results_['mean_test_score']\n",
        "stds = grid_result.cv_results_['std_test_score']\n",
        "params = grid_result.cv_results_['params']\n",
        "for mean, stdev, param in zip(means, stds, params):\n",
        "    print(f\"Means: {mean}, Stdev: {stdev} with: {param}\")"
      ],
      "execution_count": 26,
      "outputs": [
        {
          "output_type": "stream",
          "text": [
            "Best: 0.13333333730697633 using {'optimizer': 'SGD'}\n",
            "Means: 0.13333333730697633, Stdev: 0.16329932105224407 with: {'optimizer': 'SGD'}\n",
            "Means: 0.13333333730697633, Stdev: 0.16329932105224407 with: {'optimizer': 'RMSprop'}\n",
            "Means: 0.0, Stdev: 0.0 with: {'optimizer': 'Adagrad'}\n",
            "Means: 0.06666666865348816, Stdev: 0.13333333730697633 with: {'optimizer': 'Adadelta'}\n",
            "Means: 0.06666666865348816, Stdev: 0.13333333730697633 with: {'optimizer': 'Adam'}\n",
            "Means: 0.06666666865348816, Stdev: 0.13333333730697633 with: {'optimizer': 'Adamax'}\n",
            "Means: 0.13333333730697633, Stdev: 0.16329932105224407 with: {'optimizer': 'Nadam'}\n"
          ],
          "name": "stdout"
        }
      ]
    },
    {
      "cell_type": "markdown",
      "metadata": {
        "id": "sXCtFmJbRG1W",
        "colab_type": "text"
      },
      "source": [
        "### learning Rate.*(0.0)*"
      ]
    },
    {
      "cell_type": "code",
      "metadata": {
        "id": "ZPrib6ktRIz4",
        "colab_type": "code",
        "colab": {}
      },
      "source": [
        "# function for NN model.\n",
        "def create_model(learn_rate=0.0):\n",
        "    # set the model.\n",
        "    model = Sequential()\n",
        "    # hidden layers.\n",
        "    model.add(Dense(36, input_dim=13, activation='relu'))\n",
        "    model.add(Dense(18, activation='relu'))\n",
        "    model.add(Dense(9, activation='softmax'))\n",
        "    # function for top 3.\n",
        "    def top_3_accuracy(y_true, y_pred):\n",
        "        return top_k_categorical_accuracy(y_true, y_pred, k=3)\n",
        "\n",
        "    # set the optimizer.\n",
        "    optimizer = SGD(lr=learn_rate)\n",
        "    # compile the model.\n",
        "    model.compile(loss='categorical_crossentropy',\n",
        "                        optimizer=optimizer,\n",
        "                        metrics=['accuracy'])\n",
        "    return model"
      ],
      "execution_count": 0,
      "outputs": []
    },
    {
      "cell_type": "code",
      "metadata": {
        "id": "x_zRbzR7RI2D",
        "colab_type": "code",
        "colab": {}
      },
      "source": [
        "# set the model with KerasClassifier.\n",
        "model = KerasClassifier(build_fn=create_model, epochs=10, batch_size=5, validation_split=0.2, verbose=0)"
      ],
      "execution_count": 0,
      "outputs": []
    },
    {
      "cell_type": "code",
      "metadata": {
        "id": "S2Rz4wBlRI6K",
        "colab_type": "code",
        "colab": {}
      },
      "source": [
        "# set the parameters for learn rate.\n",
        "learn_rate = [0, 0.001, 0.01, 0.05]\n",
        "param_grid = dict(learn_rate=learn_rate)"
      ],
      "execution_count": 0,
      "outputs": []
    },
    {
      "cell_type": "code",
      "metadata": {
        "id": "FOGaWkCNRI4P",
        "colab_type": "code",
        "colab": {
          "base_uri": "https://localhost:8080/",
          "height": 99
        },
        "outputId": "958fa725-0c22-4f3a-c823-d490cb1977bf"
      },
      "source": [
        "# set the gridsearch.\n",
        "grid = GridSearchCV(estimator=model, param_grid=param_grid, n_jobs=1)\n",
        "grid_result = grid.fit(X_scaled, y_train)\n",
        "# show the results.\n",
        "print(f\"Best: {grid_result.best_score_} using {grid_result.best_params_}\")\n",
        "means = grid_result.cv_results_['mean_test_score']\n",
        "stds = grid_result.cv_results_['std_test_score']\n",
        "params = grid_result.cv_results_['params']\n",
        "for mean, stdev, param in zip(means, stds, params):\n",
        "    print(f\"Means: {mean}, Stdev: {stdev} with: {param}\")"
      ],
      "execution_count": 19,
      "outputs": [
        {
          "output_type": "stream",
          "text": [
            "Best: 0.25000000596046446 using {'learn_rate': 0}\n",
            "Means: 0.25000000596046446, Stdev: 0.1290994487210439 with: {'learn_rate': 0}\n",
            "Means: 0.06666666865348816, Stdev: 0.13333333730697633 with: {'learn_rate': 0.001}\n",
            "Means: 0.0, Stdev: 0.0 with: {'learn_rate': 0.01}\n",
            "Means: 0.06666666865348816, Stdev: 0.13333333730697633 with: {'learn_rate': 0.05}\n"
          ],
          "name": "stdout"
        }
      ]
    },
    {
      "cell_type": "markdown",
      "metadata": {
        "id": "xyFaWOZlRjCJ",
        "colab_type": "text"
      },
      "source": [
        "### Activation Function.*(relu)*"
      ]
    },
    {
      "cell_type": "code",
      "metadata": {
        "id": "l287_A5aRk5q",
        "colab_type": "code",
        "colab": {}
      },
      "source": [
        "# function for NN model.\n",
        "def create_model(activation='relu'):\n",
        "    # set the model.\n",
        "    model = Sequential()\n",
        "    # hidden layers.\n",
        "    model.add(Dense(36, input_dim=13, activation=activation))\n",
        "    model.add(Dense(18, activation=activation))\n",
        "    model.add(Dense(9, activation='softmax'))\n",
        "    # function for top 3.\n",
        "    def top_3_accuracy(y_true, y_pred):\n",
        "        return top_k_categorical_accuracy(y_true, y_pred, k=3)\n",
        "\n",
        "    # set the optimizer.\n",
        "    optimizer = SGD(lr=0.0)\n",
        "    # compile the model.\n",
        "    model.compile(loss='categorical_crossentropy',\n",
        "                        optimizer=optimizer,\n",
        "                        metrics=['accuracy'])\n",
        "    return model"
      ],
      "execution_count": 0,
      "outputs": []
    },
    {
      "cell_type": "code",
      "metadata": {
        "id": "HbOlMtxERk70",
        "colab_type": "code",
        "colab": {}
      },
      "source": [
        "# set the model with KerasClassifier.\n",
        "model = KerasClassifier(build_fn=create_model, epochs=10, batch_size=5, validation_split=0.2, verbose=0)"
      ],
      "execution_count": 0,
      "outputs": []
    },
    {
      "cell_type": "code",
      "metadata": {
        "id": "lFV9dVgBRk-i",
        "colab_type": "code",
        "colab": {}
      },
      "source": [
        "# set the parameters for activation.\n",
        "activation = ['softmax', 'softplus', 'softsign', 'relu', 'tanh', 'sigmoid', 'hard_sigmoid', 'linear']\n",
        "param_grid = dict(activation=activation)"
      ],
      "execution_count": 0,
      "outputs": []
    },
    {
      "cell_type": "code",
      "metadata": {
        "id": "wo1gqELZSEVu",
        "colab_type": "code",
        "colab": {
          "base_uri": "https://localhost:8080/",
          "height": 234
        },
        "outputId": "6a0b74f7-2022-4afa-f6a1-b1413b7c69f7"
      },
      "source": [
        "# set the gridsearch.\n",
        "grid = GridSearchCV(estimator=model, param_grid=param_grid, n_jobs=1)\n",
        "grid_result = grid.fit(X_scaled, y_train)\n",
        "# show the results.\n",
        "print(f\"Best: {grid_result.best_score_} using {grid_result.best_params_}\")\n",
        "means = grid_result.cv_results_['mean_test_score']\n",
        "stds = grid_result.cv_results_['std_test_score']\n",
        "params = grid_result.cv_results_['params']\n",
        "for mean, stdev, param in zip(means, stds, params):\n",
        "    print(f\"Means: {mean}, Stdev: {stdev} with: {param}\")"
      ],
      "execution_count": 23,
      "outputs": [
        {
          "output_type": "stream",
          "text": [
            "WARNING:tensorflow:From /usr/local/lib/python3.6/dist-packages/tensorflow_core/python/ops/math_grad.py:1424: where (from tensorflow.python.ops.array_ops) is deprecated and will be removed in a future version.\n",
            "Instructions for updating:\n",
            "Use tf.where in 2.0, which has the same broadcast rule as np.where\n",
            "Best: 0.18333333730697632 using {'activation': 'relu'}\n",
            "Means: 0.13333333730697633, Stdev: 0.16329932105224407 with: {'activation': 'softmax'}\n",
            "Means: 0.13333333730697633, Stdev: 0.16329932105224407 with: {'activation': 'softplus'}\n",
            "Means: 0.0, Stdev: 0.0 with: {'activation': 'softsign'}\n",
            "Means: 0.18333333730697632, Stdev: 0.26034166324076147 with: {'activation': 'relu'}\n",
            "Means: 0.0, Stdev: 0.0 with: {'activation': 'tanh'}\n",
            "Means: 0.13333333730697633, Stdev: 0.16329932105224407 with: {'activation': 'sigmoid'}\n",
            "Means: 0.05, Stdev: 0.10000000000000002 with: {'activation': 'hard_sigmoid'}\n",
            "Means: 0.06666666865348816, Stdev: 0.13333333730697633 with: {'activation': 'linear'}\n"
          ],
          "name": "stdout"
        }
      ]
    },
    {
      "cell_type": "markdown",
      "metadata": {
        "id": "3Ct5aQnBs4DM",
        "colab_type": "text"
      },
      "source": [
        "### Hidden Neuron Count.*(144)*"
      ]
    },
    {
      "cell_type": "code",
      "metadata": {
        "id": "qFqycONPs6OX",
        "colab_type": "code",
        "colab": {}
      },
      "source": [
        "# function for NN model.\n",
        "def create_model(neurons=1):\n",
        "    # set the model.\n",
        "    model = Sequential()\n",
        "    # hidden layers.\n",
        "    model.add(Dense(36, input_dim=13, activation='relu'))\n",
        "    model.add(Dense(18, activation='relu'))\n",
        "    model.add(Dense(9, activation='softmax'))\n",
        "    # function for top 3.\n",
        "    def top_3_accuracy(y_true, y_pred):\n",
        "        return top_k_categorical_accuracy(y_true, y_pred, k=3)\n",
        "\n",
        "    # set the optimizer.\n",
        "    optimizer = SGD(lr=0.0)\n",
        "    # compile the model.\n",
        "    model.compile(loss='categorical_crossentropy',\n",
        "                        optimizer=optimizer,\n",
        "                        metrics=['accuracy'])\n",
        "    return model"
      ],
      "execution_count": 0,
      "outputs": []
    },
    {
      "cell_type": "code",
      "metadata": {
        "id": "tRUXe3fAs6V7",
        "colab_type": "code",
        "colab": {}
      },
      "source": [
        "# set the model with KerasClassifier.\n",
        "model = KerasClassifier(build_fn=create_model, epochs=10, batch_size=5, validation_split=0.2, verbose=0)"
      ],
      "execution_count": 0,
      "outputs": []
    },
    {
      "cell_type": "code",
      "metadata": {
        "id": "RiRVX2trs6Tq",
        "colab_type": "code",
        "colab": {}
      },
      "source": [
        "# set the parameters for neurons.\n",
        "neurons = [9, 18, 36, 72, 144, 288, 576, 1152]\n",
        "param_grid = dict(neurons=neurons)"
      ],
      "execution_count": 0,
      "outputs": []
    },
    {
      "cell_type": "code",
      "metadata": {
        "id": "qH7a5lI_s6Rb",
        "colab_type": "code",
        "colab": {
          "base_uri": "https://localhost:8080/",
          "height": 165
        },
        "outputId": "a93c194f-4542-4340-e02a-5a016d8300b6"
      },
      "source": [
        "# set the gridsearch.\n",
        "grid = GridSearchCV(estimator=model, param_grid=param_grid, n_jobs=1)\n",
        "grid_result = grid.fit(X_scaled, y_train)\n",
        "# show the results.\n",
        "print(f\"Best: {grid_result.best_score_} using {grid_result.best_params_}\")\n",
        "means = grid_result.cv_results_['mean_test_score']\n",
        "stds = grid_result.cv_results_['std_test_score']\n",
        "params = grid_result.cv_results_['params']\n",
        "for mean, stdev, param in zip(means, stds, params):\n",
        "    print(f\"Means: {mean}, Stdev: {stdev} with: {param}\")"
      ],
      "execution_count": 28,
      "outputs": [
        {
          "output_type": "stream",
          "text": [
            "Best: 0.25000000596046446 using {'neurons': 144}\n",
            "Means: 0.20000000596046447, Stdev: 0.16329932105224407 with: {'neurons': 9}\n",
            "Means: 0.06666666865348816, Stdev: 0.13333333730697633 with: {'neurons': 18}\n",
            "Means: 0.06666666865348816, Stdev: 0.13333333730697633 with: {'neurons': 36}\n",
            "Means: 0.0, Stdev: 0.0 with: {'neurons': 72}\n",
            "Means: 0.25000000596046446, Stdev: 0.1290994487210439 with: {'neurons': 144}\n",
            "Means: 0.13333333730697633, Stdev: 0.16329932105224407 with: {'neurons': 288}\n",
            "Means: 0.0, Stdev: 0.0 with: {'neurons': 576}\n",
            "Means: 0.0, Stdev: 0.0 with: {'neurons': 1152}\n"
          ],
          "name": "stdout"
        }
      ]
    },
    {
      "cell_type": "markdown",
      "metadata": {
        "id": "NwyAEfJese0z",
        "colab_type": "text"
      },
      "source": [
        "### Weight Initialization.*(glorot_normal)*"
      ]
    },
    {
      "cell_type": "code",
      "metadata": {
        "id": "3xBn5uu-sinP",
        "colab_type": "code",
        "colab": {}
      },
      "source": [
        "# function for NN model.\n",
        "def create_model(weight_init='uniform'):\n",
        "    # set the model.\n",
        "    model = Sequential()\n",
        "    # hidden layers.\n",
        "    model.add(Dense(144, input_dim=13, kernel_initializer=weight_init, activation='relu'))\n",
        "    model.add(Dense(72, kernel_initializer=weight_init, activation='relu'))\n",
        "    model.add(Dense(36, kernel_initializer=weight_init, activation='relu'))\n",
        "    model.add(Dense(18, kernel_initializer=weight_init, activation='relu'))\n",
        "    model.add(Dense(9, kernel_initializer=weight_init, activation='softmax'))\n",
        "    # function for top 3.\n",
        "    def top_3_accuracy(y_true, y_pred):\n",
        "        return top_k_categorical_accuracy(y_true, y_pred, k=3)\n",
        "\n",
        "    # set the optimizer.\n",
        "    optimizer = SGD(lr=0.0)\n",
        "    # compile the model.\n",
        "    model.compile(loss='categorical_crossentropy',\n",
        "                        optimizer=optimizer,\n",
        "                        metrics=['accuracy'])\n",
        "    return model"
      ],
      "execution_count": 0,
      "outputs": []
    },
    {
      "cell_type": "code",
      "metadata": {
        "id": "4zgKBxZRsitW",
        "colab_type": "code",
        "colab": {}
      },
      "source": [
        "# set the KerasClassifier model.\n",
        "model = KerasClassifier(build_fn=create_model, epochs=10, batch_size=5, validation_split=0.2, verbose=0)"
      ],
      "execution_count": 0,
      "outputs": []
    },
    {
      "cell_type": "code",
      "metadata": {
        "id": "gJCRxG0BsisJ",
        "colab_type": "code",
        "colab": {}
      },
      "source": [
        "# set the parameters for weight initializer.\n",
        "weight_init = ['uniform', 'lecun_uniform', 'normal', 'zero', 'glorot_normal', 'glorot_uniform', 'he_normal', 'he_uniform']\n",
        "param_grid = dict(weight_init=weight_init)"
      ],
      "execution_count": 0,
      "outputs": []
    },
    {
      "cell_type": "code",
      "metadata": {
        "id": "vvB4BlPIsiqI",
        "colab_type": "code",
        "colab": {
          "base_uri": "https://localhost:8080/",
          "height": 234
        },
        "outputId": "b40a2aa4-0bab-4a8a-bf05-09e2a01418b6"
      },
      "source": [
        "# set the gridsearch.\n",
        "grid = GridSearchCV(estimator=model, param_grid=param_grid, n_jobs=1)\n",
        "grid_result = grid.fit(X_scaled, y_train)\n",
        "# show the results.\n",
        "print(f\"Best: {grid_result.best_score_} using {grid_result.best_params_}\")\n",
        "means = grid_result.cv_results_['mean_test_score']\n",
        "stds = grid_result.cv_results_['std_test_score']\n",
        "params = grid_result.cv_results_['params']\n",
        "for mean, stdev, param in zip(means, stds, params):\n",
        "    print(f\"Means: {mean}, Stdev: {stdev} with: {param}\")"
      ],
      "execution_count": 35,
      "outputs": [
        {
          "output_type": "stream",
          "text": [
            "WARNING:tensorflow:From /usr/local/lib/python3.6/dist-packages/tensorflow_core/python/keras/initializers.py:143: calling RandomNormal.__init__ (from tensorflow.python.ops.init_ops) with dtype is deprecated and will be removed in a future version.\n",
            "Instructions for updating:\n",
            "Call initializer instance with the dtype argument instead of passing it to the constructor\n",
            "Best: 0.18333333730697632 using {'weight_init': 'glorot_normal'}\n",
            "Means: 0.0, Stdev: 0.0 with: {'weight_init': 'uniform'}\n",
            "Means: 0.13333333730697633, Stdev: 0.16329932105224407 with: {'weight_init': 'lecun_uniform'}\n",
            "Means: 0.1, Stdev: 0.20000000000000004 with: {'weight_init': 'normal'}\n",
            "Means: 0.13333333730697633, Stdev: 0.26666667461395266 with: {'weight_init': 'zero'}\n",
            "Means: 0.18333333730697632, Stdev: 0.26034166324076147 with: {'weight_init': 'glorot_normal'}\n",
            "Means: 0.11666666865348815, Stdev: 0.14529663441410853 with: {'weight_init': 'glorot_uniform'}\n",
            "Means: 0.13333333730697633, Stdev: 0.16329932105224407 with: {'weight_init': 'he_normal'}\n",
            "Means: 0.13333333730697633, Stdev: 0.16329932105224407 with: {'weight_init': 'he_uniform'}\n"
          ],
          "name": "stdout"
        }
      ]
    },
    {
      "cell_type": "markdown",
      "metadata": {
        "id": "E9_rhdaZsqcR",
        "colab_type": "text"
      },
      "source": [
        "### Dropout Rate.*(0.1)*"
      ]
    },
    {
      "cell_type": "code",
      "metadata": {
        "id": "kIl5n0Xostlq",
        "colab_type": "code",
        "colab": {}
      },
      "source": [
        "# function for NN model.\n",
        "def create_model(weight_rate=0.0, weight_constraint=0):\n",
        "       # set the model.\n",
        "    model = Sequential()\n",
        "    # hidden layers.\n",
        "    model.add(Dense(144, input_dim=13, kernel_initializer='glorot_normal', activation='relu'))\n",
        "    model.add(Dropout(weight_rate))\n",
        "    model.add(Dense(72, kernel_initializer='glorot_normal', activation='relu'))\n",
        "    model.add(Dropout(weight_rate))\n",
        "    model.add(Dense(36, kernel_initializer='glorot_normal', activation='relu'))\n",
        "    model.add(Dropout(weight_rate))\n",
        "    model.add(Dense(18, kernel_initializer='glorot_normal', activation='relu'))\n",
        "    model.add(Dropout(weight_rate))\n",
        "    model.add(Dense(9, kernel_initializer='glorot_normal', activation='softmax'))\n",
        "    # function for top 3.\n",
        "    def top_3_accuracy(y_true, y_pred):\n",
        "        return top_k_categorical_accuracy(y_true, y_pred, k=3)\n",
        "\n",
        "    # set the optimizer.\n",
        "    optimizer = SGD(lr=0.0)\n",
        "    # compile the model.\n",
        "    model.compile(loss='categorical_crossentropy',\n",
        "                        optimizer=optimizer,\n",
        "                        metrics=['accuracy'])\n",
        "    return model"
      ],
      "execution_count": 0,
      "outputs": []
    },
    {
      "cell_type": "code",
      "metadata": {
        "id": "vU6S_9Gwstt5",
        "colab_type": "code",
        "colab": {}
      },
      "source": [
        "# set the KerasClassifier model.\n",
        "model = KerasClassifier(build_fn=create_model, epochs=10, batch_size=5, validation_split=0.2, verbose=0)"
      ],
      "execution_count": 0,
      "outputs": []
    },
    {
      "cell_type": "code",
      "metadata": {
        "id": "9GH7_kEnstrq",
        "colab_type": "code",
        "colab": {}
      },
      "source": [
        "# set the parameters for weights and dropout rate.\n",
        "weight_constraint = [1, 2, 3]\n",
        "weight_rate = [0, 0.1, 0.2]\n",
        "param_grid = dict(weight_rate=weight_rate, weight_constraint=weight_constraint)"
      ],
      "execution_count": 0,
      "outputs": []
    },
    {
      "cell_type": "code",
      "metadata": {
        "id": "d4_OyYdYstp3",
        "colab_type": "code",
        "colab": {
          "base_uri": "https://localhost:8080/",
          "height": 181
        },
        "outputId": "651e1156-bdcd-482c-f805-3a40a42a9d31"
      },
      "source": [
        "# set the gridsearch.\n",
        "grid = GridSearchCV(estimator=model, param_grid=param_grid, n_jobs=1)\n",
        "grid_result = grid.fit(X_scaled, y_train)\n",
        "# show the results.\n",
        "print(f\"Best: {grid_result.best_score_} using {grid_result.best_params_}\")\n",
        "means = grid_result.cv_results_['mean_test_score']\n",
        "stds = grid_result.cv_results_['std_test_score']\n",
        "params = grid_result.cv_results_['params']\n",
        "for mean, stdev, param in zip(means, stds, params):\n",
        "    print(f\"Means: {mean}, Stdev: {stdev} with: {param}\")"
      ],
      "execution_count": 74,
      "outputs": [
        {
          "output_type": "stream",
          "text": [
            "Best: 0.18333333730697632 using {'weight_constraint': 1, 'weight_rate': 0.1}\n",
            "Means: 0.0, Stdev: 0.0 with: {'weight_constraint': 1, 'weight_rate': 0}\n",
            "Means: 0.18333333730697632, Stdev: 0.15275252706723463 with: {'weight_constraint': 1, 'weight_rate': 0.1}\n",
            "Means: 0.0, Stdev: 0.0 with: {'weight_constraint': 1, 'weight_rate': 0.2}\n",
            "Means: 0.13333333730697633, Stdev: 0.16329932105224407 with: {'weight_constraint': 2, 'weight_rate': 0}\n",
            "Means: 0.0, Stdev: 0.0 with: {'weight_constraint': 2, 'weight_rate': 0.1}\n",
            "Means: 0.0, Stdev: 0.0 with: {'weight_constraint': 2, 'weight_rate': 0.2}\n",
            "Means: 0.06666666865348816, Stdev: 0.13333333730697633 with: {'weight_constraint': 3, 'weight_rate': 0}\n",
            "Means: 0.06666666865348816, Stdev: 0.13333333730697633 with: {'weight_constraint': 3, 'weight_rate': 0.1}\n",
            "Means: 0.0, Stdev: 0.0 with: {'weight_constraint': 3, 'weight_rate': 0.2}\n"
          ],
          "name": "stdout"
        }
      ]
    },
    {
      "cell_type": "markdown",
      "metadata": {
        "id": "rV3gl4GGMdhy",
        "colab_type": "text"
      },
      "source": [
        "### Batch Size.*(8)*"
      ]
    },
    {
      "cell_type": "code",
      "metadata": {
        "id": "KNYIM33-Mbs4",
        "colab_type": "code",
        "colab": {}
      },
      "source": [
        "# function for NN model.\n",
        "def create_model():\n",
        "      # set the model.\n",
        "    model = Sequential()\n",
        "    # hidden layers.\n",
        "    model.add(Dense(144, input_dim=13, kernel_initializer='glorot_normal', activation='relu'))\n",
        "    model.add(Dropout(0.1))\n",
        "    model.add(Dense(72, kernel_initializer='glorot_normal', activation='relu'))\n",
        "    model.add(Dropout(0.1))\n",
        "    model.add(Dense(36, kernel_initializer='glorot_normal', activation='relu'))\n",
        "    model.add(Dropout(0.1))\n",
        "    model.add(Dense(18, kernel_initializer='glorot_normal', activation='relu'))\n",
        "    model.add(Dropout(0.1))\n",
        "    model.add(Dense(9, kernel_initializer='glorot_normal', activation='softmax'))\n",
        "    # function for top 3.\n",
        "    def top_3_accuracy(y_true, y_pred):\n",
        "        return top_k_categorical_accuracy(y_true, y_pred, k=3)\n",
        "\n",
        "    # set the optimizer.\n",
        "    optimizer = SGD(lr=0.0)\n",
        "    # compile the model.\n",
        "    model.compile(loss='categorical_crossentropy',\n",
        "                        optimizer=optimizer,\n",
        "                        metrics=['accuracy'])\n",
        "    return model"
      ],
      "execution_count": 0,
      "outputs": []
    },
    {
      "cell_type": "code",
      "metadata": {
        "id": "I2GHJazLMr5I",
        "colab_type": "code",
        "colab": {}
      },
      "source": [
        "# set the KerasClassifier model.\n",
        "model = KerasClassifier(build_fn=create_model, epochs=10, validation_split=0.2, verbose=0)"
      ],
      "execution_count": 0,
      "outputs": []
    },
    {
      "cell_type": "code",
      "metadata": {
        "id": "RU_3kHZPUULc",
        "colab_type": "code",
        "colab": {}
      },
      "source": [
        "# set the parameters for batch size.\n",
        "batch_size = [2,4,6,8,10,12]\n",
        "param_grid = dict(batch_size=batch_size)"
      ],
      "execution_count": 0,
      "outputs": []
    },
    {
      "cell_type": "code",
      "metadata": {
        "id": "n3RS7HIFNSxV",
        "colab_type": "code",
        "colab": {
          "base_uri": "https://localhost:8080/",
          "height": 132
        },
        "outputId": "27d4d99a-dad7-4cd1-9a92-c1c8508b9760"
      },
      "source": [
        "# set the gridsearch.\n",
        "grid = GridSearchCV(estimator=model, param_grid=param_grid, n_jobs=1)\n",
        "grid_result = grid.fit(X_scaled, y_train)\n",
        "# show the results.\n",
        "print(f\"Best: {grid_result.best_score_} using {grid_result.best_params_}\")\n",
        "means = grid_result.cv_results_['mean_test_score']\n",
        "stds = grid_result.cv_results_['std_test_score']\n",
        "params = grid_result.cv_results_['params']\n",
        "for mean, stdev, param in zip(means, stds, params):\n",
        "    print(f\"Means: {mean}, Stdev: {stdev} with: {param}\")"
      ],
      "execution_count": 49,
      "outputs": [
        {
          "output_type": "stream",
          "text": [
            "Best: 0.2333333373069763 using {'batch_size': 8}\n",
            "Means: 0.05, Stdev: 0.10000000000000002 with: {'batch_size': 2}\n",
            "Means: 0.13333333730697633, Stdev: 0.16329932105224407 with: {'batch_size': 4}\n",
            "Means: 0.13333333730697633, Stdev: 0.16329932105224407 with: {'batch_size': 6}\n",
            "Means: 0.2333333373069763, Stdev: 0.20000000198682152 with: {'batch_size': 8}\n",
            "Means: 0.13333333730697633, Stdev: 0.16329932105224407 with: {'batch_size': 10}\n",
            "Means: 0.05, Stdev: 0.10000000000000002 with: {'batch_size': 12}\n"
          ],
          "name": "stdout"
        }
      ]
    },
    {
      "cell_type": "markdown",
      "metadata": {
        "id": "dxyXN-50P8FG",
        "colab_type": "text"
      },
      "source": [
        "### Epochs.*(500)*"
      ]
    },
    {
      "cell_type": "code",
      "metadata": {
        "id": "twmuWaKXQAFm",
        "colab_type": "code",
        "colab": {}
      },
      "source": [
        "# function for NN model.\n",
        "def create_model():\n",
        "      # set the model.\n",
        "    model = Sequential()\n",
        "    # hidden layers.\n",
        "    model.add(Dense(144, input_dim=13, kernel_initializer='glorot_normal', activation='relu'))\n",
        "    model.add(Dropout(0.1))\n",
        "    model.add(Dense(72, kernel_initializer='glorot_normal', activation='relu'))\n",
        "    model.add(Dropout(0.1))\n",
        "    model.add(Dense(36, kernel_initializer='glorot_normal', activation='relu'))\n",
        "    model.add(Dropout(0.1))\n",
        "    model.add(Dense(18, kernel_initializer='glorot_normal', activation='relu'))\n",
        "    model.add(Dropout(0.1))\n",
        "    model.add(Dense(9, kernel_initializer='glorot_normal', activation='softmax'))\n",
        "    # function for top 3.\n",
        "    def top_3_accuracy(y_true, y_pred):\n",
        "        return top_k_categorical_accuracy(y_true, y_pred, k=3)\n",
        "\n",
        "    # set the optimizer.\n",
        "    optimizer = SGD(lr=0.0)\n",
        "    # compile the model.\n",
        "    model.compile(loss='categorical_crossentropy',\n",
        "                        optimizer=optimizer,\n",
        "                        metrics=['accuracy'])\n",
        "    return model"
      ],
      "execution_count": 0,
      "outputs": []
    },
    {
      "cell_type": "code",
      "metadata": {
        "id": "9kMLQiYaQAKc",
        "colab_type": "code",
        "colab": {}
      },
      "source": [
        "# set the KerasClassifier model.\n",
        "model = KerasClassifier(build_fn=create_model, batch_size=8, validation_split=0.2, verbose=0)"
      ],
      "execution_count": 0,
      "outputs": []
    },
    {
      "cell_type": "code",
      "metadata": {
        "id": "Wg_TyH6qQAIN",
        "colab_type": "code",
        "colab": {}
      },
      "source": [
        "# set the parameters for epochs.\n",
        "epochs = [10, 50, 100, 200, 500]\n",
        "param_grid = dict(epochs=epochs)"
      ],
      "execution_count": 0,
      "outputs": []
    },
    {
      "cell_type": "code",
      "metadata": {
        "id": "l-j_N4WbQ3sB",
        "colab_type": "code",
        "colab": {
          "base_uri": "https://localhost:8080/",
          "height": 115
        },
        "outputId": "c4606775-de92-4733-84b9-f2438050f369"
      },
      "source": [
        "# set the gridsearch.\n",
        "grid = GridSearchCV(estimator=model, param_grid=param_grid, n_jobs=1)\n",
        "# fit the model.\n",
        "grid_result = grid.fit(X_scaled, y_train)\n",
        "# show the results.\n",
        "print(f\"Best: {grid_result.best_score_} using {grid_result.best_params_}\")\n",
        "means = grid_result.cv_results_['mean_test_score']\n",
        "stds = grid_result.cv_results_['std_test_score']\n",
        "params = grid_result.cv_results_['params']\n",
        "for mean, stdev, param in zip(means, stds, params):\n",
        "    print(f\"Means: {mean}, Stdev: {stdev} with: {param}\")"
      ],
      "execution_count": 54,
      "outputs": [
        {
          "output_type": "stream",
          "text": [
            "Best: 0.20000000596046447 using {'epochs': 500}\n",
            "Means: 0.06666666865348816, Stdev: 0.13333333730697633 with: {'epochs': 10}\n",
            "Means: 0.06666666865348816, Stdev: 0.13333333730697633 with: {'epochs': 50}\n",
            "Means: 0.0, Stdev: 0.0 with: {'epochs': 100}\n",
            "Means: 0.18333333730697632, Stdev: 0.15275252706723463 with: {'epochs': 200}\n",
            "Means: 0.20000000596046447, Stdev: 0.26666667461395266 with: {'epochs': 500}\n"
          ],
          "name": "stdout"
        }
      ]
    },
    {
      "cell_type": "markdown",
      "metadata": {
        "id": "2LPcC1xetEJ8",
        "colab_type": "text"
      },
      "source": [
        "### Final Model."
      ]
    },
    {
      "cell_type": "code",
      "metadata": {
        "id": "qGn6XHZvtGwp",
        "colab_type": "code",
        "colab": {}
      },
      "source": [
        "# function for NN model.\n",
        "def create_model():\n",
        "      # set the model.\n",
        "    model = Sequential()\n",
        "    # hidden layers.\n",
        "    model.add(Dense(144, input_dim=13, kernel_initializer='glorot_normal', activation='relu'))\n",
        "    model.add(Dropout(0.1))\n",
        "    model.add(Dense(72, kernel_initializer='glorot_normal', activation='relu'))\n",
        "    model.add(Dropout(0.1))\n",
        "    model.add(Dense(36, kernel_initializer='glorot_normal', activation='relu'))\n",
        "    model.add(Dropout(0.1))\n",
        "    model.add(Dense(18, kernel_initializer='glorot_normal', activation='relu'))\n",
        "    model.add(Dropout(0.1))\n",
        "    model.add(Dense(9, kernel_initializer='glorot_normal', activation='softmax'))\n",
        "    # function for top 3.\n",
        "    def top_3_accuracy(y_true, y_pred):\n",
        "        return top_k_categorical_accuracy(y_true, y_pred, k=3)\n",
        "\n",
        "    # set the optimizer.\n",
        "    optimizer = SGD(lr=0.0)\n",
        "    # compile the model.\n",
        "    model.compile(loss='categorical_crossentropy',\n",
        "                        optimizer=optimizer,\n",
        "                        metrics=['accuracy'])\n",
        "    return model"
      ],
      "execution_count": 0,
      "outputs": []
    },
    {
      "cell_type": "code",
      "metadata": {
        "id": "Jy_Wyu3NtG1G",
        "colab_type": "code",
        "colab": {}
      },
      "source": [
        "# set the model.\n",
        "model = create_model()\n",
        "# fit the model, create history.\n",
        "history = model.fit(X_scaled, y_train, validation_split=0.2, epochs=500, batch_size=8, verbose=0)"
      ],
      "execution_count": 0,
      "outputs": []
    },
    {
      "cell_type": "code",
      "metadata": {
        "id": "tBzYKigwyTbL",
        "colab_type": "code",
        "outputId": "67ebdea4-ad28-4074-eb51-4fce6b430f4d",
        "colab": {
          "base_uri": "https://localhost:8080/",
          "height": 33
        }
      },
      "source": [
        "# final model accuracy score.\n",
        "scores = model.evaluate(X_scaled, y_train)"
      ],
      "execution_count": 77,
      "outputs": [
        {
          "output_type": "stream",
          "text": [
            "\r16/16 [==============================] - 0s 537us/sample - loss: 2.1677 - acc: 0.1250\n"
          ],
          "name": "stdout"
        }
      ]
    },
    {
      "cell_type": "code",
      "metadata": {
        "id": "31wXbvqDuif_",
        "colab_type": "code",
        "outputId": "2eb66239-d59d-4fc9-9f2e-b7884f5b5405",
        "colab": {
          "base_uri": "https://localhost:8080/",
          "height": 799
        }
      },
      "source": [
        "# plot the model loss.\n",
        "fig, ax = plt.subplots(1, 1, figsize=(10,6))\n",
        "ax.plot(np.sqrt(history.history['loss']), 'r', label='train')\n",
        "ax.plot(np.sqrt(history.history['val_loss']), 'b' ,label='val')\n",
        "ax.set_xlabel(r'Epoch', fontsize=20)\n",
        "ax.set_ylabel(r'Loss', fontsize=20)\n",
        "ax.legend()\n",
        "ax.tick_params(labelsize=20)\n",
        "\n",
        "# plot the model accuracy.\n",
        "fig, ax = plt.subplots(1, 1, figsize=(10,6))\n",
        "ax.plot(np.sqrt(history.history['acc']), 'r', label='train')\n",
        "ax.plot(np.sqrt(history.history['val_acc']), 'b' ,label='val')\n",
        "ax.set_xlabel(r'Epoch', fontsize=20)\n",
        "ax.set_ylabel(r'Accuracy', fontsize=20)\n",
        "ax.legend()\n",
        "ax.tick_params(labelsize=20)"
      ],
      "execution_count": 78,
      "outputs": [
        {
          "output_type": "display_data",
          "data": {
            "image/png": "[encoded data removed]",
            "text/plain": [
              "<Figure size 720x432 with 1 Axes>"
            ]
          },
          "metadata": {
            "tags": []
          }
        },
        {
          "output_type": "display_data",
          "data": {
            "image/png": "[encoded data removed]",
            "text/plain": [
              "<Figure size 720x432 with 1 Axes>"
            ]
          },
          "metadata": {
            "tags": []
          }
        }
      ]
    }
  ]
}