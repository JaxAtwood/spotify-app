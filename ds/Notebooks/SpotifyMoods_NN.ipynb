{
  "nbformat": 4,
  "nbformat_minor": 0,
  "metadata": {
    "colab": {
      "name": "SpotifyMoods_NN.ipynb",
      "provenance": [],
      "collapsed_sections": []
    },
    "kernelspec": {
      "name": "python3",
      "display_name": "Python 3"
    },
    "accelerator": "GPU"
  },
  "cells": [
    {
      "cell_type": "code",
      "metadata": {
        "id": "Xd6cgX-TTUV_",
        "colab_type": "code",
        "colab": {}
      },
      "source": [
        "# imports.\n",
        "import pandas as pd\n",
        "import numpy as np\n",
        "from tensorflow.keras.preprocessing import sequence\n",
        "from tensorflow.keras.models import Sequential\n",
        "from tensorflow.keras.layers import Dense, Dropout\n",
        "from tensorflow.keras.utils import to_categorical\n",
        "from tensorflow.keras.metrics import top_k_categorical_accuracy\n",
        "from sklearn.preprocessing import StandardScaler\n",
        "from sklearn.model_selection import GridSearchCV\n",
        "from tensorflow.keras.wrappers.scikit_learn import KerasClassifier\n",
        "from tensorflow.keras.optimizers import SGD\n",
        "import matplotlib.pyplot as plt"
      ],
      "execution_count": 0,
      "outputs": []
    },
    {
      "cell_type": "code",
      "metadata": {
        "id": "qlzbek8D6VTv",
        "colab_type": "code",
        "outputId": "38d04593-d896-4f68-c018-e6904a3326f1",
        "colab": {
          "base_uri": "https://localhost:8080/",
          "height": 324
        }
      },
      "source": [
        "# read in the data.\n",
        "df = pd.read_csv('https://raw.githubusercontent.com/spotify-song-suggester-1/spotify-app/master/ds/Data/Spotify_MoodsData.csv', index_col=0)\n",
        "print(df.shape)\n",
        "df.head()"
      ],
      "execution_count": 61,
      "outputs": [
        {
          "output_type": "stream",
          "text": [
            "(16, 21)\n"
          ],
          "name": "stdout"
        },
        {
          "output_type": "execute_result",
          "data": {
            "text/html": [
              "<div>\n",
              "<style scoped>\n",
              "    .dataframe tbody tr th:only-of-type {\n",
              "        vertical-align: middle;\n",
              "    }\n",
              "\n",
              "    .dataframe tbody tr th {\n",
              "        vertical-align: top;\n",
              "    }\n",
              "\n",
              "    .dataframe thead th {\n",
              "        text-align: right;\n",
              "    }\n",
              "</style>\n",
              "<table border=\"1\" class=\"dataframe\">\n",
              "  <thead>\n",
              "    <tr style=\"text-align: right;\">\n",
              "      <th></th>\n",
              "      <th>artist_name</th>\n",
              "      <th>track_name</th>\n",
              "      <th>track_id</th>\n",
              "      <th>popularity</th>\n",
              "      <th>year</th>\n",
              "      <th>genre</th>\n",
              "      <th>id</th>\n",
              "      <th>acousticness</th>\n",
              "      <th>danceability</th>\n",
              "      <th>duration_ms</th>\n",
              "      <th>energy</th>\n",
              "      <th>instrumentalness</th>\n",
              "      <th>key</th>\n",
              "      <th>liveness</th>\n",
              "      <th>loudness</th>\n",
              "      <th>mode</th>\n",
              "      <th>speechiness</th>\n",
              "      <th>tempo</th>\n",
              "      <th>time_signature</th>\n",
              "      <th>valence</th>\n",
              "      <th>mood</th>\n",
              "    </tr>\n",
              "  </thead>\n",
              "  <tbody>\n",
              "    <tr>\n",
              "      <th>48618</th>\n",
              "      <td>Rise Against</td>\n",
              "      <td>Like the Angel</td>\n",
              "      <td>4t2rjxCXIJnBmRBkXJOYa5</td>\n",
              "      <td>48</td>\n",
              "      <td>2013</td>\n",
              "      <td>grunge</td>\n",
              "      <td>80061</td>\n",
              "      <td>0.000747</td>\n",
              "      <td>0.512</td>\n",
              "      <td>166880</td>\n",
              "      <td>0.976</td>\n",
              "      <td>0.000025</td>\n",
              "      <td>10</td>\n",
              "      <td>0.2150</td>\n",
              "      <td>-3.092</td>\n",
              "      <td>0</td>\n",
              "      <td>0.0861</td>\n",
              "      <td>95.465</td>\n",
              "      <td>4</td>\n",
              "      <td>0.428</td>\n",
              "      <td>Excited</td>\n",
              "    </tr>\n",
              "    <tr>\n",
              "      <th>55603</th>\n",
              "      <td>Mac Miller</td>\n",
              "      <td>BDE (Best Day Ever) - Live</td>\n",
              "      <td>504jTZvXdP8YYVtd19rfuX</td>\n",
              "      <td>40</td>\n",
              "      <td>2013</td>\n",
              "      <td>rap</td>\n",
              "      <td>92664</td>\n",
              "      <td>0.008290</td>\n",
              "      <td>0.434</td>\n",
              "      <td>321960</td>\n",
              "      <td>0.862</td>\n",
              "      <td>0.000052</td>\n",
              "      <td>2</td>\n",
              "      <td>0.9460</td>\n",
              "      <td>-9.589</td>\n",
              "      <td>1</td>\n",
              "      <td>0.1020</td>\n",
              "      <td>96.205</td>\n",
              "      <td>4</td>\n",
              "      <td>0.262</td>\n",
              "      <td>Happy</td>\n",
              "    </tr>\n",
              "    <tr>\n",
              "      <th>68155</th>\n",
              "      <td>Justin Bieber</td>\n",
              "      <td>All That Matters</td>\n",
              "      <td>70XP39KE8vTgxtRXcwfxJA</td>\n",
              "      <td>59</td>\n",
              "      <td>2014</td>\n",
              "      <td>pop</td>\n",
              "      <td>111926</td>\n",
              "      <td>0.005080</td>\n",
              "      <td>0.696</td>\n",
              "      <td>191173</td>\n",
              "      <td>0.513</td>\n",
              "      <td>0.000000</td>\n",
              "      <td>6</td>\n",
              "      <td>0.0682</td>\n",
              "      <td>-5.567</td>\n",
              "      <td>0</td>\n",
              "      <td>0.0424</td>\n",
              "      <td>129.859</td>\n",
              "      <td>4</td>\n",
              "      <td>0.144</td>\n",
              "      <td>Motivated</td>\n",
              "    </tr>\n",
              "    <tr>\n",
              "      <th>73129</th>\n",
              "      <td>Zac Brown Band</td>\n",
              "      <td>Castaway</td>\n",
              "      <td>5PNcJn4oFNvlRfrZBHfqWh</td>\n",
              "      <td>58</td>\n",
              "      <td>2015</td>\n",
              "      <td>country</td>\n",
              "      <td>121789</td>\n",
              "      <td>0.149000</td>\n",
              "      <td>0.611</td>\n",
              "      <td>188053</td>\n",
              "      <td>0.782</td>\n",
              "      <td>0.000000</td>\n",
              "      <td>8</td>\n",
              "      <td>0.1150</td>\n",
              "      <td>-4.989</td>\n",
              "      <td>1</td>\n",
              "      <td>0.0475</td>\n",
              "      <td>101.313</td>\n",
              "      <td>4</td>\n",
              "      <td>0.915</td>\n",
              "      <td>Happy</td>\n",
              "    </tr>\n",
              "    <tr>\n",
              "      <th>74887</th>\n",
              "      <td>Fifth Harmony</td>\n",
              "      <td>Worth It</td>\n",
              "      <td>41Fflg7qHiVOD6dEPvsCzO</td>\n",
              "      <td>73</td>\n",
              "      <td>2015</td>\n",
              "      <td>dance</td>\n",
              "      <td>123771</td>\n",
              "      <td>0.063000</td>\n",
              "      <td>0.884</td>\n",
              "      <td>224573</td>\n",
              "      <td>0.765</td>\n",
              "      <td>0.000007</td>\n",
              "      <td>8</td>\n",
              "      <td>0.1180</td>\n",
              "      <td>-3.865</td>\n",
              "      <td>1</td>\n",
              "      <td>0.0882</td>\n",
              "      <td>99.987</td>\n",
              "      <td>4</td>\n",
              "      <td>0.594</td>\n",
              "      <td>Im a boss</td>\n",
              "    </tr>\n",
              "  </tbody>\n",
              "</table>\n",
              "</div>"
            ],
            "text/plain": [
              "          artist_name                  track_name  ... valence       mood\n",
              "48618    Rise Against              Like the Angel  ...   0.428    Excited\n",
              "55603      Mac Miller  BDE (Best Day Ever) - Live  ...   0.262      Happy\n",
              "68155   Justin Bieber            All That Matters  ...   0.144  Motivated\n",
              "73129  Zac Brown Band                    Castaway  ...   0.915      Happy\n",
              "74887   Fifth Harmony                    Worth It  ...   0.594  Im a boss\n",
              "\n",
              "[5 rows x 21 columns]"
            ]
          },
          "metadata": {
            "tags": []
          },
          "execution_count": 61
        }
      ]
    },
    {
      "cell_type": "code",
      "metadata": {
        "id": "dB6e8SeeUdPs",
        "colab_type": "code",
        "colab": {
          "base_uri": "https://localhost:8080/",
          "height": 247
        },
        "outputId": "c7292826-0913-47a1-84e7-4430d935c9fb"
      },
      "source": [
        "# new data frame with encoded genre column.\n",
        "moodframe = pd.concat([df,pd.get_dummies(df['mood'], prefix='mood')],axis=1)\n",
        "# show only the audio features.\n",
        "moodframe.iloc[0,7:20]"
      ],
      "execution_count": 62,
      "outputs": [
        {
          "output_type": "execute_result",
          "data": {
            "text/plain": [
              "acousticness        0.000747\n",
              "danceability           0.512\n",
              "duration_ms           166880\n",
              "energy                 0.976\n",
              "instrumentalness    2.52e-05\n",
              "key                       10\n",
              "liveness               0.215\n",
              "loudness              -3.092\n",
              "mode                       0\n",
              "speechiness           0.0861\n",
              "tempo                 95.465\n",
              "time_signature             4\n",
              "valence                0.428\n",
              "Name: 48618, dtype: object"
            ]
          },
          "metadata": {
            "tags": []
          },
          "execution_count": 62
        }
      ]
    },
    {
      "cell_type": "code",
      "metadata": {
        "id": "zk4Es9hCuR3t",
        "colab_type": "code",
        "outputId": "baaac7fe-fffe-49a0-f70b-227af15c2fa4",
        "colab": {
          "base_uri": "https://localhost:8080/",
          "height": 33
        }
      },
      "source": [
        "# set the X_train data on the audio features.\n",
        "X_train = moodframe.iloc[:,7:20].to_numpy()\n",
        "# set the standard scalar \n",
        "scaler = StandardScaler()\n",
        "# fit the scalar on the X_train data.\n",
        "X_scaled = scaler.fit_transform(X_train)\n",
        "# show the X_scaled array.\n",
        "print(X_scaled.shape)"
      ],
      "execution_count": 63,
      "outputs": [
        {
          "output_type": "stream",
          "text": [
            "(16, 13)\n"
          ],
          "name": "stdout"
        }
      ]
    },
    {
      "cell_type": "code",
      "metadata": {
        "id": "_PbWsUzpuTFx",
        "colab_type": "code",
        "outputId": "51b5f48c-dd6d-4b95-baca-c2a70899d2da",
        "colab": {
          "base_uri": "https://localhost:8080/",
          "height": 165
        }
      },
      "source": [
        "# create a list of the genres.\n",
        "mood = df.mood.unique().tolist()\n",
        "mood"
      ],
      "execution_count": 64,
      "outputs": [
        {
          "output_type": "execute_result",
          "data": {
            "text/plain": [
              "['Excited',\n",
              " 'Happy',\n",
              " 'Motivated',\n",
              " 'Im a boss',\n",
              " 'Unwind & Relax',\n",
              " 'Mad Energized',\n",
              " 'Calming',\n",
              " 'Head Bobbers',\n",
              " 'Wake Up']"
            ]
          },
          "metadata": {
            "tags": []
          },
          "execution_count": 64
        }
      ]
    },
    {
      "cell_type": "code",
      "metadata": {
        "id": "GnLtgglVuUZO",
        "colab_type": "code",
        "outputId": "838a9f3f-5298-450d-eca3-83721f8bdb55",
        "colab": {
          "base_uri": "https://localhost:8080/",
          "height": 297
        }
      },
      "source": [
        "# set the y_train with onehots.\n",
        "onehots = moodframe.iloc[:,21:]\n",
        "y_train = onehots.to_numpy()\n",
        "# show the array.\n",
        "print(y_train.shape)\n",
        "y_train"
      ],
      "execution_count": 65,
      "outputs": [
        {
          "output_type": "stream",
          "text": [
            "(16, 9)\n"
          ],
          "name": "stdout"
        },
        {
          "output_type": "execute_result",
          "data": {
            "text/plain": [
              "array([[0, 1, 0, 0, 0, 0, 0, 0, 0],\n",
              "       [0, 0, 1, 0, 0, 0, 0, 0, 0],\n",
              "       [0, 0, 0, 0, 0, 0, 1, 0, 0],\n",
              "       [0, 0, 1, 0, 0, 0, 0, 0, 0],\n",
              "       [0, 0, 0, 0, 1, 0, 0, 0, 0],\n",
              "       [0, 0, 1, 0, 0, 0, 0, 0, 0],\n",
              "       [0, 0, 0, 0, 0, 0, 0, 1, 0],\n",
              "       [0, 0, 0, 0, 0, 0, 0, 1, 0],\n",
              "       [0, 0, 0, 0, 0, 0, 0, 1, 0],\n",
              "       [0, 0, 0, 0, 0, 1, 0, 0, 0],\n",
              "       [1, 0, 0, 0, 0, 0, 0, 0, 0],\n",
              "       [1, 0, 0, 0, 0, 0, 0, 0, 0],\n",
              "       [0, 0, 0, 1, 0, 0, 0, 0, 0],\n",
              "       [0, 0, 0, 0, 0, 0, 0, 1, 0],\n",
              "       [0, 0, 0, 0, 0, 0, 0, 0, 1],\n",
              "       [0, 0, 0, 0, 0, 0, 1, 0, 0]], dtype=uint8)"
            ]
          },
          "metadata": {
            "tags": []
          },
          "execution_count": 65
        }
      ]
    },
    {
      "cell_type": "markdown",
      "metadata": {
        "id": "skk9QhEs-pFY",
        "colab_type": "text"
      },
      "source": [
        "### NN Model."
      ]
    },
    {
      "cell_type": "code",
      "metadata": {
        "id": "uMELEwAn-prm",
        "colab_type": "code",
        "colab": {}
      },
      "source": [
        "# function for NN model.\n",
        "def create_model():\n",
        "      # set the model.\n",
        "    model = Sequential()\n",
        "    # hidden layers.\n",
        "    model.add(Dense(144, input_dim=13, kernel_initializer='glorot_normal', activation='relu'))\n",
        "    model.add(Dropout(0.1))\n",
        "    model.add(Dense(72, kernel_initializer='glorot_normal', activation='relu'))\n",
        "    model.add(Dropout(0.1))\n",
        "    model.add(Dense(36, kernel_initializer='glorot_normal', activation='relu'))\n",
        "    model.add(Dropout(0.1))\n",
        "    model.add(Dense(18, kernel_initializer='glorot_normal', activation='relu'))\n",
        "    model.add(Dropout(0.1))\n",
        "    model.add(Dense(9, kernel_initializer='glorot_normal', activation='softmax'))\n",
        "    # function for top 3.\n",
        "    def top_3_accuracy(y_true, y_pred):\n",
        "        return top_k_categorical_accuracy(y_true, y_pred, k=3)\n",
        "\n",
        "    # set the optimizer.\n",
        "    optimizer = SGD(lr=0.0)\n",
        "    # compile the model.\n",
        "    model.compile(loss='categorical_crossentropy',\n",
        "                        optimizer=optimizer,\n",
        "                        metrics=['accuracy'])\n",
        "    return model"
      ],
      "execution_count": 0,
      "outputs": []
    },
    {
      "cell_type": "code",
      "metadata": {
        "id": "j-uccGWk-qdy",
        "colab_type": "code",
        "colab": {}
      },
      "source": [
        "# set the model.\n",
        "model = create_model()\n",
        "# fit the model, create history.\n",
        "history = model.fit(X_scaled, y_train, validation_split=0.2, epochs=500, batch_size=8, verbose=0)"
      ],
      "execution_count": 0,
      "outputs": []
    },
    {
      "cell_type": "code",
      "metadata": {
        "id": "25IItTzh-qh-",
        "colab_type": "code",
        "outputId": "4ee46020-a8fa-4534-8117-8172a6970a3f",
        "colab": {
          "base_uri": "https://localhost:8080/",
          "height": 33
        }
      },
      "source": [
        "# final model accuracy score.\n",
        "scores = model.evaluate(X_scaled, y_train)"
      ],
      "execution_count": 92,
      "outputs": [
        {
          "output_type": "stream",
          "text": [
            "\r16/16 [==============================] - 0s 407us/sample - loss: 2.2421 - acc: 0.1250\n"
          ],
          "name": "stdout"
        }
      ]
    },
    {
      "cell_type": "code",
      "metadata": {
        "id": "b2lC6-7v-qkH",
        "colab_type": "code",
        "outputId": "a54326bd-f6b1-49f1-9472-703fca4e9366",
        "colab": {
          "base_uri": "https://localhost:8080/",
          "height": 795
        }
      },
      "source": [
        "# plot the model loss.\n",
        "fig, ax = plt.subplots(1, 1, figsize=(10,6))\n",
        "ax.plot(np.sqrt(history.history['loss']), 'r', label='train')\n",
        "ax.plot(np.sqrt(history.history['val_loss']), 'b' ,label='val')\n",
        "ax.set_xlabel(r'Epoch', fontsize=20)\n",
        "ax.set_ylabel(r'Loss', fontsize=20)\n",
        "ax.legend()\n",
        "ax.tick_params(labelsize=20)\n",
        "\n",
        "# plot the model accuracy.\n",
        "fig, ax = plt.subplots(1, 1, figsize=(10,6))\n",
        "ax.plot(np.sqrt(history.history['acc']), 'r', label='train')\n",
        "ax.plot(np.sqrt(history.history['val_acc']), 'b' ,label='val')\n",
        "ax.set_xlabel(r'Epoch', fontsize=20)\n",
        "ax.set_ylabel(r'Accuracy', fontsize=20)\n",
        "ax.legend()\n",
        "ax.tick_params(labelsize=20)"
      ],
      "execution_count": 93,
      "outputs": [
        {
          "output_type": "display_data",
          "data": {
            "image/png": "[encoded data removed]",
            "text/plain": [
              "<Figure size 720x432 with 1 Axes>"
            ]
          },
          "metadata": {
            "tags": []
          }
        },
        {
          "output_type": "display_data",
          "data": {
            "image/png": "[encoded data removed]",
            "text/plain": [
              "<Figure size 720x432 with 1 Axes>"
            ]
          },
          "metadata": {
            "tags": []
          }
        }
      ]
    },
    {
      "cell_type": "markdown",
      "metadata": {
        "id": "GXDeK7tbFeiu",
        "colab_type": "text"
      },
      "source": [
        "### Results."
      ]
    },
    {
      "cell_type": "code",
      "metadata": {
        "id": "owlUFzoqh2Ws",
        "colab_type": "code",
        "outputId": "774afd4c-61fd-425c-8d63-9dfbf9ecba67",
        "colab": {
          "base_uri": "https://localhost:8080/",
          "height": 33
        }
      },
      "source": [
        "# get a single observation and all features.\n",
        "obs = moodframe.iloc[12:13,7:20].to_numpy()\n",
        "print(obs.shape)"
      ],
      "execution_count": 94,
      "outputs": [
        {
          "output_type": "stream",
          "text": [
            "(1, 13)\n"
          ],
          "name": "stdout"
        }
      ]
    },
    {
      "cell_type": "code",
      "metadata": {
        "id": "r60EFM1IhbcF",
        "colab_type": "code",
        "outputId": "243a4f50-e322-4ff5-df23-6cd5e0c8e4ab",
        "colab": {
          "base_uri": "https://localhost:8080/",
          "height": 33
        }
      },
      "source": [
        "# use the model to predict the observation.\n",
        "model.predict(obs)"
      ],
      "execution_count": 95,
      "outputs": [
        {
          "output_type": "execute_result",
          "data": {
            "text/plain": [
              "array([[1., 0., 0., 0., 0., 0., 0., 0., 0.]], dtype=float32)"
            ]
          },
          "metadata": {
            "tags": []
          },
          "execution_count": 95
        }
      ]
    },
    {
      "cell_type": "code",
      "metadata": {
        "id": "zOVe_tpkhbmn",
        "colab_type": "code",
        "outputId": "2d7eb23b-40e2-46f7-9d8b-333893b36233",
        "colab": {
          "base_uri": "https://localhost:8080/",
          "height": 49
        }
      },
      "source": [
        "# get the single observation genre.\n",
        "moodframe.iloc[12:13,20]"
      ],
      "execution_count": 96,
      "outputs": [
        {
          "output_type": "execute_result",
          "data": {
            "text/plain": [
              "131059    Head Bobbers\n",
              "Name: mood, dtype: object"
            ]
          },
          "metadata": {
            "tags": []
          },
          "execution_count": 96
        }
      ]
    },
    {
      "cell_type": "code",
      "metadata": {
        "id": "RgmhWNfRhbYq",
        "colab_type": "code",
        "colab": {}
      },
      "source": [
        "# save the model.\n",
        "model.save('mood_NN')"
      ],
      "execution_count": 0,
      "outputs": []
    }
  ]
}