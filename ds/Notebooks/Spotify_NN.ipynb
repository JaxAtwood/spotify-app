{
  "nbformat": 4,
  "nbformat_minor": 0,
  "metadata": {
    "colab": {
      "name": "Spotify_NN.ipynb",
      "provenance": [],
      "collapsed_sections": [],
      "toc_visible": true
    },
    "kernelspec": {
      "name": "python3",
      "display_name": "Python 3"
    },
    "accelerator": "GPU"
  },
  "cells": [
    {
      "cell_type": "code",
      "metadata": {
        "id": "Xd6cgX-TTUV_",
        "colab_type": "code",
        "colab": {}
      },
      "source": [
        "import pandas as pd\n",
        "\n",
        "from tensorflow.keras.preprocessing import sequence\n",
        "from tensorflow.keras.models import Sequential\n",
        "from tensorflow.keras.layers import Dense, Dropout\n",
        "from tensorflow.keras.utils import to_categorical\n",
        "from tensorflow.keras.metrics import top_k_categorical_accuracy\n",
        "\n",
        "from sklearn.preprocessing import StandardScaler"
      ],
      "execution_count": 0,
      "outputs": []
    },
    {
      "cell_type": "code",
      "metadata": {
        "id": "QW-fT6lVT9Tc",
        "colab_type": "code",
        "colab": {}
      },
      "source": [
        "df = pd.read_csv('/content/SpotifyTracks_doubleforloop_genre_year.csv',index_col=[0])"
      ],
      "execution_count": 0,
      "outputs": []
    },
    {
      "cell_type": "code",
      "metadata": {
        "id": "dB6e8SeeUdPs",
        "colab_type": "code",
        "outputId": "7ab2ba69-09ae-46b6-a7c1-af5d1bf2d1c4",
        "colab": {
          "base_uri": "https://localhost:8080/",
          "height": 330
        }
      },
      "source": [
        "df.head()"
      ],
      "execution_count": 106,
      "outputs": [
        {
          "output_type": "execute_result",
          "data": {
            "text/html": [
              "<div>\n",
              "<style scoped>\n",
              "    .dataframe tbody tr th:only-of-type {\n",
              "        vertical-align: middle;\n",
              "    }\n",
              "\n",
              "    .dataframe tbody tr th {\n",
              "        vertical-align: top;\n",
              "    }\n",
              "\n",
              "    .dataframe thead th {\n",
              "        text-align: right;\n",
              "    }\n",
              "</style>\n",
              "<table border=\"1\" class=\"dataframe\">\n",
              "  <thead>\n",
              "    <tr style=\"text-align: right;\">\n",
              "      <th></th>\n",
              "      <th>artist_name</th>\n",
              "      <th>track_name</th>\n",
              "      <th>track_id</th>\n",
              "      <th>popularity</th>\n",
              "      <th>year</th>\n",
              "      <th>genre</th>\n",
              "      <th>id</th>\n",
              "      <th>acousticness</th>\n",
              "      <th>danceability</th>\n",
              "      <th>duration_ms</th>\n",
              "      <th>energy</th>\n",
              "      <th>instrumentalness</th>\n",
              "      <th>key</th>\n",
              "      <th>liveness</th>\n",
              "      <th>loudness</th>\n",
              "      <th>mode</th>\n",
              "      <th>speechiness</th>\n",
              "      <th>tempo</th>\n",
              "      <th>time_signature</th>\n",
              "      <th>valence</th>\n",
              "    </tr>\n",
              "  </thead>\n",
              "  <tbody>\n",
              "    <tr>\n",
              "      <th>0</th>\n",
              "      <td>Gorillaz</td>\n",
              "      <td>On Melancholy Hill</td>\n",
              "      <td>0q6LuUqGLUiCPP1cbdwFs3</td>\n",
              "      <td>75</td>\n",
              "      <td>2010</td>\n",
              "      <td>alternative</td>\n",
              "      <td>0</td>\n",
              "      <td>0.000015</td>\n",
              "      <td>0.689</td>\n",
              "      <td>233867</td>\n",
              "      <td>0.739</td>\n",
              "      <td>0.509000</td>\n",
              "      <td>2</td>\n",
              "      <td>0.0640</td>\n",
              "      <td>-5.810</td>\n",
              "      <td>1</td>\n",
              "      <td>0.0260</td>\n",
              "      <td>120.423</td>\n",
              "      <td>4</td>\n",
              "      <td>0.578</td>\n",
              "    </tr>\n",
              "    <tr>\n",
              "      <th>1</th>\n",
              "      <td>Avenged Sevenfold</td>\n",
              "      <td>Nightmare</td>\n",
              "      <td>4UEo1b0wWrtHMC8bVqPiH8</td>\n",
              "      <td>70</td>\n",
              "      <td>2010</td>\n",
              "      <td>alternative</td>\n",
              "      <td>1</td>\n",
              "      <td>0.000318</td>\n",
              "      <td>0.554</td>\n",
              "      <td>374453</td>\n",
              "      <td>0.949</td>\n",
              "      <td>0.000100</td>\n",
              "      <td>2</td>\n",
              "      <td>0.2000</td>\n",
              "      <td>-4.928</td>\n",
              "      <td>1</td>\n",
              "      <td>0.0787</td>\n",
              "      <td>129.984</td>\n",
              "      <td>4</td>\n",
              "      <td>0.233</td>\n",
              "    </tr>\n",
              "    <tr>\n",
              "      <th>2</th>\n",
              "      <td>The Black Keys</td>\n",
              "      <td>Howlin' for You</td>\n",
              "      <td>0grFc6klR3hxoHLcgCYsF4</td>\n",
              "      <td>66</td>\n",
              "      <td>2010</td>\n",
              "      <td>alternative</td>\n",
              "      <td>2</td>\n",
              "      <td>0.028000</td>\n",
              "      <td>0.705</td>\n",
              "      <td>191800</td>\n",
              "      <td>0.735</td>\n",
              "      <td>0.078300</td>\n",
              "      <td>11</td>\n",
              "      <td>0.1120</td>\n",
              "      <td>-6.646</td>\n",
              "      <td>1</td>\n",
              "      <td>0.0931</td>\n",
              "      <td>132.627</td>\n",
              "      <td>4</td>\n",
              "      <td>0.448</td>\n",
              "    </tr>\n",
              "    <tr>\n",
              "      <th>3</th>\n",
              "      <td>My Darkest Days</td>\n",
              "      <td>Porn Star Dancing</td>\n",
              "      <td>3Q8zopc4ABXhysDb1sgLVW</td>\n",
              "      <td>65</td>\n",
              "      <td>2010</td>\n",
              "      <td>alternative</td>\n",
              "      <td>3</td>\n",
              "      <td>0.013900</td>\n",
              "      <td>0.477</td>\n",
              "      <td>199013</td>\n",
              "      <td>0.917</td>\n",
              "      <td>0.000000</td>\n",
              "      <td>2</td>\n",
              "      <td>0.0756</td>\n",
              "      <td>-3.399</td>\n",
              "      <td>1</td>\n",
              "      <td>0.0837</td>\n",
              "      <td>160.044</td>\n",
              "      <td>4</td>\n",
              "      <td>0.271</td>\n",
              "    </tr>\n",
              "    <tr>\n",
              "      <th>4</th>\n",
              "      <td>Volbeat</td>\n",
              "      <td>A Warrior's Call</td>\n",
              "      <td>0hTiTU0yqthnByyZDD3bcc</td>\n",
              "      <td>62</td>\n",
              "      <td>2010</td>\n",
              "      <td>alternative</td>\n",
              "      <td>4</td>\n",
              "      <td>0.000750</td>\n",
              "      <td>0.374</td>\n",
              "      <td>263080</td>\n",
              "      <td>0.903</td>\n",
              "      <td>0.000006</td>\n",
              "      <td>10</td>\n",
              "      <td>0.2440</td>\n",
              "      <td>-4.490</td>\n",
              "      <td>1</td>\n",
              "      <td>0.0825</td>\n",
              "      <td>109.118</td>\n",
              "      <td>3</td>\n",
              "      <td>0.429</td>\n",
              "    </tr>\n",
              "  </tbody>\n",
              "</table>\n",
              "</div>"
            ],
            "text/plain": [
              "         artist_name          track_name  ... time_signature  valence\n",
              "0           Gorillaz  On Melancholy Hill  ...              4    0.578\n",
              "1  Avenged Sevenfold           Nightmare  ...              4    0.233\n",
              "2     The Black Keys     Howlin' for You  ...              4    0.448\n",
              "3    My Darkest Days   Porn Star Dancing  ...              4    0.271\n",
              "4            Volbeat    A Warrior's Call  ...              3    0.429\n",
              "\n",
              "[5 rows x 20 columns]"
            ]
          },
          "metadata": {
            "tags": []
          },
          "execution_count": 106
        }
      ]
    },
    {
      "cell_type": "markdown",
      "metadata": {
        "id": "F61YF9ENx_k9",
        "colab_type": "text"
      },
      "source": [
        ""
      ]
    },
    {
      "cell_type": "code",
      "metadata": {
        "id": "keviRNo7xz8w",
        "colab_type": "code",
        "colab": {}
      },
      "source": [
        "genreframe = pd.concat([df,pd.get_dummies(df['genre'], prefix='genre')],axis=1)"
      ],
      "execution_count": 0,
      "outputs": []
    },
    {
      "cell_type": "code",
      "metadata": {
        "id": "p7cYOHfLykeM",
        "colab_type": "code",
        "outputId": "27d28114-2b73-4df0-cdae-03cd01017aab",
        "colab": {
          "base_uri": "https://localhost:8080/",
          "height": 330
        }
      },
      "source": [
        "genreframe.head()"
      ],
      "execution_count": 108,
      "outputs": [
        {
          "output_type": "execute_result",
          "data": {
            "text/html": [
              "<div>\n",
              "<style scoped>\n",
              "    .dataframe tbody tr th:only-of-type {\n",
              "        vertical-align: middle;\n",
              "    }\n",
              "\n",
              "    .dataframe tbody tr th {\n",
              "        vertical-align: top;\n",
              "    }\n",
              "\n",
              "    .dataframe thead th {\n",
              "        text-align: right;\n",
              "    }\n",
              "</style>\n",
              "<table border=\"1\" class=\"dataframe\">\n",
              "  <thead>\n",
              "    <tr style=\"text-align: right;\">\n",
              "      <th></th>\n",
              "      <th>artist_name</th>\n",
              "      <th>track_name</th>\n",
              "      <th>track_id</th>\n",
              "      <th>popularity</th>\n",
              "      <th>year</th>\n",
              "      <th>genre</th>\n",
              "      <th>id</th>\n",
              "      <th>acousticness</th>\n",
              "      <th>danceability</th>\n",
              "      <th>duration_ms</th>\n",
              "      <th>energy</th>\n",
              "      <th>instrumentalness</th>\n",
              "      <th>key</th>\n",
              "      <th>liveness</th>\n",
              "      <th>loudness</th>\n",
              "      <th>mode</th>\n",
              "      <th>speechiness</th>\n",
              "      <th>tempo</th>\n",
              "      <th>time_signature</th>\n",
              "      <th>valence</th>\n",
              "      <th>genre_alternative</th>\n",
              "      <th>genre_country</th>\n",
              "      <th>genre_dance</th>\n",
              "      <th>genre_folk</th>\n",
              "      <th>genre_grunge</th>\n",
              "      <th>genre_indie</th>\n",
              "      <th>genre_jazz</th>\n",
              "      <th>genre_metal</th>\n",
              "      <th>genre_pop</th>\n",
              "      <th>genre_punk</th>\n",
              "      <th>genre_rap</th>\n",
              "      <th>genre_rock</th>\n",
              "    </tr>\n",
              "  </thead>\n",
              "  <tbody>\n",
              "    <tr>\n",
              "      <th>0</th>\n",
              "      <td>Gorillaz</td>\n",
              "      <td>On Melancholy Hill</td>\n",
              "      <td>0q6LuUqGLUiCPP1cbdwFs3</td>\n",
              "      <td>75</td>\n",
              "      <td>2010</td>\n",
              "      <td>alternative</td>\n",
              "      <td>0</td>\n",
              "      <td>0.000015</td>\n",
              "      <td>0.689</td>\n",
              "      <td>233867</td>\n",
              "      <td>0.739</td>\n",
              "      <td>0.509000</td>\n",
              "      <td>2</td>\n",
              "      <td>0.0640</td>\n",
              "      <td>-5.810</td>\n",
              "      <td>1</td>\n",
              "      <td>0.0260</td>\n",
              "      <td>120.423</td>\n",
              "      <td>4</td>\n",
              "      <td>0.578</td>\n",
              "      <td>1</td>\n",
              "      <td>0</td>\n",
              "      <td>0</td>\n",
              "      <td>0</td>\n",
              "      <td>0</td>\n",
              "      <td>0</td>\n",
              "      <td>0</td>\n",
              "      <td>0</td>\n",
              "      <td>0</td>\n",
              "      <td>0</td>\n",
              "      <td>0</td>\n",
              "      <td>0</td>\n",
              "    </tr>\n",
              "    <tr>\n",
              "      <th>1</th>\n",
              "      <td>Avenged Sevenfold</td>\n",
              "      <td>Nightmare</td>\n",
              "      <td>4UEo1b0wWrtHMC8bVqPiH8</td>\n",
              "      <td>70</td>\n",
              "      <td>2010</td>\n",
              "      <td>alternative</td>\n",
              "      <td>1</td>\n",
              "      <td>0.000318</td>\n",
              "      <td>0.554</td>\n",
              "      <td>374453</td>\n",
              "      <td>0.949</td>\n",
              "      <td>0.000100</td>\n",
              "      <td>2</td>\n",
              "      <td>0.2000</td>\n",
              "      <td>-4.928</td>\n",
              "      <td>1</td>\n",
              "      <td>0.0787</td>\n",
              "      <td>129.984</td>\n",
              "      <td>4</td>\n",
              "      <td>0.233</td>\n",
              "      <td>1</td>\n",
              "      <td>0</td>\n",
              "      <td>0</td>\n",
              "      <td>0</td>\n",
              "      <td>0</td>\n",
              "      <td>0</td>\n",
              "      <td>0</td>\n",
              "      <td>0</td>\n",
              "      <td>0</td>\n",
              "      <td>0</td>\n",
              "      <td>0</td>\n",
              "      <td>0</td>\n",
              "    </tr>\n",
              "    <tr>\n",
              "      <th>2</th>\n",
              "      <td>The Black Keys</td>\n",
              "      <td>Howlin' for You</td>\n",
              "      <td>0grFc6klR3hxoHLcgCYsF4</td>\n",
              "      <td>66</td>\n",
              "      <td>2010</td>\n",
              "      <td>alternative</td>\n",
              "      <td>2</td>\n",
              "      <td>0.028000</td>\n",
              "      <td>0.705</td>\n",
              "      <td>191800</td>\n",
              "      <td>0.735</td>\n",
              "      <td>0.078300</td>\n",
              "      <td>11</td>\n",
              "      <td>0.1120</td>\n",
              "      <td>-6.646</td>\n",
              "      <td>1</td>\n",
              "      <td>0.0931</td>\n",
              "      <td>132.627</td>\n",
              "      <td>4</td>\n",
              "      <td>0.448</td>\n",
              "      <td>1</td>\n",
              "      <td>0</td>\n",
              "      <td>0</td>\n",
              "      <td>0</td>\n",
              "      <td>0</td>\n",
              "      <td>0</td>\n",
              "      <td>0</td>\n",
              "      <td>0</td>\n",
              "      <td>0</td>\n",
              "      <td>0</td>\n",
              "      <td>0</td>\n",
              "      <td>0</td>\n",
              "    </tr>\n",
              "    <tr>\n",
              "      <th>3</th>\n",
              "      <td>My Darkest Days</td>\n",
              "      <td>Porn Star Dancing</td>\n",
              "      <td>3Q8zopc4ABXhysDb1sgLVW</td>\n",
              "      <td>65</td>\n",
              "      <td>2010</td>\n",
              "      <td>alternative</td>\n",
              "      <td>3</td>\n",
              "      <td>0.013900</td>\n",
              "      <td>0.477</td>\n",
              "      <td>199013</td>\n",
              "      <td>0.917</td>\n",
              "      <td>0.000000</td>\n",
              "      <td>2</td>\n",
              "      <td>0.0756</td>\n",
              "      <td>-3.399</td>\n",
              "      <td>1</td>\n",
              "      <td>0.0837</td>\n",
              "      <td>160.044</td>\n",
              "      <td>4</td>\n",
              "      <td>0.271</td>\n",
              "      <td>1</td>\n",
              "      <td>0</td>\n",
              "      <td>0</td>\n",
              "      <td>0</td>\n",
              "      <td>0</td>\n",
              "      <td>0</td>\n",
              "      <td>0</td>\n",
              "      <td>0</td>\n",
              "      <td>0</td>\n",
              "      <td>0</td>\n",
              "      <td>0</td>\n",
              "      <td>0</td>\n",
              "    </tr>\n",
              "    <tr>\n",
              "      <th>4</th>\n",
              "      <td>Volbeat</td>\n",
              "      <td>A Warrior's Call</td>\n",
              "      <td>0hTiTU0yqthnByyZDD3bcc</td>\n",
              "      <td>62</td>\n",
              "      <td>2010</td>\n",
              "      <td>alternative</td>\n",
              "      <td>4</td>\n",
              "      <td>0.000750</td>\n",
              "      <td>0.374</td>\n",
              "      <td>263080</td>\n",
              "      <td>0.903</td>\n",
              "      <td>0.000006</td>\n",
              "      <td>10</td>\n",
              "      <td>0.2440</td>\n",
              "      <td>-4.490</td>\n",
              "      <td>1</td>\n",
              "      <td>0.0825</td>\n",
              "      <td>109.118</td>\n",
              "      <td>3</td>\n",
              "      <td>0.429</td>\n",
              "      <td>1</td>\n",
              "      <td>0</td>\n",
              "      <td>0</td>\n",
              "      <td>0</td>\n",
              "      <td>0</td>\n",
              "      <td>0</td>\n",
              "      <td>0</td>\n",
              "      <td>0</td>\n",
              "      <td>0</td>\n",
              "      <td>0</td>\n",
              "      <td>0</td>\n",
              "      <td>0</td>\n",
              "    </tr>\n",
              "  </tbody>\n",
              "</table>\n",
              "</div>"
            ],
            "text/plain": [
              "         artist_name          track_name  ... genre_rap  genre_rock\n",
              "0           Gorillaz  On Melancholy Hill  ...         0           0\n",
              "1  Avenged Sevenfold           Nightmare  ...         0           0\n",
              "2     The Black Keys     Howlin' for You  ...         0           0\n",
              "3    My Darkest Days   Porn Star Dancing  ...         0           0\n",
              "4            Volbeat    A Warrior's Call  ...         0           0\n",
              "\n",
              "[5 rows x 32 columns]"
            ]
          },
          "metadata": {
            "tags": []
          },
          "execution_count": 108
        }
      ]
    },
    {
      "cell_type": "code",
      "metadata": {
        "id": "OLXpKFMn21FC",
        "colab_type": "code",
        "outputId": "63ef780b-f689-4e87-8443-d0788bb5e96b",
        "colab": {
          "base_uri": "https://localhost:8080/",
          "height": 280
        }
      },
      "source": [
        "genreframe.iloc[0,7:20]"
      ],
      "execution_count": 109,
      "outputs": [
        {
          "output_type": "execute_result",
          "data": {
            "text/plain": [
              "acousticness        1.51e-05\n",
              "danceability           0.689\n",
              "duration_ms           233867\n",
              "energy                 0.739\n",
              "instrumentalness       0.509\n",
              "key                        2\n",
              "liveness               0.064\n",
              "loudness               -5.81\n",
              "mode                       1\n",
              "speechiness            0.026\n",
              "tempo                120.423\n",
              "time_signature             4\n",
              "valence                0.578\n",
              "Name: 0, dtype: object"
            ]
          },
          "metadata": {
            "tags": []
          },
          "execution_count": 109
        }
      ]
    },
    {
      "cell_type": "code",
      "metadata": {
        "id": "7XxUNwzqq2sk",
        "colab_type": "code",
        "outputId": "8b03dbea-7661-4e03-dd38-64a6a4cd9279",
        "colab": {
          "base_uri": "https://localhost:8080/",
          "height": 261
        }
      },
      "source": [
        "X_train = genreframe.iloc[:,7:20].to_numpy()\n",
        "scaler = StandardScaler()\n",
        "X_scaled = scaler.fit_transform(X_train)\n",
        "X_scaled"
      ],
      "execution_count": 110,
      "outputs": [
        {
          "output_type": "execute_result",
          "data": {
            "text/plain": [
              "array([[-0.81353437,  0.86273319,  0.01422737, ..., -0.07457545,\n",
              "         0.21919423,  0.52020022],\n",
              "       [-0.81253793,  0.02764277,  1.61395879, ...,  0.24680209,\n",
              "         0.21919423, -0.95936143],\n",
              "       [-0.72147348,  0.96170687, -0.46445403, ...,  0.33564226,\n",
              "         0.21919423, -0.03731576],\n",
              "       ...,\n",
              "       [ 0.35424623,  1.02975127,  0.17080273, ..., -0.0196848 ,\n",
              "         0.21919423,  1.42080297],\n",
              "       [-0.80624809, -0.62187201, -1.57989421, ..., -1.07440547,\n",
              "         0.21919423,  1.22781667],\n",
              "       [-0.42211418,  1.23388449, -0.24267685, ..., -0.99696024,\n",
              "         0.21919423, -0.50048289]])"
            ]
          },
          "metadata": {
            "tags": []
          },
          "execution_count": 110
        }
      ]
    },
    {
      "cell_type": "code",
      "metadata": {
        "id": "iRCoXukYv3bI",
        "colab_type": "code",
        "outputId": "46dc4451-ef2d-41e6-eb0f-8efe9d569829",
        "colab": {
          "base_uri": "https://localhost:8080/",
          "height": 242
        }
      },
      "source": [
        "genres = genreframe.genre.unique().tolist()\n",
        "genres"
      ],
      "execution_count": 111,
      "outputs": [
        {
          "output_type": "execute_result",
          "data": {
            "text/plain": [
              "['alternative',\n",
              " 'country',\n",
              " 'dance',\n",
              " 'folk',\n",
              " 'grunge',\n",
              " 'indie',\n",
              " 'jazz',\n",
              " 'metal',\n",
              " 'pop',\n",
              " 'punk',\n",
              " 'rap',\n",
              " 'rock']"
            ]
          },
          "metadata": {
            "tags": []
          },
          "execution_count": 111
        }
      ]
    },
    {
      "cell_type": "code",
      "metadata": {
        "id": "fohOUtlQs-0H",
        "colab_type": "code",
        "outputId": "9f29893e-67bd-464d-caf9-11ede816fa4f",
        "colab": {
          "base_uri": "https://localhost:8080/",
          "height": 36
        }
      },
      "source": [
        "onehots = genreframe.iloc[:,20:]\n",
        "y_train = onehots.to_numpy()\n",
        "y_train.shape"
      ],
      "execution_count": 112,
      "outputs": [
        {
          "output_type": "execute_result",
          "data": {
            "text/plain": [
              "(164449, 12)"
            ]
          },
          "metadata": {
            "tags": []
          },
          "execution_count": 112
        }
      ]
    },
    {
      "cell_type": "code",
      "metadata": {
        "id": "pPCKgqUStXrm",
        "colab_type": "code",
        "outputId": "fa2f4bcf-03af-41f8-c344-3938cb8f7567",
        "colab": {
          "base_uri": "https://localhost:8080/",
          "height": 36
        }
      },
      "source": [
        "y_train.shape"
      ],
      "execution_count": 113,
      "outputs": [
        {
          "output_type": "execute_result",
          "data": {
            "text/plain": [
              "(164449, 12)"
            ]
          },
          "metadata": {
            "tags": []
          },
          "execution_count": 113
        }
      ]
    },
    {
      "cell_type": "code",
      "metadata": {
        "id": "_XFBrQTyUejP",
        "colab_type": "code",
        "outputId": "5c039464-6206-4f0f-c3f5-94273b2c0e08",
        "colab": {
          "base_uri": "https://localhost:8080/",
          "height": 430
        }
      },
      "source": [
        "model = Sequential()\n",
        "\n",
        "# Input => Hidden\n",
        "model.add(Dense(26, input_dim=13, activation='relu'))\n",
        "# Hidden\n",
        "model.add(Dropout(0.2))\n",
        "# Hidden\n",
        "model.add(Dense(26, activation='relu'))\n",
        "# Hidden\n",
        "model.add(Dropout(0.2))\n",
        "# Hidden\n",
        "model.add(Dense(26, activation='relu'))\n",
        "# Hidden\n",
        "model.add(Dropout(0.2))\n",
        "# Output\n",
        "model.add(Dense(12,activation='softmax'))\n",
        "\n",
        "def top_3_accuracy(y_true, y_pred):\n",
        "    return top_k_categorical_accuracy(y_true, y_pred, k=3)\n",
        "\n",
        "#Compile\n",
        "model.compile(loss='categorical_crossentropy',\n",
        "                    optimizer='adam',\n",
        "                    metrics=['accuracy'])\n",
        "\n",
        "model.summary()"
      ],
      "execution_count": 114,
      "outputs": [
        {
          "output_type": "stream",
          "text": [
            "Model: \"sequential_11\"\n",
            "_________________________________________________________________\n",
            "Layer (type)                 Output Shape              Param #   \n",
            "=================================================================\n",
            "dense_53 (Dense)             (None, 26)                364       \n",
            "_________________________________________________________________\n",
            "dropout_42 (Dropout)         (None, 26)                0         \n",
            "_________________________________________________________________\n",
            "dense_54 (Dense)             (None, 26)                702       \n",
            "_________________________________________________________________\n",
            "dropout_43 (Dropout)         (None, 26)                0         \n",
            "_________________________________________________________________\n",
            "dense_55 (Dense)             (None, 26)                702       \n",
            "_________________________________________________________________\n",
            "dropout_44 (Dropout)         (None, 26)                0         \n",
            "_________________________________________________________________\n",
            "dense_56 (Dense)             (None, 12)                324       \n",
            "=================================================================\n",
            "Total params: 2,092\n",
            "Trainable params: 2,092\n",
            "Non-trainable params: 0\n",
            "_________________________________________________________________\n"
          ],
          "name": "stdout"
        }
      ]
    },
    {
      "cell_type": "code",
      "metadata": {
        "id": "QwtWcgPxtjQP",
        "colab_type": "code",
        "outputId": "2868d857-1e61-49a2-a363-8133834fb432",
        "colab": {
          "base_uri": "https://localhost:8080/",
          "height": 1000
        }
      },
      "source": [
        "# Fit the model\n",
        "history = model.fit(X_scaled, y_train, validation_split=0.2, epochs=50, batch_size=1000)"
      ],
      "execution_count": 115,
      "outputs": [
        {
          "output_type": "stream",
          "text": [
            "Train on 131559 samples, validate on 32890 samples\n",
            "Epoch 1/50\n",
            "131559/131559 [==============================] - 1s 8us/sample - loss: 2.3608 - acc: 0.1520 - val_loss: 2.1331 - val_acc: 0.2463\n",
            "Epoch 2/50\n",
            "131559/131559 [==============================] - 1s 4us/sample - loss: 2.1149 - acc: 0.2614 - val_loss: 1.9700 - val_acc: 0.3562\n",
            "Epoch 3/50\n",
            "131559/131559 [==============================] - 1s 4us/sample - loss: 2.0443 - acc: 0.2930 - val_loss: 1.9370 - val_acc: 0.3648\n",
            "Epoch 4/50\n",
            "131559/131559 [==============================] - 1s 4us/sample - loss: 2.0169 - acc: 0.3048 - val_loss: 1.9232 - val_acc: 0.3676\n",
            "Epoch 5/50\n",
            "131559/131559 [==============================] - 1s 4us/sample - loss: 2.0009 - acc: 0.3097 - val_loss: 1.9151 - val_acc: 0.3714\n",
            "Epoch 6/50\n",
            "131559/131559 [==============================] - 1s 4us/sample - loss: 1.9895 - acc: 0.3146 - val_loss: 1.9086 - val_acc: 0.3724\n",
            "Epoch 7/50\n",
            "131559/131559 [==============================] - 1s 4us/sample - loss: 1.9819 - acc: 0.3176 - val_loss: 1.9077 - val_acc: 0.3733\n",
            "Epoch 8/50\n",
            "131559/131559 [==============================] - 1s 4us/sample - loss: 1.9746 - acc: 0.3203 - val_loss: 1.9037 - val_acc: 0.3746\n",
            "Epoch 9/50\n",
            "131559/131559 [==============================] - 1s 4us/sample - loss: 1.9699 - acc: 0.3220 - val_loss: 1.8966 - val_acc: 0.3777\n",
            "Epoch 10/50\n",
            "131559/131559 [==============================] - 1s 4us/sample - loss: 1.9652 - acc: 0.3235 - val_loss: 1.8948 - val_acc: 0.3769\n",
            "Epoch 11/50\n",
            "131559/131559 [==============================] - 1s 4us/sample - loss: 1.9594 - acc: 0.3244 - val_loss: 1.8913 - val_acc: 0.3795\n",
            "Epoch 12/50\n",
            "131559/131559 [==============================] - 1s 4us/sample - loss: 1.9576 - acc: 0.3265 - val_loss: 1.8892 - val_acc: 0.3791\n",
            "Epoch 13/50\n",
            "131559/131559 [==============================] - 1s 4us/sample - loss: 1.9552 - acc: 0.3278 - val_loss: 1.8835 - val_acc: 0.3798\n",
            "Epoch 14/50\n",
            "131559/131559 [==============================] - 1s 5us/sample - loss: 1.9503 - acc: 0.3294 - val_loss: 1.8852 - val_acc: 0.3801\n",
            "Epoch 15/50\n",
            "131559/131559 [==============================] - 1s 4us/sample - loss: 1.9472 - acc: 0.3302 - val_loss: 1.8830 - val_acc: 0.3800\n",
            "Epoch 16/50\n",
            "131559/131559 [==============================] - 1s 4us/sample - loss: 1.9478 - acc: 0.3289 - val_loss: 1.8837 - val_acc: 0.3804\n",
            "Epoch 17/50\n",
            "131559/131559 [==============================] - 1s 5us/sample - loss: 1.9438 - acc: 0.3326 - val_loss: 1.8803 - val_acc: 0.3802\n",
            "Epoch 18/50\n",
            "131559/131559 [==============================] - 1s 4us/sample - loss: 1.9421 - acc: 0.3314 - val_loss: 1.8789 - val_acc: 0.3815\n",
            "Epoch 19/50\n",
            "131559/131559 [==============================] - 1s 5us/sample - loss: 1.9393 - acc: 0.3324 - val_loss: 1.8827 - val_acc: 0.3811\n",
            "Epoch 20/50\n",
            "131559/131559 [==============================] - 1s 5us/sample - loss: 1.9375 - acc: 0.3330 - val_loss: 1.8723 - val_acc: 0.3831\n",
            "Epoch 21/50\n",
            "131559/131559 [==============================] - 1s 4us/sample - loss: 1.9384 - acc: 0.3344 - val_loss: 1.8745 - val_acc: 0.3829\n",
            "Epoch 22/50\n",
            "131559/131559 [==============================] - 1s 5us/sample - loss: 1.9358 - acc: 0.3343 - val_loss: 1.8684 - val_acc: 0.3852\n",
            "Epoch 23/50\n",
            "131559/131559 [==============================] - 1s 4us/sample - loss: 1.9338 - acc: 0.3352 - val_loss: 1.8765 - val_acc: 0.3826\n",
            "Epoch 24/50\n",
            "131559/131559 [==============================] - 1s 5us/sample - loss: 1.9324 - acc: 0.3359 - val_loss: 1.8755 - val_acc: 0.3807\n",
            "Epoch 25/50\n",
            "131559/131559 [==============================] - 1s 5us/sample - loss: 1.9297 - acc: 0.3379 - val_loss: 1.8723 - val_acc: 0.3828\n",
            "Epoch 26/50\n",
            "131559/131559 [==============================] - 1s 5us/sample - loss: 1.9291 - acc: 0.3366 - val_loss: 1.8698 - val_acc: 0.3828\n",
            "Epoch 27/50\n",
            "131559/131559 [==============================] - 1s 5us/sample - loss: 1.9289 - acc: 0.3368 - val_loss: 1.8673 - val_acc: 0.3830\n",
            "Epoch 28/50\n",
            "131559/131559 [==============================] - 1s 5us/sample - loss: 1.9279 - acc: 0.3367 - val_loss: 1.8704 - val_acc: 0.3833\n",
            "Epoch 29/50\n",
            "131559/131559 [==============================] - 1s 5us/sample - loss: 1.9274 - acc: 0.3364 - val_loss: 1.8658 - val_acc: 0.3843\n",
            "Epoch 30/50\n",
            "131559/131559 [==============================] - 1s 5us/sample - loss: 1.9274 - acc: 0.3379 - val_loss: 1.8687 - val_acc: 0.3827\n",
            "Epoch 31/50\n",
            "131559/131559 [==============================] - 1s 4us/sample - loss: 1.9251 - acc: 0.3383 - val_loss: 1.8644 - val_acc: 0.3847\n",
            "Epoch 32/50\n",
            "131559/131559 [==============================] - 1s 5us/sample - loss: 1.9236 - acc: 0.3385 - val_loss: 1.8668 - val_acc: 0.3839\n",
            "Epoch 33/50\n",
            "131559/131559 [==============================] - 1s 5us/sample - loss: 1.9247 - acc: 0.3385 - val_loss: 1.8677 - val_acc: 0.3830\n",
            "Epoch 34/50\n",
            "131559/131559 [==============================] - 1s 5us/sample - loss: 1.9231 - acc: 0.3401 - val_loss: 1.8658 - val_acc: 0.3828\n",
            "Epoch 35/50\n",
            "131559/131559 [==============================] - 1s 4us/sample - loss: 1.9221 - acc: 0.3394 - val_loss: 1.8668 - val_acc: 0.3834\n",
            "Epoch 36/50\n",
            "131559/131559 [==============================] - 1s 4us/sample - loss: 1.9219 - acc: 0.3395 - val_loss: 1.8631 - val_acc: 0.3853\n",
            "Epoch 37/50\n",
            "131559/131559 [==============================] - 1s 4us/sample - loss: 1.9220 - acc: 0.3388 - val_loss: 1.8632 - val_acc: 0.3870\n",
            "Epoch 38/50\n",
            "131559/131559 [==============================] - 1s 4us/sample - loss: 1.9209 - acc: 0.3414 - val_loss: 1.8639 - val_acc: 0.3849\n",
            "Epoch 39/50\n",
            "131559/131559 [==============================] - 1s 4us/sample - loss: 1.9207 - acc: 0.3404 - val_loss: 1.8614 - val_acc: 0.3870\n",
            "Epoch 40/50\n",
            "131559/131559 [==============================] - 1s 4us/sample - loss: 1.9212 - acc: 0.3407 - val_loss: 1.8603 - val_acc: 0.3863\n",
            "Epoch 41/50\n",
            "131559/131559 [==============================] - 1s 4us/sample - loss: 1.9195 - acc: 0.3412 - val_loss: 1.8645 - val_acc: 0.3853\n",
            "Epoch 42/50\n",
            "131559/131559 [==============================] - 1s 4us/sample - loss: 1.9190 - acc: 0.3413 - val_loss: 1.8549 - val_acc: 0.3863\n",
            "Epoch 43/50\n",
            "131559/131559 [==============================] - 1s 4us/sample - loss: 1.9154 - acc: 0.3430 - val_loss: 1.8594 - val_acc: 0.3877\n",
            "Epoch 44/50\n",
            "131559/131559 [==============================] - 1s 5us/sample - loss: 1.9159 - acc: 0.3424 - val_loss: 1.8567 - val_acc: 0.3885\n",
            "Epoch 45/50\n",
            "131559/131559 [==============================] - 1s 5us/sample - loss: 1.9170 - acc: 0.3407 - val_loss: 1.8568 - val_acc: 0.3877\n",
            "Epoch 46/50\n",
            "131559/131559 [==============================] - 1s 4us/sample - loss: 1.9173 - acc: 0.3427 - val_loss: 1.8596 - val_acc: 0.3858\n",
            "Epoch 47/50\n",
            "131559/131559 [==============================] - 1s 4us/sample - loss: 1.9148 - acc: 0.3427 - val_loss: 1.8587 - val_acc: 0.3884\n",
            "Epoch 48/50\n",
            "131559/131559 [==============================] - 1s 4us/sample - loss: 1.9159 - acc: 0.3427 - val_loss: 1.8604 - val_acc: 0.3868\n",
            "Epoch 49/50\n",
            "131559/131559 [==============================] - 1s 4us/sample - loss: 1.9165 - acc: 0.3409 - val_loss: 1.8593 - val_acc: 0.3864\n",
            "Epoch 50/50\n",
            "131559/131559 [==============================] - 1s 4us/sample - loss: 1.9131 - acc: 0.3432 - val_loss: 1.8561 - val_acc: 0.3878\n"
          ],
          "name": "stdout"
        }
      ]
    },
    {
      "cell_type": "code",
      "metadata": {
        "id": "owlUFzoqh2Ws",
        "colab_type": "code",
        "outputId": "49b43c82-281e-4c8a-f21b-eefa388eab7b",
        "colab": {
          "base_uri": "https://localhost:8080/",
          "height": 36
        }
      },
      "source": [
        "obs = genreframe.iloc[10000:10001,7:20].to_numpy()\n",
        "obs.shape"
      ],
      "execution_count": 118,
      "outputs": [
        {
          "output_type": "execute_result",
          "data": {
            "text/plain": [
              "(1, 13)"
            ]
          },
          "metadata": {
            "tags": []
          },
          "execution_count": 118
        }
      ]
    },
    {
      "cell_type": "code",
      "metadata": {
        "id": "r60EFM1IhbcF",
        "colab_type": "code",
        "outputId": "3eaed9b9-22b0-4793-f1d9-50eaffbd0b72",
        "colab": {
          "base_uri": "https://localhost:8080/",
          "height": 36
        }
      },
      "source": [
        "model.predict(obs)"
      ],
      "execution_count": 119,
      "outputs": [
        {
          "output_type": "execute_result",
          "data": {
            "text/plain": [
              "array([[0., 0., 0., 0., 0., 0., 1., 0., 0., 0., 0., 0.]], dtype=float32)"
            ]
          },
          "metadata": {
            "tags": []
          },
          "execution_count": 119
        }
      ]
    },
    {
      "cell_type": "code",
      "metadata": {
        "id": "zOVe_tpkhbmn",
        "colab_type": "code",
        "outputId": "64ee7712-66be-4bda-b2e5-4374a7732f59",
        "colab": {
          "base_uri": "https://localhost:8080/",
          "height": 55
        }
      },
      "source": [
        "genreframe.iloc[10000:10001,5]"
      ],
      "execution_count": 121,
      "outputs": [
        {
          "output_type": "execute_result",
          "data": {
            "text/plain": [
              "10000    jazz\n",
              "Name: genre, dtype: object"
            ]
          },
          "metadata": {
            "tags": []
          },
          "execution_count": 121
        }
      ]
    },
    {
      "cell_type": "code",
      "metadata": {
        "id": "RgmhWNfRhbYq",
        "colab_type": "code",
        "colab": {}
      },
      "source": [
        "model.save('genre_NN')"
      ],
      "execution_count": 0,
      "outputs": []
    },
    {
      "cell_type": "code",
      "metadata": {
        "id": "ulPW4OLC1kVf",
        "colab_type": "code",
        "colab": {}
      },
      "source": [
        ""
      ],
      "execution_count": 0,
      "outputs": []
    }
  ]
}