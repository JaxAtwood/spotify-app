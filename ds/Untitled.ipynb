{
 "cells": [
  {
   "cell_type": "code",
   "execution_count": 1,
   "metadata": {},
   "outputs": [],
   "source": [
    "import pandas as pd"
   ]
  },
  {
   "cell_type": "code",
   "execution_count": 22,
   "metadata": {},
   "outputs": [],
   "source": [
    "df = pd.read_csv('./SpotifyTracks_Features_2012.csv')\n",
    "ids = df[['artist_name', 'track_name']]"
   ]
  },
  {
   "cell_type": "code",
   "execution_count": 23,
   "metadata": {},
   "outputs": [
    {
     "data": {
      "text/html": [
       "<div>\n",
       "<style scoped>\n",
       "    .dataframe tbody tr th:only-of-type {\n",
       "        vertical-align: middle;\n",
       "    }\n",
       "\n",
       "    .dataframe tbody tr th {\n",
       "        vertical-align: top;\n",
       "    }\n",
       "\n",
       "    .dataframe thead th {\n",
       "        text-align: right;\n",
       "    }\n",
       "</style>\n",
       "<table border=\"1\" class=\"dataframe\">\n",
       "  <thead>\n",
       "    <tr style=\"text-align: right;\">\n",
       "      <th></th>\n",
       "      <th>Unnamed: 0</th>\n",
       "      <th>artist_name</th>\n",
       "      <th>track_name</th>\n",
       "      <th>track_id</th>\n",
       "      <th>popularity</th>\n",
       "      <th>danceability</th>\n",
       "      <th>energy</th>\n",
       "      <th>key</th>\n",
       "      <th>loudness</th>\n",
       "      <th>mode</th>\n",
       "      <th>speechiness</th>\n",
       "      <th>acousticness</th>\n",
       "      <th>instrumentalness</th>\n",
       "      <th>liveness</th>\n",
       "      <th>valence</th>\n",
       "      <th>tempo</th>\n",
       "      <th>duration_ms</th>\n",
       "      <th>time_signature</th>\n",
       "    </tr>\n",
       "  </thead>\n",
       "  <tbody>\n",
       "    <tr>\n",
       "      <th>0</th>\n",
       "      <td>0</td>\n",
       "      <td>Grouplove</td>\n",
       "      <td>Tongue Tied</td>\n",
       "      <td>0GO8y8jQk1PkHzS31d699N</td>\n",
       "      <td>77</td>\n",
       "      <td>0.560</td>\n",
       "      <td>0.936</td>\n",
       "      <td>3</td>\n",
       "      <td>-5.835</td>\n",
       "      <td>1</td>\n",
       "      <td>0.0439</td>\n",
       "      <td>0.00847</td>\n",
       "      <td>0.000000</td>\n",
       "      <td>0.1610</td>\n",
       "      <td>0.371</td>\n",
       "      <td>112.960</td>\n",
       "      <td>218013</td>\n",
       "      <td>4</td>\n",
       "    </tr>\n",
       "    <tr>\n",
       "      <th>1</th>\n",
       "      <td>1</td>\n",
       "      <td>J. Cole</td>\n",
       "      <td>Work Out</td>\n",
       "      <td>2wAJTrFhCnQyNSD3oUgTZO</td>\n",
       "      <td>77</td>\n",
       "      <td>0.831</td>\n",
       "      <td>0.427</td>\n",
       "      <td>2</td>\n",
       "      <td>-6.903</td>\n",
       "      <td>1</td>\n",
       "      <td>0.1060</td>\n",
       "      <td>0.05310</td>\n",
       "      <td>0.000000</td>\n",
       "      <td>0.3070</td>\n",
       "      <td>0.216</td>\n",
       "      <td>93.004</td>\n",
       "      <td>235320</td>\n",
       "      <td>4</td>\n",
       "    </tr>\n",
       "    <tr>\n",
       "      <th>2</th>\n",
       "      <td>2</td>\n",
       "      <td>Foster The People</td>\n",
       "      <td>Pumped Up Kicks</td>\n",
       "      <td>7w87IxuO7BDcJ3YUqCyMTT</td>\n",
       "      <td>82</td>\n",
       "      <td>0.733</td>\n",
       "      <td>0.710</td>\n",
       "      <td>5</td>\n",
       "      <td>-5.849</td>\n",
       "      <td>0</td>\n",
       "      <td>0.0292</td>\n",
       "      <td>0.14500</td>\n",
       "      <td>0.115000</td>\n",
       "      <td>0.0956</td>\n",
       "      <td>0.965</td>\n",
       "      <td>127.975</td>\n",
       "      <td>239600</td>\n",
       "      <td>4</td>\n",
       "    </tr>\n",
       "    <tr>\n",
       "      <th>3</th>\n",
       "      <td>3</td>\n",
       "      <td>Adele</td>\n",
       "      <td>Someone Like You</td>\n",
       "      <td>4kflIGfjdZJW4ot2ioixTB</td>\n",
       "      <td>78</td>\n",
       "      <td>0.559</td>\n",
       "      <td>0.330</td>\n",
       "      <td>9</td>\n",
       "      <td>-8.251</td>\n",
       "      <td>1</td>\n",
       "      <td>0.0285</td>\n",
       "      <td>0.89200</td>\n",
       "      <td>0.000000</td>\n",
       "      <td>0.0975</td>\n",
       "      <td>0.285</td>\n",
       "      <td>135.109</td>\n",
       "      <td>285040</td>\n",
       "      <td>4</td>\n",
       "    </tr>\n",
       "    <tr>\n",
       "      <th>4</th>\n",
       "      <td>4</td>\n",
       "      <td>Gotye</td>\n",
       "      <td>Somebody That I Used To Know</td>\n",
       "      <td>4wCmqSrbyCgxEXROQE6vtV</td>\n",
       "      <td>74</td>\n",
       "      <td>0.864</td>\n",
       "      <td>0.495</td>\n",
       "      <td>0</td>\n",
       "      <td>-7.036</td>\n",
       "      <td>1</td>\n",
       "      <td>0.0370</td>\n",
       "      <td>0.59100</td>\n",
       "      <td>0.000133</td>\n",
       "      <td>0.0992</td>\n",
       "      <td>0.720</td>\n",
       "      <td>129.062</td>\n",
       "      <td>244973</td>\n",
       "      <td>4</td>\n",
       "    </tr>\n",
       "  </tbody>\n",
       "</table>\n",
       "</div>"
      ],
      "text/plain": [
       "   Unnamed: 0        artist_name                    track_name  \\\n",
       "0           0          Grouplove                   Tongue Tied   \n",
       "1           1            J. Cole                      Work Out   \n",
       "2           2  Foster The People               Pumped Up Kicks   \n",
       "3           3              Adele              Someone Like You   \n",
       "4           4              Gotye  Somebody That I Used To Know   \n",
       "\n",
       "                 track_id  popularity  danceability  energy  key  loudness  \\\n",
       "0  0GO8y8jQk1PkHzS31d699N          77         0.560   0.936    3    -5.835   \n",
       "1  2wAJTrFhCnQyNSD3oUgTZO          77         0.831   0.427    2    -6.903   \n",
       "2  7w87IxuO7BDcJ3YUqCyMTT          82         0.733   0.710    5    -5.849   \n",
       "3  4kflIGfjdZJW4ot2ioixTB          78         0.559   0.330    9    -8.251   \n",
       "4  4wCmqSrbyCgxEXROQE6vtV          74         0.864   0.495    0    -7.036   \n",
       "\n",
       "   mode  speechiness  acousticness  instrumentalness  liveness  valence  \\\n",
       "0     1       0.0439       0.00847          0.000000    0.1610    0.371   \n",
       "1     1       0.1060       0.05310          0.000000    0.3070    0.216   \n",
       "2     0       0.0292       0.14500          0.115000    0.0956    0.965   \n",
       "3     1       0.0285       0.89200          0.000000    0.0975    0.285   \n",
       "4     1       0.0370       0.59100          0.000133    0.0992    0.720   \n",
       "\n",
       "     tempo  duration_ms  time_signature  \n",
       "0  112.960       218013               4  \n",
       "1   93.004       235320               4  \n",
       "2  127.975       239600               4  \n",
       "3  135.109       285040               4  \n",
       "4  129.062       244973               4  "
      ]
     },
     "execution_count": 23,
     "metadata": {},
     "output_type": "execute_result"
    }
   ],
   "source": [
    "df.head()"
   ]
  },
  {
   "cell_type": "code",
   "execution_count": 19,
   "metadata": {},
   "outputs": [],
   "source": [
    "from sklearn.neighbors import NearestNeighbors"
   ]
  },
  {
   "cell_type": "code",
   "execution_count": 51,
   "metadata": {},
   "outputs": [
    {
     "data": {
      "text/plain": [
       "Index(['popularity', 'danceability', 'energy', 'key', 'loudness', 'mode',\n",
       "       'speechiness', 'acousticness', 'instrumentalness', 'liveness',\n",
       "       'valence', 'tempo', 'duration_ms', 'time_signature'],\n",
       "      dtype='object')"
      ]
     },
     "execution_count": 51,
     "metadata": {},
     "output_type": "execute_result"
    }
   ],
   "source": [
    "df.columns[4:]"
   ]
  },
  {
   "cell_type": "code",
   "execution_count": 52,
   "metadata": {},
   "outputs": [
    {
     "data": {
      "text/plain": [
       "array([82, 0.733, 0.71, 5, -5.849, 0, 0.0292, 0.145, 0.115, 0.0956, 0.965,\n",
       "       127.975, 239600, 4], dtype=object)"
      ]
     },
     "execution_count": 52,
     "metadata": {},
     "output_type": "execute_result"
    }
   ],
   "source": [
    "df.iloc[2, 4:].to_numpy()"
   ]
  },
  {
   "cell_type": "code",
   "execution_count": 78,
   "metadata": {},
   "outputs": [],
   "source": [
    "def find_similar_song(track_id): \n",
    "    #Instantiate \n",
    "    knn = NearestNeighbors(n_neighbors=20)\n",
    "    knn.fit(df[df.columns[4:]])\n",
    "    obs = df[df['track_id'] == track_id].index\n",
    "    series = df.iloc[obs, 4:].to_numpy().reshape(1, -1)\n",
    "    neighbors = knn.kneighbors(series)\n",
    "    new_obs = neighbors[1][0][5:20]\n",
    "    return list(df.loc[new_obs, 'track_id'])"
   ]
  },
  {
   "cell_type": "code",
   "execution_count": 79,
   "metadata": {},
   "outputs": [
    {
     "data": {
      "text/plain": [
       "['6u0x5ad9ewHvs3z6u9Oe3c',\n",
       " '0NLaJkNWZARgae0ojQOOvi',\n",
       " '32r9L69MnYI08bKeRXaiCq',\n",
       " '5qm8ISXOho1EvFj6e4f4bG',\n",
       " '4gdx3sBwgfZTZAqxKzQVTA',\n",
       " '165lX6DbMhTzqODVZKLmkm',\n",
       " '0UeYCHOETPfai02uskjJ3x',\n",
       " '72R0X0h8YaxYNpegeoOl0M',\n",
       " '0wHNrrefyaeVewm4NxjxrX',\n",
       " '0h41C1evXW6n96bB2GDZJS',\n",
       " '3L2YOO6dDiB91M1AbQ0CCR',\n",
       " '5Cz3z2cS7vOafvQHgxbOjn',\n",
       " '6LxSe8YmdPxy095Ux6znaQ',\n",
       " '5UVBumEwdUnzvqxrXOYLFA',\n",
       " '69QlYqNJeZG14R4an2aoJv']"
      ]
     },
     "execution_count": 79,
     "metadata": {},
     "output_type": "execute_result"
    }
   ],
   "source": [
    "find_similar_song('2wAJTrFhCnQyNSD3oUgTZO')"
   ]
  },
  {
   "cell_type": "code",
   "execution_count": null,
   "metadata": {},
   "outputs": [],
   "source": []
  }
 ],
 "metadata": {
  "kernelspec": {
   "display_name": "Spotify",
   "language": "python",
   "name": "spotify"
  },
  "language_info": {
   "codemirror_mode": {
    "name": "ipython",
    "version": 3
   },
   "file_extension": ".py",
   "mimetype": "text/x-python",
   "name": "python",
   "nbconvert_exporter": "python",
   "pygments_lexer": "ipython3",
   "version": "3.7.6"
  }
 },
 "nbformat": 4,
 "nbformat_minor": 4
}
